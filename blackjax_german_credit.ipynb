{
 "cells": [
  {
   "cell_type": "code",
   "execution_count": 1,
   "id": "a03f924e",
   "metadata": {},
   "outputs": [
    {
     "name": "stderr",
     "output_type": "stream",
     "text": [
      "/opt/homebrew/Caskroom/miniforge/base/envs/jax_cpu/lib/python3.9/site-packages/jax/_src/lib/__init__.py:32: UserWarning: JAX on Mac ARM machines is experimental and minimally tested. Please see https://github.com/google/jax/issues/5501 in the event of problems.\n",
      "  warnings.warn(\"JAX on Mac ARM machines is experimental and minimally tested. \"\n",
      "WARNING:absl:No GPU/TPU found, falling back to CPU. (Set TF_CPP_MIN_LOG_LEVEL=0 and rerun for more info.)\n"
     ]
    }
   ],
   "source": [
    "import sys\n",
    "sys.path.insert(0, '/Users/richardgrumitt/Documents/blackjax/')\n",
    "import blackjax\n",
    "import arviz as az\n",
    "import matplotlib\n",
    "import matplotlib.pyplot as plt\n",
    "import numpy as np\n",
    "import seaborn as sns\n",
    "import pandas as pd\n",
    "\n",
    "import scipy\n",
    "from scipy.stats import multivariate_normal as n_mvn\n",
    "import corner\n",
    "import torch\n",
    "import warnings\n",
    "import pickle\n",
    "\n",
    "import jax\n",
    "import jax.numpy as jnp\n",
    "\n",
    "import getdist\n",
    "from getdist import plots, MCSamples\n",
    "\n",
    "seed=1234\n",
    "np.random.seed(seed)\n",
    "rng_key = jax.random.PRNGKey(seed)"
   ]
  },
  {
   "cell_type": "markdown",
   "id": "24a42861",
   "metadata": {},
   "source": [
    "# German Credit"
   ]
  },
  {
   "cell_type": "code",
   "execution_count": 2,
   "id": "8f0dbc13",
   "metadata": {},
   "outputs": [],
   "source": [
    "data = np.genfromtxt(\"./fiducial_samples/german.data-numeric\")\n",
    "x = data[:, :-1]\n",
    "y = (data[:, -1] - 1).astype(np.int32)\n",
    "\n",
    "x_min = np.min(x, 0, keepdims=True)\n",
    "x_max = np.max(x, 0, keepdims=True)\n",
    "\n",
    "x /= (x_max - x_min)\n",
    "x = 2.0 * x - 1.0\n",
    "\n",
    "x = np.concatenate([x, np.ones([x.shape[0], 1])], -1)\n",
    "\n",
    "x = jnp.asarray(x, dtype=jnp.float32)\n",
    "y = jnp.asarray(y, dtype=jnp.float32)"
   ]
  },
  {
   "cell_type": "code",
   "execution_count": 13,
   "id": "ddb45741",
   "metadata": {},
   "outputs": [
    {
     "name": "stdout",
     "output_type": "stream",
     "text": [
      "[-629.21674]\n"
     ]
    }
   ],
   "source": [
    "n = x.shape[0]\n",
    "d = x.shape[1]\n",
    "n_dim_data = d\n",
    "\n",
    "def gamma_log_prob(x, alpha=0.5, beta=0.5):\n",
    "    return (alpha - 1) * jnp.log(x) - beta * x\n",
    "\n",
    "def log_like(params, data=y, covariates=x):\n",
    "    \n",
    "    tau = jnp.exp(params[..., 0])\n",
    "    lam = jnp.exp(params[..., 1:d+1])\n",
    "    beta = params[..., d+1:]\n",
    "    \n",
    "    f = jnp.dot(covariates, (tau * beta * lam).T)\n",
    "    \n",
    "    return jnp.sum(jax.scipy.stats.bernoulli.logpmf(k=data, p=jax.scipy.special.expit(f))).squeeze()\n",
    "\n",
    "def log_prior(params):\n",
    "    \n",
    "    tau = jnp.exp(params[..., 0])\n",
    "    lam = jnp.exp(params[..., 1:d+1])\n",
    "    beta = params[..., d+1:]\n",
    "    logp_tau = jnp.log(tau) + jax.scipy.stats.gamma.logpdf(x=tau, a=0.5, scale=1.0/0.5)\n",
    "    logp_lam = jnp.sum(jnp.log(lam) + jax.scipy.stats.gamma.logpdf(x=lam, a=0.5, scale=1.0/0.5))\n",
    "    logp_beta = jax.scipy.stats.multivariate_normal.logpdf(beta, mean=jnp.zeros(d), cov=jnp.eye(d))\n",
    "    \n",
    "    return (logp_tau + logp_lam + logp_beta).squeeze()\n",
    "    \n",
    "def prior_rvs(key, N):\n",
    "    \n",
    "    tau = 0.5 * jax.random.gamma(key, a=0.5, shape=(N,))\n",
    "    lam = 0.5 * jax.random.gamma(key, a=0.5, shape=(N, d))\n",
    "    beta = jax.random.normal(key, shape=(N, d))\n",
    "    \n",
    "    return jnp.concatenate([jnp.log(tau).reshape(N, 1), jnp.log(lam), beta], axis=1)\n",
    "\n",
    "\n",
    "vlog_prior = jax.vmap(log_prior)\n",
    "vlog_like = jax.vmap(log_like)\n",
    "target_logp = lambda x: log_like(x) + log_prior(x)\n",
    "\n",
    "initial_position = prior_rvs(rng_key, 1)\n",
    "\n",
    "print(vlog_like(initial_position))\n",
    "#initial_state = nuts.init(initial_position)"
   ]
  },
  {
   "cell_type": "code",
   "execution_count": null,
   "id": "6a1aa9e0",
   "metadata": {},
   "outputs": [],
   "source": [
    "warmup = blackjax.window_adaptation(\n",
    "    blackjax.nuts,\n",
    "    target_logp,\n",
    "    1000,\n",
    ")\n",
    "state, kernel, _ = warmup.run(\n",
    "    rng_key,\n",
    "    initial_position,\n",
    ")"
   ]
  },
  {
   "cell_type": "code",
   "execution_count": null,
   "id": "f6c1cc3a",
   "metadata": {},
   "outputs": [],
   "source": [
    "def inference_loop(rng_key, kernel, initial_state, num_samples):\n",
    "    @jax.jit\n",
    "    def one_step(state, rng_key):\n",
    "        state, _ = kernel(rng_key, state)\n",
    "        return state, state\n",
    "\n",
    "    keys = jax.random.split(rng_key, num_samples)\n",
    "    _, states = jax.lax.scan(one_step, initial_state, keys)\n",
    "\n",
    "    return states"
   ]
  },
  {
   "cell_type": "code",
   "execution_count": null,
   "id": "39c4b640",
   "metadata": {},
   "outputs": [],
   "source": [
    "samples = inference_loop(rng_key, kernel, state, 1_000)"
   ]
  }
 ],
 "metadata": {
  "kernelspec": {
   "display_name": "Python 3 (ipykernel)",
   "language": "python",
   "name": "python3"
  },
  "language_info": {
   "codemirror_mode": {
    "name": "ipython",
    "version": 3
   },
   "file_extension": ".py",
   "mimetype": "text/x-python",
   "name": "python",
   "nbconvert_exporter": "python",
   "pygments_lexer": "ipython3",
   "version": "3.9.10"
  }
 },
 "nbformat": 4,
 "nbformat_minor": 5
}
