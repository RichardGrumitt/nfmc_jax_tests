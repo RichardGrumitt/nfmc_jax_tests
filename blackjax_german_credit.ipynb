{
 "cells": [
  {
   "cell_type": "code",
   "execution_count": 1,
   "id": "a03f924e",
   "metadata": {},
   "outputs": [
    {
     "name": "stderr",
     "output_type": "stream",
     "text": [
      "/opt/homebrew/Caskroom/miniforge/base/envs/jax_cpu/lib/python3.9/site-packages/jax/_src/lib/__init__.py:32: UserWarning: JAX on Mac ARM machines is experimental and minimally tested. Please see https://github.com/google/jax/issues/5501 in the event of problems.\n",
      "  warnings.warn(\"JAX on Mac ARM machines is experimental and minimally tested. \"\n",
      "WARNING:absl:No GPU/TPU found, falling back to CPU. (Set TF_CPP_MIN_LOG_LEVEL=0 and rerun for more info.)\n"
     ]
    }
   ],
   "source": [
    "import blackjax\n",
    "import arviz as az\n",
    "import matplotlib\n",
    "import matplotlib.pyplot as plt\n",
    "import numpy as np\n",
    "import seaborn as sns\n",
    "import pandas as pd\n",
    "\n",
    "import scipy\n",
    "from scipy.stats import multivariate_normal as n_mvn\n",
    "import corner\n",
    "import torch\n",
    "import warnings\n",
    "import pickle\n",
    "\n",
    "import jax\n",
    "import jax.numpy as jnp\n",
    "\n",
    "import getdist\n",
    "from getdist import plots, MCSamples\n",
    "\n",
    "seed=1234\n",
    "np.random.seed(seed)\n",
    "rng_key = jax.random.PRNGKey(seed)"
   ]
  },
  {
   "cell_type": "markdown",
   "id": "24a42861",
   "metadata": {},
   "source": [
    "# German Credit"
   ]
  },
  {
   "cell_type": "code",
   "execution_count": 2,
   "id": "8f0dbc13",
   "metadata": {},
   "outputs": [],
   "source": [
    "data = np.genfromtxt(\"./fiducial_samples/german.data-numeric\")\n",
    "x = data[:, :-1]\n",
    "y = (data[:, -1] - 1).astype(np.int32)\n",
    "\n",
    "x_min = np.min(x, 0, keepdims=True)\n",
    "x_max = np.max(x, 0, keepdims=True)\n",
    "\n",
    "x /= (x_max - x_min)\n",
    "x = 2.0 * x - 1.0\n",
    "\n",
    "x = np.concatenate([x, np.ones([x.shape[0], 1])], -1)\n",
    "\n",
    "x = torch.tensor(x, dtype=torch.float32)\n",
    "y = torch.tensor(y, dtype=torch.float32)"
   ]
  },
  {
   "cell_type": "code",
   "execution_count": 4,
   "id": "ddb45741",
   "metadata": {},
   "outputs": [],
   "source": [
    "n = x.shape[0]\n",
    "d = x.shape[1]\n",
    "\n",
    "def log_like(params, data=y, covariates=x):\n",
    "    \n",
    "    log_tau = params[0]\n",
    "    log_lam = params[1:d+1]\n",
    "    beta = params[d+1:]\n",
    "    \n",
    "    f = jnp.dot(covariates, jnp.exp(log_tau) * beta * jnp.exp(log_lam))\n",
    "    \n",
    "    return jnp.sum(jax.scipy.stats.bernoulli.logpmf(k=data, p=jax.scipy.special.expit(f)))\n",
    "\n",
    "def log_prior(params):\n",
    "    \n",
    "    log_tau = params[0]\n",
    "    log_lam = params[1:d+1]\n",
    "    beta = params[d+1:]\n",
    "    logp_tau = log_tau + jax.scipy.stats.gamma.logpdf(x=jnp.exp(log_tau), a=0.5, scale=1.0/0.5)\n",
    "    logp_lam = jnp.sum(log_lam + jax.scipy.stats.gamma.logpdf(x=jnp.exp(log_lam), a=0.5, scale=1.0/0.5))\n",
    "    logp_beta = jax.scipy.stats.multivariate_normal.logpdf(beta, mean=jnp.zeros(d), cov=jnp.eye(d))\n",
    "    \n",
    "    return logp_tau + logp_lam + logp_beta\n",
    "    \n",
    "def prior_rvs(key, N):\n",
    "    \n",
    "    tau = 0.5 * jax.random.gamma(key, a=0.5, shape=(N,))\n",
    "    lam = 0.5 * jax.random.gamma(key, a=0.5, shape=(N, d))\n",
    "    beta = jax.random.normal(key, shape=(N, d))\n",
    "    \n",
    "    return jnp.concatenate([jnp.log(tau).reshape(N, 1), jnp.log(lam), beta], axis=1)\n",
    "\n",
    "target_logp = lambda x: log_like(x) + log_prior(x)\n",
    "log_like_grad = jax.grad(log_like)\n",
    "log_prior_grad = jax.grad(log_prior)\n",
    "\n",
    "initial_position = prior_rvs(rng_key, 1)\n",
    "#initial_state = nuts.init(initial_position)"
   ]
  },
  {
   "cell_type": "code",
   "execution_count": 5,
   "id": "6a1aa9e0",
   "metadata": {},
   "outputs": [
    {
     "ename": "AttributeError",
     "evalue": "module 'blackjax' has no attribute 'window_adaptation'",
     "output_type": "error",
     "traceback": [
      "\u001b[0;31m---------------------------------------------------------------------------\u001b[0m",
      "\u001b[0;31mAttributeError\u001b[0m                            Traceback (most recent call last)",
      "Input \u001b[0;32mIn [5]\u001b[0m, in \u001b[0;36m<module>\u001b[0;34m\u001b[0m\n\u001b[0;32m----> 1\u001b[0m warmup \u001b[38;5;241m=\u001b[39m \u001b[43mblackjax\u001b[49m\u001b[38;5;241;43m.\u001b[39;49m\u001b[43mwindow_adaptation\u001b[49m(\n\u001b[1;32m      2\u001b[0m     blackjax\u001b[38;5;241m.\u001b[39mnuts,\n\u001b[1;32m      3\u001b[0m     target_logp,\n\u001b[1;32m      4\u001b[0m     \u001b[38;5;241m1000\u001b[39m,\n\u001b[1;32m      5\u001b[0m )\n\u001b[1;32m      6\u001b[0m state, kernel, _ \u001b[38;5;241m=\u001b[39m warmup\u001b[38;5;241m.\u001b[39mrun(\n\u001b[1;32m      7\u001b[0m     rng_key,\n\u001b[1;32m      8\u001b[0m     initial_position,\n\u001b[1;32m      9\u001b[0m )\n",
      "\u001b[0;31mAttributeError\u001b[0m: module 'blackjax' has no attribute 'window_adaptation'"
     ]
    }
   ],
   "source": [
    "warmup = blackjax.window_adaptation(\n",
    "    blackjax.nuts,\n",
    "    target_logp,\n",
    "    1000,\n",
    ")\n",
    "state, kernel, _ = warmup.run(\n",
    "    rng_key,\n",
    "    initial_position,\n",
    ")"
   ]
  },
  {
   "cell_type": "code",
   "execution_count": null,
   "id": "f6c1cc3a",
   "metadata": {},
   "outputs": [],
   "source": [
    "def inference_loop(rng_key, kernel, initial_state, num_samples):\n",
    "    @jax.jit\n",
    "    def one_step(state, rng_key):\n",
    "        state, _ = kernel(rng_key, state)\n",
    "        return state, state\n",
    "\n",
    "    keys = jax.random.split(rng_key, num_samples)\n",
    "    _, states = jax.lax.scan(one_step, initial_state, keys)\n",
    "\n",
    "    return states"
   ]
  },
  {
   "cell_type": "code",
   "execution_count": null,
   "id": "39c4b640",
   "metadata": {},
   "outputs": [],
   "source": [
    "samples = inference_loop(rng_key, kernel, state, 1_000)"
   ]
  }
 ],
 "metadata": {
  "kernelspec": {
   "display_name": "Python 3 (ipykernel)",
   "language": "python",
   "name": "python3"
  },
  "language_info": {
   "codemirror_mode": {
    "name": "ipython",
    "version": 3
   },
   "file_extension": ".py",
   "mimetype": "text/x-python",
   "name": "python",
   "nbconvert_exporter": "python",
   "pygments_lexer": "ipython3",
   "version": "3.9.10"
  }
 },
 "nbformat": 4,
 "nbformat_minor": 5
}
