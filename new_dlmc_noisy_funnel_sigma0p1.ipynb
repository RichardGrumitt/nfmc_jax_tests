{
 "cells": [
  {
   "cell_type": "code",
   "execution_count": 1,
   "id": "a03f924e",
   "metadata": {},
   "outputs": [
    {
     "name": "stderr",
     "output_type": "stream",
     "text": [
      "/opt/homebrew/Caskroom/miniforge/base/envs/jax_cpu/lib/python3.9/site-packages/jax/_src/lib/__init__.py:32: UserWarning: JAX on Mac ARM machines is experimental and minimally tested. Please see https://github.com/google/jax/issues/5501 in the event of problems.\n",
      "  warnings.warn(\"JAX on Mac ARM machines is experimental and minimally tested. \"\n"
     ]
    }
   ],
   "source": [
    "import sys\n",
    "# Change to wherever you've copied the repo.\n",
    "sys.path.insert(1, '/Users/richardgrumitt/Documents/berkeley/NFMC_Jax/')\n",
    "import nfmc_jax\n",
    "import arviz as az\n",
    "import matplotlib\n",
    "import matplotlib.pyplot as plt\n",
    "import numpy as np\n",
    "import seaborn as sns\n",
    "import pandas as pd\n",
    "\n",
    "import scipy\n",
    "from scipy.stats import multivariate_normal as n_mvn\n",
    "import corner\n",
    "import torch\n",
    "import warnings\n",
    "import pickle\n",
    "\n",
    "import torch.distributions\n",
    "from nfmc_jax.DLA.base import PPDLMC, LatentDLA\n",
    "from nfmc_jax.DLA.posterior import TorchPosterior\n",
    "from nfmc_jax.DLA.debug import MultiStageDebugger\n",
    "from nfmc_jax.flows.base import SINFInterface, RealNVPInterface, MAFInterface, RQNSFInterface, PPInterface\n",
    "from nfmc_jax.utils.torch_distributions import gaussian_log_prob, Funnel\n",
    "\n",
    "import getdist\n",
    "from getdist import plots, MCSamples\n",
    "\n",
    "seed=1234\n",
    "np.random.seed(seed)"
   ]
  },
  {
   "cell_type": "markdown",
   "id": "24a42861",
   "metadata": {},
   "source": [
    "# Sampling a 100-d noisy funnel"
   ]
  },
  {
   "cell_type": "code",
   "execution_count": 55,
   "id": "8d52027f",
   "metadata": {},
   "outputs": [
    {
     "name": "stdout",
     "output_type": "stream",
     "text": [
      "torch.Size([100])\n"
     ]
    }
   ],
   "source": [
    "D = 100 # Latent variable dimensions (not NF latent space)\n",
    "a = 3.\n",
    "b = 0.5\n",
    "\n",
    "torch.manual_seed(0)\n",
    "\n",
    "theta_sample = 0\n",
    "z_sample = torch.randn((D,))\n",
    "z_sample = z_sample * np.exp(b * theta_sample)\n",
    "data_sample = torch.distributions.MultivariateNormal(loc=z_sample, \n",
    "                                                     covariance_matrix=0.1**2*torch.eye(D)).sample()\n",
    "print(data_sample.shape)\n",
    "\n",
    "def log_like(x, data=data_sample):\n",
    "    theta = x[:, 0]\n",
    "    z = x[:, 1:]\n",
    "    return torch.distributions.MultivariateNormal(loc=data,\n",
    "                                                  covariance_matrix=0.1**2*torch.eye(D)).log_prob(z)\n",
    "    \n",
    "def log_prior(x):\n",
    "    theta = x[:, 0]\n",
    "    z = x[:, 1:]\n",
    "    log_pi_theta = torch.distributions.Normal(loc=0, scale=a).log_prob(theta)\n",
    "    mu_z = torch.zeros((z.shape[0], D))\n",
    "    sd_z = torch.exp(b * theta).reshape(z.shape[0], 1) * torch.ones((z.shape[0], D))\n",
    "    log_pi_z = torch.sum(torch.distributions.Normal(loc=mu_z, scale=sd_z).log_prob(z), dim=1)\n",
    "    return log_pi_theta + log_pi_z\n",
    "\n",
    "def prior_rvs(N):\n",
    "    n01 = torch.randn((N, D + 1))\n",
    "    theta = n01[:, 0] * a\n",
    "    z = torch.zeros((N, D))\n",
    "    for i in range(N):\n",
    "        z[i, :] = n01[i, 1:] * torch.exp(b * theta[i])\n",
    "    x = torch.cat([theta.reshape(N, 1), z], dim=1)\n",
    "    return x\n",
    "\n",
    "posterior = TorchPosterior(log_likelihood = lambda x: log_like(x),\n",
    "                           log_prior = lambda x: log_prior(x))\n",
    "\n",
    "initial_samples = prior_rvs(20)"
   ]
  },
  {
   "cell_type": "code",
   "execution_count": 56,
   "id": "e00f8262",
   "metadata": {},
   "outputs": [
    {
     "data": {
      "text/plain": [
       "<seaborn.axisgrid.PairGrid at 0x288984c40>"
      ]
     },
     "execution_count": 56,
     "metadata": {},
     "output_type": "execute_result"
    },
    {
     "data": {
      "image/png": "[encoded data removed]",
      "text/plain": [
       "<Figure size 360x360 with 6 Axes>"
      ]
     },
     "metadata": {
      "needs_background": "light"
     },
     "output_type": "display_data"
    }
   ],
   "source": [
    "xdf = initial_samples[:, 0:2]\n",
    "df = pd.DataFrame(xdf)\n",
    "sns.pairplot(df)"
   ]
  },
  {
   "cell_type": "code",
   "execution_count": 54,
   "id": "62eee88c",
   "metadata": {},
   "outputs": [
    {
     "ename": "FileNotFoundError",
     "evalue": "[Errno 2] No such file or directory: './fiducial_samples/noisy_funnel_100zD_sigma0p1.csv'",
     "output_type": "error",
     "traceback": [
      "\u001b[0;31m---------------------------------------------------------------------------\u001b[0m",
      "\u001b[0;31mFileNotFoundError\u001b[0m                         Traceback (most recent call last)",
      "Input \u001b[0;32mIn [54]\u001b[0m, in \u001b[0;36m<cell line: 1>\u001b[0;34m()\u001b[0m\n\u001b[0;32m----> 1\u001b[0m truth_df \u001b[38;5;241m=\u001b[39m \u001b[43mpd\u001b[49m\u001b[38;5;241;43m.\u001b[39;49m\u001b[43mread_csv\u001b[49m\u001b[43m(\u001b[49m\u001b[38;5;124;43m'\u001b[39;49m\u001b[38;5;124;43m./fiducial_samples/noisy_funnel_100zD_sigma0p1.csv\u001b[39;49m\u001b[38;5;124;43m'\u001b[39;49m\u001b[43m,\u001b[49m\u001b[43m \u001b[49m\u001b[43mindex_col\u001b[49m\u001b[38;5;241;43m=\u001b[39;49m\u001b[38;5;241;43m0\u001b[39;49m\u001b[43m)\u001b[49m\n\u001b[1;32m      3\u001b[0m truth_x \u001b[38;5;241m=\u001b[39m np\u001b[38;5;241m.\u001b[39mempty((\u001b[38;5;241m2000\u001b[39m, D \u001b[38;5;241m+\u001b[39m \u001b[38;5;241m1\u001b[39m))\n\u001b[1;32m      4\u001b[0m truth_x[:, \u001b[38;5;241m0\u001b[39m] \u001b[38;5;241m=\u001b[39m truth_df[\u001b[38;5;124m\"\u001b[39m\u001b[38;5;124m(\u001b[39m\u001b[38;5;124m'\u001b[39m\u001b[38;5;124mposterior\u001b[39m\u001b[38;5;124m'\u001b[39m\u001b[38;5;124m, \u001b[39m\u001b[38;5;124m'\u001b[39m\u001b[38;5;124mtheta\u001b[39m\u001b[38;5;124m'\u001b[39m\u001b[38;5;124m)\u001b[39m\u001b[38;5;124m\"\u001b[39m]\n",
      "File \u001b[0;32m/opt/homebrew/Caskroom/miniforge/base/envs/jax_cpu/lib/python3.9/site-packages/pandas/util/_decorators.py:311\u001b[0m, in \u001b[0;36mdeprecate_nonkeyword_arguments.<locals>.decorate.<locals>.wrapper\u001b[0;34m(*args, **kwargs)\u001b[0m\n\u001b[1;32m    305\u001b[0m \u001b[38;5;28;01mif\u001b[39;00m \u001b[38;5;28mlen\u001b[39m(args) \u001b[38;5;241m>\u001b[39m num_allow_args:\n\u001b[1;32m    306\u001b[0m     warnings\u001b[38;5;241m.\u001b[39mwarn(\n\u001b[1;32m    307\u001b[0m         msg\u001b[38;5;241m.\u001b[39mformat(arguments\u001b[38;5;241m=\u001b[39marguments),\n\u001b[1;32m    308\u001b[0m         \u001b[38;5;167;01mFutureWarning\u001b[39;00m,\n\u001b[1;32m    309\u001b[0m         stacklevel\u001b[38;5;241m=\u001b[39mstacklevel,\n\u001b[1;32m    310\u001b[0m     )\n\u001b[0;32m--> 311\u001b[0m \u001b[38;5;28;01mreturn\u001b[39;00m \u001b[43mfunc\u001b[49m\u001b[43m(\u001b[49m\u001b[38;5;241;43m*\u001b[39;49m\u001b[43margs\u001b[49m\u001b[43m,\u001b[49m\u001b[43m \u001b[49m\u001b[38;5;241;43m*\u001b[39;49m\u001b[38;5;241;43m*\u001b[39;49m\u001b[43mkwargs\u001b[49m\u001b[43m)\u001b[49m\n",
      "File \u001b[0;32m/opt/homebrew/Caskroom/miniforge/base/envs/jax_cpu/lib/python3.9/site-packages/pandas/io/parsers/readers.py:680\u001b[0m, in \u001b[0;36mread_csv\u001b[0;34m(filepath_or_buffer, sep, delimiter, header, names, index_col, usecols, squeeze, prefix, mangle_dupe_cols, dtype, engine, converters, true_values, false_values, skipinitialspace, skiprows, skipfooter, nrows, na_values, keep_default_na, na_filter, verbose, skip_blank_lines, parse_dates, infer_datetime_format, keep_date_col, date_parser, dayfirst, cache_dates, iterator, chunksize, compression, thousands, decimal, lineterminator, quotechar, quoting, doublequote, escapechar, comment, encoding, encoding_errors, dialect, error_bad_lines, warn_bad_lines, on_bad_lines, delim_whitespace, low_memory, memory_map, float_precision, storage_options)\u001b[0m\n\u001b[1;32m    665\u001b[0m kwds_defaults \u001b[38;5;241m=\u001b[39m _refine_defaults_read(\n\u001b[1;32m    666\u001b[0m     dialect,\n\u001b[1;32m    667\u001b[0m     delimiter,\n\u001b[0;32m   (...)\u001b[0m\n\u001b[1;32m    676\u001b[0m     defaults\u001b[38;5;241m=\u001b[39m{\u001b[38;5;124m\"\u001b[39m\u001b[38;5;124mdelimiter\u001b[39m\u001b[38;5;124m\"\u001b[39m: \u001b[38;5;124m\"\u001b[39m\u001b[38;5;124m,\u001b[39m\u001b[38;5;124m\"\u001b[39m},\n\u001b[1;32m    677\u001b[0m )\n\u001b[1;32m    678\u001b[0m kwds\u001b[38;5;241m.\u001b[39mupdate(kwds_defaults)\n\u001b[0;32m--> 680\u001b[0m \u001b[38;5;28;01mreturn\u001b[39;00m \u001b[43m_read\u001b[49m\u001b[43m(\u001b[49m\u001b[43mfilepath_or_buffer\u001b[49m\u001b[43m,\u001b[49m\u001b[43m \u001b[49m\u001b[43mkwds\u001b[49m\u001b[43m)\u001b[49m\n",
      "File \u001b[0;32m/opt/homebrew/Caskroom/miniforge/base/envs/jax_cpu/lib/python3.9/site-packages/pandas/io/parsers/readers.py:575\u001b[0m, in \u001b[0;36m_read\u001b[0;34m(filepath_or_buffer, kwds)\u001b[0m\n\u001b[1;32m    572\u001b[0m _validate_names(kwds\u001b[38;5;241m.\u001b[39mget(\u001b[38;5;124m\"\u001b[39m\u001b[38;5;124mnames\u001b[39m\u001b[38;5;124m\"\u001b[39m, \u001b[38;5;28;01mNone\u001b[39;00m))\n\u001b[1;32m    574\u001b[0m \u001b[38;5;66;03m# Create the parser.\u001b[39;00m\n\u001b[0;32m--> 575\u001b[0m parser \u001b[38;5;241m=\u001b[39m \u001b[43mTextFileReader\u001b[49m\u001b[43m(\u001b[49m\u001b[43mfilepath_or_buffer\u001b[49m\u001b[43m,\u001b[49m\u001b[43m \u001b[49m\u001b[38;5;241;43m*\u001b[39;49m\u001b[38;5;241;43m*\u001b[39;49m\u001b[43mkwds\u001b[49m\u001b[43m)\u001b[49m\n\u001b[1;32m    577\u001b[0m \u001b[38;5;28;01mif\u001b[39;00m chunksize \u001b[38;5;129;01mor\u001b[39;00m iterator:\n\u001b[1;32m    578\u001b[0m     \u001b[38;5;28;01mreturn\u001b[39;00m parser\n",
      "File \u001b[0;32m/opt/homebrew/Caskroom/miniforge/base/envs/jax_cpu/lib/python3.9/site-packages/pandas/io/parsers/readers.py:933\u001b[0m, in \u001b[0;36mTextFileReader.__init__\u001b[0;34m(self, f, engine, **kwds)\u001b[0m\n\u001b[1;32m    930\u001b[0m     \u001b[38;5;28mself\u001b[39m\u001b[38;5;241m.\u001b[39moptions[\u001b[38;5;124m\"\u001b[39m\u001b[38;5;124mhas_index_names\u001b[39m\u001b[38;5;124m\"\u001b[39m] \u001b[38;5;241m=\u001b[39m kwds[\u001b[38;5;124m\"\u001b[39m\u001b[38;5;124mhas_index_names\u001b[39m\u001b[38;5;124m\"\u001b[39m]\n\u001b[1;32m    932\u001b[0m \u001b[38;5;28mself\u001b[39m\u001b[38;5;241m.\u001b[39mhandles: IOHandles \u001b[38;5;241m|\u001b[39m \u001b[38;5;28;01mNone\u001b[39;00m \u001b[38;5;241m=\u001b[39m \u001b[38;5;28;01mNone\u001b[39;00m\n\u001b[0;32m--> 933\u001b[0m \u001b[38;5;28mself\u001b[39m\u001b[38;5;241m.\u001b[39m_engine \u001b[38;5;241m=\u001b[39m \u001b[38;5;28;43mself\u001b[39;49m\u001b[38;5;241;43m.\u001b[39;49m\u001b[43m_make_engine\u001b[49m\u001b[43m(\u001b[49m\u001b[43mf\u001b[49m\u001b[43m,\u001b[49m\u001b[43m \u001b[49m\u001b[38;5;28;43mself\u001b[39;49m\u001b[38;5;241;43m.\u001b[39;49m\u001b[43mengine\u001b[49m\u001b[43m)\u001b[49m\n",
      "File \u001b[0;32m/opt/homebrew/Caskroom/miniforge/base/envs/jax_cpu/lib/python3.9/site-packages/pandas/io/parsers/readers.py:1217\u001b[0m, in \u001b[0;36mTextFileReader._make_engine\u001b[0;34m(self, f, engine)\u001b[0m\n\u001b[1;32m   1213\u001b[0m     mode \u001b[38;5;241m=\u001b[39m \u001b[38;5;124m\"\u001b[39m\u001b[38;5;124mrb\u001b[39m\u001b[38;5;124m\"\u001b[39m\n\u001b[1;32m   1214\u001b[0m \u001b[38;5;66;03m# error: No overload variant of \"get_handle\" matches argument types\u001b[39;00m\n\u001b[1;32m   1215\u001b[0m \u001b[38;5;66;03m# \"Union[str, PathLike[str], ReadCsvBuffer[bytes], ReadCsvBuffer[str]]\"\u001b[39;00m\n\u001b[1;32m   1216\u001b[0m \u001b[38;5;66;03m# , \"str\", \"bool\", \"Any\", \"Any\", \"Any\", \"Any\", \"Any\"\u001b[39;00m\n\u001b[0;32m-> 1217\u001b[0m \u001b[38;5;28mself\u001b[39m\u001b[38;5;241m.\u001b[39mhandles \u001b[38;5;241m=\u001b[39m \u001b[43mget_handle\u001b[49m\u001b[43m(\u001b[49m\u001b[43m  \u001b[49m\u001b[38;5;66;43;03m# type: ignore[call-overload]\u001b[39;49;00m\n\u001b[1;32m   1218\u001b[0m \u001b[43m    \u001b[49m\u001b[43mf\u001b[49m\u001b[43m,\u001b[49m\n\u001b[1;32m   1219\u001b[0m \u001b[43m    \u001b[49m\u001b[43mmode\u001b[49m\u001b[43m,\u001b[49m\n\u001b[1;32m   1220\u001b[0m \u001b[43m    \u001b[49m\u001b[43mencoding\u001b[49m\u001b[38;5;241;43m=\u001b[39;49m\u001b[38;5;28;43mself\u001b[39;49m\u001b[38;5;241;43m.\u001b[39;49m\u001b[43moptions\u001b[49m\u001b[38;5;241;43m.\u001b[39;49m\u001b[43mget\u001b[49m\u001b[43m(\u001b[49m\u001b[38;5;124;43m\"\u001b[39;49m\u001b[38;5;124;43mencoding\u001b[39;49m\u001b[38;5;124;43m\"\u001b[39;49m\u001b[43m,\u001b[49m\u001b[43m \u001b[49m\u001b[38;5;28;43;01mNone\u001b[39;49;00m\u001b[43m)\u001b[49m\u001b[43m,\u001b[49m\n\u001b[1;32m   1221\u001b[0m \u001b[43m    \u001b[49m\u001b[43mcompression\u001b[49m\u001b[38;5;241;43m=\u001b[39;49m\u001b[38;5;28;43mself\u001b[39;49m\u001b[38;5;241;43m.\u001b[39;49m\u001b[43moptions\u001b[49m\u001b[38;5;241;43m.\u001b[39;49m\u001b[43mget\u001b[49m\u001b[43m(\u001b[49m\u001b[38;5;124;43m\"\u001b[39;49m\u001b[38;5;124;43mcompression\u001b[39;49m\u001b[38;5;124;43m\"\u001b[39;49m\u001b[43m,\u001b[49m\u001b[43m \u001b[49m\u001b[38;5;28;43;01mNone\u001b[39;49;00m\u001b[43m)\u001b[49m\u001b[43m,\u001b[49m\n\u001b[1;32m   1222\u001b[0m \u001b[43m    \u001b[49m\u001b[43mmemory_map\u001b[49m\u001b[38;5;241;43m=\u001b[39;49m\u001b[38;5;28;43mself\u001b[39;49m\u001b[38;5;241;43m.\u001b[39;49m\u001b[43moptions\u001b[49m\u001b[38;5;241;43m.\u001b[39;49m\u001b[43mget\u001b[49m\u001b[43m(\u001b[49m\u001b[38;5;124;43m\"\u001b[39;49m\u001b[38;5;124;43mmemory_map\u001b[39;49m\u001b[38;5;124;43m\"\u001b[39;49m\u001b[43m,\u001b[49m\u001b[43m \u001b[49m\u001b[38;5;28;43;01mFalse\u001b[39;49;00m\u001b[43m)\u001b[49m\u001b[43m,\u001b[49m\n\u001b[1;32m   1223\u001b[0m \u001b[43m    \u001b[49m\u001b[43mis_text\u001b[49m\u001b[38;5;241;43m=\u001b[39;49m\u001b[43mis_text\u001b[49m\u001b[43m,\u001b[49m\n\u001b[1;32m   1224\u001b[0m \u001b[43m    \u001b[49m\u001b[43merrors\u001b[49m\u001b[38;5;241;43m=\u001b[39;49m\u001b[38;5;28;43mself\u001b[39;49m\u001b[38;5;241;43m.\u001b[39;49m\u001b[43moptions\u001b[49m\u001b[38;5;241;43m.\u001b[39;49m\u001b[43mget\u001b[49m\u001b[43m(\u001b[49m\u001b[38;5;124;43m\"\u001b[39;49m\u001b[38;5;124;43mencoding_errors\u001b[39;49m\u001b[38;5;124;43m\"\u001b[39;49m\u001b[43m,\u001b[49m\u001b[43m \u001b[49m\u001b[38;5;124;43m\"\u001b[39;49m\u001b[38;5;124;43mstrict\u001b[39;49m\u001b[38;5;124;43m\"\u001b[39;49m\u001b[43m)\u001b[49m\u001b[43m,\u001b[49m\n\u001b[1;32m   1225\u001b[0m \u001b[43m    \u001b[49m\u001b[43mstorage_options\u001b[49m\u001b[38;5;241;43m=\u001b[39;49m\u001b[38;5;28;43mself\u001b[39;49m\u001b[38;5;241;43m.\u001b[39;49m\u001b[43moptions\u001b[49m\u001b[38;5;241;43m.\u001b[39;49m\u001b[43mget\u001b[49m\u001b[43m(\u001b[49m\u001b[38;5;124;43m\"\u001b[39;49m\u001b[38;5;124;43mstorage_options\u001b[39;49m\u001b[38;5;124;43m\"\u001b[39;49m\u001b[43m,\u001b[49m\u001b[43m \u001b[49m\u001b[38;5;28;43;01mNone\u001b[39;49;00m\u001b[43m)\u001b[49m\u001b[43m,\u001b[49m\n\u001b[1;32m   1226\u001b[0m \u001b[43m\u001b[49m\u001b[43m)\u001b[49m\n\u001b[1;32m   1227\u001b[0m \u001b[38;5;28;01massert\u001b[39;00m \u001b[38;5;28mself\u001b[39m\u001b[38;5;241m.\u001b[39mhandles \u001b[38;5;129;01mis\u001b[39;00m \u001b[38;5;129;01mnot\u001b[39;00m \u001b[38;5;28;01mNone\u001b[39;00m\n\u001b[1;32m   1228\u001b[0m f \u001b[38;5;241m=\u001b[39m \u001b[38;5;28mself\u001b[39m\u001b[38;5;241m.\u001b[39mhandles\u001b[38;5;241m.\u001b[39mhandle\n",
      "File \u001b[0;32m/opt/homebrew/Caskroom/miniforge/base/envs/jax_cpu/lib/python3.9/site-packages/pandas/io/common.py:789\u001b[0m, in \u001b[0;36mget_handle\u001b[0;34m(path_or_buf, mode, encoding, compression, memory_map, is_text, errors, storage_options)\u001b[0m\n\u001b[1;32m    784\u001b[0m \u001b[38;5;28;01melif\u001b[39;00m \u001b[38;5;28misinstance\u001b[39m(handle, \u001b[38;5;28mstr\u001b[39m):\n\u001b[1;32m    785\u001b[0m     \u001b[38;5;66;03m# Check whether the filename is to be opened in binary mode.\u001b[39;00m\n\u001b[1;32m    786\u001b[0m     \u001b[38;5;66;03m# Binary mode does not support 'encoding' and 'newline'.\u001b[39;00m\n\u001b[1;32m    787\u001b[0m     \u001b[38;5;28;01mif\u001b[39;00m ioargs\u001b[38;5;241m.\u001b[39mencoding \u001b[38;5;129;01mand\u001b[39;00m \u001b[38;5;124m\"\u001b[39m\u001b[38;5;124mb\u001b[39m\u001b[38;5;124m\"\u001b[39m \u001b[38;5;129;01mnot\u001b[39;00m \u001b[38;5;129;01min\u001b[39;00m ioargs\u001b[38;5;241m.\u001b[39mmode:\n\u001b[1;32m    788\u001b[0m         \u001b[38;5;66;03m# Encoding\u001b[39;00m\n\u001b[0;32m--> 789\u001b[0m         handle \u001b[38;5;241m=\u001b[39m \u001b[38;5;28;43mopen\u001b[39;49m\u001b[43m(\u001b[49m\n\u001b[1;32m    790\u001b[0m \u001b[43m            \u001b[49m\u001b[43mhandle\u001b[49m\u001b[43m,\u001b[49m\n\u001b[1;32m    791\u001b[0m \u001b[43m            \u001b[49m\u001b[43mioargs\u001b[49m\u001b[38;5;241;43m.\u001b[39;49m\u001b[43mmode\u001b[49m\u001b[43m,\u001b[49m\n\u001b[1;32m    792\u001b[0m \u001b[43m            \u001b[49m\u001b[43mencoding\u001b[49m\u001b[38;5;241;43m=\u001b[39;49m\u001b[43mioargs\u001b[49m\u001b[38;5;241;43m.\u001b[39;49m\u001b[43mencoding\u001b[49m\u001b[43m,\u001b[49m\n\u001b[1;32m    793\u001b[0m \u001b[43m            \u001b[49m\u001b[43merrors\u001b[49m\u001b[38;5;241;43m=\u001b[39;49m\u001b[43merrors\u001b[49m\u001b[43m,\u001b[49m\n\u001b[1;32m    794\u001b[0m \u001b[43m            \u001b[49m\u001b[43mnewline\u001b[49m\u001b[38;5;241;43m=\u001b[39;49m\u001b[38;5;124;43m\"\u001b[39;49m\u001b[38;5;124;43m\"\u001b[39;49m\u001b[43m,\u001b[49m\n\u001b[1;32m    795\u001b[0m \u001b[43m        \u001b[49m\u001b[43m)\u001b[49m\n\u001b[1;32m    796\u001b[0m     \u001b[38;5;28;01melse\u001b[39;00m:\n\u001b[1;32m    797\u001b[0m         \u001b[38;5;66;03m# Binary mode\u001b[39;00m\n\u001b[1;32m    798\u001b[0m         handle \u001b[38;5;241m=\u001b[39m \u001b[38;5;28mopen\u001b[39m(handle, ioargs\u001b[38;5;241m.\u001b[39mmode)\n",
      "\u001b[0;31mFileNotFoundError\u001b[0m: [Errno 2] No such file or directory: './fiducial_samples/noisy_funnel_100zD_sigma0p1.csv'"
     ]
    }
   ],
   "source": [
    "truth_df = pd.read_csv('./fiducial_samples/noisy_funnel_100zD_sigma0p1.csv', index_col=0)\n",
    "\n",
    "truth_x = np.empty((2000, D + 1))\n",
    "truth_x[:, 0] = truth_df[\"('posterior', 'theta')\"]\n",
    "for i in range(D):\n",
    "    truth_x[:, i + 1] = truth_df[\"('posterior', 'z[{0}]', {1})\".format(i, i)]\n",
    "    \n",
    "#truth_x = truth_x[0::100, :]\n",
    "print(np.shape(truth_x))\n",
    "np.savetxt('./fiducial_samples/noise_funnel_100d_samples_sigma0p1.txt', truth_x)"
   ]
  },
  {
   "cell_type": "code",
   "execution_count": 57,
   "id": "2ff43bc7",
   "metadata": {},
   "outputs": [],
   "source": [
    "flow_interface = SINFInterface()\n",
    "flow_interface.create_flow(x=initial_samples,\n",
    "                           val_frac=0.25,\n",
    "                           iteration=None,\n",
    "                           bounds=None,\n",
    "                           alpha=(0, 0.98),\n",
    "                           NBfirstlayer=True,\n",
    "                           verbose=False,\n",
    "                           M=None,\n",
    "                           Whiten=False,\n",
    "                           Whiten_with_weights=False,\n",
    "                           Whiten_reg='NERCOME',\n",
    "                           maxknot=False,\n",
    "                           MSWD_max_iter=None)"
   ]
  },
  {
   "cell_type": "code",
   "execution_count": 58,
   "id": "680ca298",
   "metadata": {},
   "outputs": [],
   "source": [
    "burnin_interface = SINFInterface()\n",
    "burnin_interface.create_flow(x=initial_samples,\n",
    "                           val_frac=0.0,\n",
    "                           iteration=5,\n",
    "                           bounds=None,\n",
    "                           alpha=(0., 0.),\n",
    "                           NBfirstlayer=True,\n",
    "                           verbose=False,\n",
    "                           M=5,\n",
    "                           Whiten=False,\n",
    "                           Whiten_with_weights=False,\n",
    "                           Whiten_reg='NERCOME',\n",
    "                           maxknot=False,\n",
    "                           MSWD_max_iter=None)"
   ]
  },
  {
   "cell_type": "code",
   "execution_count": 76,
   "id": "c7a42dc5",
   "metadata": {},
   "outputs": [
    {
     "name": "stderr",
     "output_type": "stream",
     "text": [
      "[Stage 0] Beta: 1.0:   2%|      | 1/50 [00:00<00:36,  1.33it/s, accept_IMH=0.15]"
     ]
    },
    {
     "name": "stdout",
     "output_type": "stream",
     "text": [
      "Virial = 2059218.25\n",
      "<sum_x_virial> = 2059218.25\n"
     ]
    },
    {
     "name": "stderr",
     "output_type": "stream",
     "text": [
      "[Stage 0] Beta: 1.0:   4%|▏     | 2/50 [00:01<00:24,  1.93it/s, accept_IMH=0.25]"
     ]
    },
    {
     "name": "stdout",
     "output_type": "stream",
     "text": [
      "Virial = 24991.4140625\n",
      "<sum_x_virial> = 24991.4140625\n"
     ]
    },
    {
     "name": "stderr",
     "output_type": "stream",
     "text": [
      "[Stage 0] Beta: 1.0:   6%|▍      | 3/50 [00:01<00:20,  2.25it/s, accept_IMH=0.1]"
     ]
    },
    {
     "name": "stdout",
     "output_type": "stream",
     "text": [
      "Virial = 5513.6669921875\n",
      "<sum_x_virial> = 5513.6669921875\n"
     ]
    },
    {
     "name": "stderr",
     "output_type": "stream",
     "text": [
      "[Stage 0] Beta: 1.0:   8%|▍     | 4/50 [00:01<00:20,  2.26it/s, accept_IMH=0.15]"
     ]
    },
    {
     "name": "stdout",
     "output_type": "stream",
     "text": [
      "Virial = 1326.4180908203125\n",
      "<sum_x_virial> = 1326.4180908203125\n"
     ]
    },
    {
     "name": "stderr",
     "output_type": "stream",
     "text": [
      "[Stage 0] Beta: 1.0:  10%|▌     | 5/50 [00:02<00:18,  2.38it/s, accept_IMH=0.05]"
     ]
    },
    {
     "name": "stdout",
     "output_type": "stream",
     "text": [
      "Virial = -73.38487243652344\n",
      "<sum_x_virial> = -73.38487243652344\n"
     ]
    },
    {
     "name": "stderr",
     "output_type": "stream",
     "text": [
      "[Stage 0] Beta: 1.0:  12%|█        | 6/50 [00:02<00:18,  2.38it/s, accept_IMH=0]"
     ]
    },
    {
     "name": "stdout",
     "output_type": "stream",
     "text": [
      "Virial = -287.6391906738281\n",
      "<sum_x_virial> = -287.6391906738281\n"
     ]
    },
    {
     "name": "stderr",
     "output_type": "stream",
     "text": [
      "[Stage 0] Beta: 1.0:  14%|▉      | 7/50 [00:03<00:18,  2.30it/s, accept_IMH=0.1]"
     ]
    },
    {
     "name": "stdout",
     "output_type": "stream",
     "text": [
      "Virial = -313.67620849609375\n",
      "<sum_x_virial> = -313.67620849609375\n"
     ]
    },
    {
     "name": "stderr",
     "output_type": "stream",
     "text": [
      "[Stage 0] Beta: 1.0:  16%|█▍       | 8/50 [00:03<00:19,  2.18it/s, accept_IMH=0]"
     ]
    },
    {
     "name": "stdout",
     "output_type": "stream",
     "text": [
      "Virial = -180.70298767089844\n",
      "<sum_x_virial> = -180.70298767089844\n"
     ]
    },
    {
     "name": "stderr",
     "output_type": "stream",
     "text": [
      "[Stage 0] Beta: 1.0:  18%|█     | 9/50 [00:04<00:19,  2.09it/s, accept_IMH=0.05]"
     ]
    },
    {
     "name": "stdout",
     "output_type": "stream",
     "text": [
      "Virial = -189.19802856445312\n",
      "<sum_x_virial> = -189.19802856445312\n"
     ]
    },
    {
     "name": "stderr",
     "output_type": "stream",
     "text": [
      "[Stage 0] Beta: 1.0:  20%|█    | 10/50 [00:04<00:19,  2.02it/s, accept_IMH=0.05]"
     ]
    },
    {
     "name": "stdout",
     "output_type": "stream",
     "text": [
      "Virial = -74.01856994628906\n",
      "<sum_x_virial> = -74.01856994628906\n"
     ]
    },
    {
     "name": "stderr",
     "output_type": "stream",
     "text": [
      "[Stage 0] Beta: 1.0:  22%|█    | 11/50 [00:05<00:19,  2.00it/s, accept_IMH=0.05]"
     ]
    },
    {
     "name": "stdout",
     "output_type": "stream",
     "text": [
      "Virial = -65.36041259765625\n",
      "<sum_x_virial> = -65.36041259765625\n"
     ]
    },
    {
     "name": "stderr",
     "output_type": "stream",
     "text": [
      "[Stage 0] Beta: 1.0:  24%|█▉      | 12/50 [00:05<00:19,  1.96it/s, accept_IMH=0]"
     ]
    },
    {
     "name": "stdout",
     "output_type": "stream",
     "text": [
      "Virial = -3.20263409614563\n",
      "<sum_x_virial> = -3.20263409614563\n"
     ]
    },
    {
     "name": "stderr",
     "output_type": "stream",
     "text": [
      "[Stage 0] Beta: 1.0:  26%|██      | 13/50 [00:06<00:19,  1.91it/s, accept_IMH=0]"
     ]
    },
    {
     "name": "stdout",
     "output_type": "stream",
     "text": [
      "Virial = 14.407159805297852\n",
      "<sum_x_virial> = 14.407159805297852\n"
     ]
    },
    {
     "name": "stderr",
     "output_type": "stream",
     "text": [
      "[Stage 0] Beta: 1.0:  28%|█▍   | 14/50 [00:06<00:19,  1.85it/s, accept_IMH=0.05]"
     ]
    },
    {
     "name": "stdout",
     "output_type": "stream",
     "text": [
      "Virial = 37.5467529296875\n",
      "<sum_x_virial> = 37.5467529296875\n"
     ]
    },
    {
     "name": "stderr",
     "output_type": "stream",
     "text": [
      "[Stage 0] Beta: 1.0:  30%|██▍     | 15/50 [00:07<00:19,  1.80it/s, accept_IMH=0]"
     ]
    },
    {
     "name": "stdout",
     "output_type": "stream",
     "text": [
      "Virial = 41.91051483154297\n",
      "<sum_x_virial> = 41.91051483154297\n"
     ]
    },
    {
     "name": "stderr",
     "output_type": "stream",
     "text": [
      "[Stage 0] Beta: 1.0:  32%|██▌     | 16/50 [00:08<00:18,  1.80it/s, accept_IMH=0]"
     ]
    },
    {
     "name": "stdout",
     "output_type": "stream",
     "text": [
      "Virial = 41.61636734008789\n",
      "<sum_x_virial> = 41.61636734008789\n"
     ]
    },
    {
     "name": "stderr",
     "output_type": "stream",
     "text": [
      "[Stage 0] Beta: 1.0:  34%|██▋     | 17/50 [00:08<00:18,  1.80it/s, accept_IMH=0]"
     ]
    },
    {
     "name": "stdout",
     "output_type": "stream",
     "text": [
      "Virial = 13.614145278930664\n",
      "<sum_x_virial> = 13.614145278930664\n"
     ]
    },
    {
     "name": "stderr",
     "output_type": "stream",
     "text": [
      "[Stage 0] Beta: 1.0:  36%|██▉     | 18/50 [00:09<00:17,  1.82it/s, accept_IMH=0]"
     ]
    },
    {
     "name": "stdout",
     "output_type": "stream",
     "text": [
      "Virial = 47.0640983581543\n",
      "<sum_x_virial> = 47.0640983581543\n"
     ]
    },
    {
     "name": "stderr",
     "output_type": "stream",
     "text": [
      "[Stage 0] Beta: 1.0:  38%|█▉   | 19/50 [00:09<00:17,  1.81it/s, accept_IMH=0.05]"
     ]
    },
    {
     "name": "stdout",
     "output_type": "stream",
     "text": [
      "Virial = 26.652637481689453\n",
      "<sum_x_virial> = 26.652637481689453\n",
      "Reached maximum number of burnin iterations.\n",
      "Drawing 182 new particles from current q for post-burnin DLMC.\n"
     ]
    },
    {
     "name": "stderr",
     "output_type": "stream",
     "text": [
      "[Stage 0] Beta: 1.0:  40%|██   | 20/50 [00:10<00:20,  1.44it/s, accept_IMH=0.05]"
     ]
    },
    {
     "name": "stdout",
     "output_type": "stream",
     "text": [
      "<sum_x_virial> = 110.6054916381836\n",
      "<step_counter> = 1.0792078971862793\n"
     ]
    },
    {
     "name": "stderr",
     "output_type": "stream",
     "text": [
      "[Stage 0] Beta: 1.0:  42%|██   | 21/50 [00:11<00:18,  1.57it/s, accept_IMH=0.05]"
     ]
    },
    {
     "name": "stdout",
     "output_type": "stream",
     "text": [
      "<sum_x_virial> = 104.16769409179688\n",
      "<step_counter> = 1.1732673645019531\n"
     ]
    },
    {
     "name": "stderr",
     "output_type": "stream",
     "text": [
      "[Stage 0] Beta: 1.0:  44%|██▏  | 22/50 [00:11<00:16,  1.68it/s, accept_IMH=0.05]"
     ]
    },
    {
     "name": "stdout",
     "output_type": "stream",
     "text": [
      "<sum_x_virial> = 99.95040130615234\n",
      "<step_counter> = 1.306930661201477\n"
     ]
    },
    {
     "name": "stderr",
     "output_type": "stream",
     "text": [
      "[Stage 0] Beta: 1.0:  46%|██▎  | 23/50 [00:12<00:15,  1.76it/s, accept_IMH=0.05]"
     ]
    },
    {
     "name": "stdout",
     "output_type": "stream",
     "text": [
      "<sum_x_virial> = 96.29590606689453\n",
      "<step_counter> = 1.3267326354980469\n"
     ]
    },
    {
     "name": "stderr",
     "output_type": "stream",
     "text": [
      "[Stage 0] Beta: 1.0:  48%|██▍  | 24/50 [00:12<00:14,  1.82it/s, accept_IMH=0.05]"
     ]
    },
    {
     "name": "stdout",
     "output_type": "stream",
     "text": [
      "<sum_x_virial> = 92.87769317626953\n",
      "<step_counter> = 1.3217822313308716\n"
     ]
    },
    {
     "name": "stderr",
     "output_type": "stream",
     "text": [
      "[Stage 0] Beta: 1.0:  50%|██▌  | 25/50 [00:13<00:14,  1.74it/s, accept_IMH=0.05]"
     ]
    },
    {
     "name": "stdout",
     "output_type": "stream",
     "text": [
      "<sum_x_virial> = 93.0764389038086\n",
      "<step_counter> = 1.3168317079544067\n"
     ]
    },
    {
     "name": "stderr",
     "output_type": "stream",
     "text": [
      "[Stage 0] Beta: 1.0:  52%|██▌  | 26/50 [00:13<00:13,  1.81it/s, accept_IMH=0.05]"
     ]
    },
    {
     "name": "stdout",
     "output_type": "stream",
     "text": [
      "<sum_x_virial> = 92.01334381103516\n",
      "<step_counter> = 1.2326732873916626\n"
     ]
    },
    {
     "name": "stderr",
     "output_type": "stream",
     "text": [
      "[Stage 0] Beta: 1.0:  54%|██▋  | 27/50 [00:14<00:12,  1.86it/s, accept_IMH=0.05]"
     ]
    },
    {
     "name": "stdout",
     "output_type": "stream",
     "text": [
      "<sum_x_virial> = 92.46202087402344\n",
      "<step_counter> = 1.1980197429656982\n"
     ]
    },
    {
     "name": "stderr",
     "output_type": "stream",
     "text": [
      "[Stage 0] Beta: 1.0:  56%|██▊  | 28/50 [00:14<00:11,  1.90it/s, accept_IMH=0.05]"
     ]
    },
    {
     "name": "stdout",
     "output_type": "stream",
     "text": [
      "<sum_x_virial> = 92.78767395019531\n",
      "<step_counter> = 1.202970266342163\n"
     ]
    },
    {
     "name": "stderr",
     "output_type": "stream",
     "text": [
      "[Stage 0] Beta: 1.0:  58%|██▉  | 29/50 [00:15<00:10,  1.93it/s, accept_IMH=0.05]"
     ]
    },
    {
     "name": "stdout",
     "output_type": "stream",
     "text": [
      "<sum_x_virial> = 92.57182312011719\n",
      "<step_counter> = 1.1633663177490234\n"
     ]
    },
    {
     "name": "stderr",
     "output_type": "stream",
     "text": [
      "[Stage 0] Beta: 1.0:  60%|███  | 30/50 [00:15<00:10,  1.95it/s, accept_IMH=0.05]"
     ]
    },
    {
     "name": "stdout",
     "output_type": "stream",
     "text": [
      "<sum_x_virial> = 92.37367248535156\n",
      "<step_counter> = 1.1683168411254883\n"
     ]
    },
    {
     "name": "stderr",
     "output_type": "stream",
     "text": [
      "[Stage 0] Beta: 1.0:  62%|███  | 31/50 [00:16<00:09,  1.96it/s, accept_IMH=0.05]"
     ]
    },
    {
     "name": "stdout",
     "output_type": "stream",
     "text": [
      "<sum_x_virial> = 92.35679626464844\n",
      "<step_counter> = 1.1782177686691284\n"
     ]
    },
    {
     "name": "stderr",
     "output_type": "stream",
     "text": [
      "[Stage 0] Beta: 1.0:  64%|███▏ | 32/50 [00:16<00:09,  1.98it/s, accept_IMH=0.05]"
     ]
    },
    {
     "name": "stdout",
     "output_type": "stream",
     "text": [
      "<sum_x_virial> = 92.3170394897461\n",
      "<step_counter> = 1.1435643434524536\n"
     ]
    },
    {
     "name": "stderr",
     "output_type": "stream",
     "text": [
      "[Stage 0] Beta: 1.0:  66%|███▎ | 33/50 [00:17<00:08,  1.99it/s, accept_IMH=0.05]"
     ]
    },
    {
     "name": "stdout",
     "output_type": "stream",
     "text": [
      "<sum_x_virial> = 92.21893310546875\n",
      "<step_counter> = 1.1336634159088135\n"
     ]
    },
    {
     "name": "stderr",
     "output_type": "stream",
     "text": [
      "[Stage 0] Beta: 1.0:  68%|███▍ | 34/50 [00:17<00:08,  2.00it/s, accept_IMH=0.05]"
     ]
    },
    {
     "name": "stdout",
     "output_type": "stream",
     "text": [
      "<sum_x_virial> = 92.2706298828125\n",
      "<step_counter> = 1.1237623691558838\n"
     ]
    },
    {
     "name": "stderr",
     "output_type": "stream",
     "text": [
      "[Stage 0] Beta: 1.0:  70%|███▌ | 35/50 [00:18<00:07,  2.00it/s, accept_IMH=0.05]"
     ]
    },
    {
     "name": "stdout",
     "output_type": "stream",
     "text": [
      "<sum_x_virial> = 92.21916961669922\n",
      "<step_counter> = 1.0940593481063843\n"
     ]
    },
    {
     "name": "stderr",
     "output_type": "stream",
     "text": [
      "[Stage 0] Beta: 1.0:  72%|███▌ | 36/50 [00:18<00:06,  2.01it/s, accept_IMH=0.05]"
     ]
    },
    {
     "name": "stdout",
     "output_type": "stream",
     "text": [
      "<sum_x_virial> = 92.1828384399414\n",
      "<step_counter> = 1.1386138200759888\n"
     ]
    },
    {
     "name": "stderr",
     "output_type": "stream",
     "text": [
      "[Stage 0] Beta: 1.0:  74%|███▋ | 37/50 [00:19<00:06,  2.00it/s, accept_IMH=0.05]"
     ]
    },
    {
     "name": "stdout",
     "output_type": "stream",
     "text": [
      "<sum_x_virial> = 92.20732879638672\n",
      "<step_counter> = 1.0841584205627441\n"
     ]
    },
    {
     "name": "stderr",
     "output_type": "stream",
     "text": [
      "[Stage 0] Beta: 1.0:  76%|███▊ | 38/50 [00:19<00:05,  2.01it/s, accept_IMH=0.05]"
     ]
    },
    {
     "name": "stdout",
     "output_type": "stream",
     "text": [
      "<sum_x_virial> = 92.18637084960938\n",
      "<step_counter> = 1.0940593481063843\n"
     ]
    },
    {
     "name": "stderr",
     "output_type": "stream",
     "text": [
      "[Stage 0] Beta: 1.0:  78%|███▉ | 39/50 [00:20<00:05,  2.02it/s, accept_IMH=0.05]"
     ]
    },
    {
     "name": "stdout",
     "output_type": "stream",
     "text": [
      "<sum_x_virial> = 92.1330337524414\n",
      "<step_counter> = 1.1237623691558838\n"
     ]
    },
    {
     "name": "stderr",
     "output_type": "stream",
     "text": [
      "[Stage 0] Beta: 1.0:  80%|████ | 40/50 [00:20<00:04,  2.01it/s, accept_IMH=0.05]"
     ]
    },
    {
     "name": "stdout",
     "output_type": "stream",
     "text": [
      "<sum_x_virial> = 92.13973236083984\n",
      "<step_counter> = 1.0643564462661743\n"
     ]
    },
    {
     "name": "stderr",
     "output_type": "stream",
     "text": [
      "[Stage 0] Beta: 1.0:  82%|████ | 41/50 [00:21<00:04,  2.01it/s, accept_IMH=0.05]"
     ]
    },
    {
     "name": "stdout",
     "output_type": "stream",
     "text": [
      "<sum_x_virial> = 92.1356201171875\n",
      "<step_counter> = 1.0693069696426392\n"
     ]
    },
    {
     "name": "stderr",
     "output_type": "stream",
     "text": [
      "[Stage 0] Beta: 1.0:  84%|████▏| 42/50 [00:21<00:04,  1.88it/s, accept_IMH=0.05]"
     ]
    },
    {
     "name": "stdout",
     "output_type": "stream",
     "text": [
      "<sum_x_virial> = 92.12037658691406\n",
      "<step_counter> = 1.0940593481063843\n"
     ]
    },
    {
     "name": "stderr",
     "output_type": "stream",
     "text": [
      "[Stage 0] Beta: 1.0:  86%|████▎| 43/50 [00:22<00:03,  1.89it/s, accept_IMH=0.05]"
     ]
    },
    {
     "name": "stdout",
     "output_type": "stream",
     "text": [
      "<sum_x_virial> = 92.09857177734375\n",
      "<step_counter> = 1.0693069696426392\n"
     ]
    },
    {
     "name": "stderr",
     "output_type": "stream",
     "text": [
      "[Stage 0] Beta: 1.0:  88%|████▍| 44/50 [00:22<00:03,  1.92it/s, accept_IMH=0.05]"
     ]
    },
    {
     "name": "stdout",
     "output_type": "stream",
     "text": [
      "<sum_x_virial> = 92.06471252441406\n",
      "<step_counter> = 1.0544553995132446\n"
     ]
    },
    {
     "name": "stderr",
     "output_type": "stream",
     "text": [
      "[Stage 0] Beta: 1.0:  90%|████▌| 45/50 [00:23<00:02,  1.95it/s, accept_IMH=0.05]"
     ]
    },
    {
     "name": "stdout",
     "output_type": "stream",
     "text": [
      "<sum_x_virial> = 92.06068420410156\n",
      "<step_counter> = 1.089108943939209\n"
     ]
    },
    {
     "name": "stderr",
     "output_type": "stream",
     "text": [
      "[Stage 0] Beta: 1.0:  92%|████▌| 46/50 [00:24<00:02,  1.85it/s, accept_IMH=0.05]"
     ]
    },
    {
     "name": "stdout",
     "output_type": "stream",
     "text": [
      "<sum_x_virial> = 92.04999542236328\n",
      "<step_counter> = 1.0940593481063843\n"
     ]
    },
    {
     "name": "stderr",
     "output_type": "stream",
     "text": [
      "[Stage 0] Beta: 1.0:  94%|████▋| 47/50 [00:24<00:01,  1.90it/s, accept_IMH=0.05]"
     ]
    },
    {
     "name": "stdout",
     "output_type": "stream",
     "text": [
      "<sum_x_virial> = 92.0367660522461\n",
      "<step_counter> = 1.0940593481063843\n"
     ]
    },
    {
     "name": "stderr",
     "output_type": "stream",
     "text": [
      "[Stage 0] Beta: 1.0:  96%|████▊| 48/50 [00:25<00:01,  1.93it/s, accept_IMH=0.05]"
     ]
    },
    {
     "name": "stdout",
     "output_type": "stream",
     "text": [
      "<sum_x_virial> = 92.01969909667969\n",
      "<step_counter> = 1.0742573738098145\n"
     ]
    },
    {
     "name": "stderr",
     "output_type": "stream",
     "text": [
      "[Stage 0] Beta: 1.0:  98%|████▉| 49/50 [00:25<00:00,  1.96it/s, accept_IMH=0.05]"
     ]
    },
    {
     "name": "stdout",
     "output_type": "stream",
     "text": [
      "<sum_x_virial> = 92.01309204101562\n",
      "<step_counter> = 1.0841584205627441\n"
     ]
    },
    {
     "name": "stderr",
     "output_type": "stream",
     "text": [
      "[Stage 0] Beta: 1.0: 100%|█████| 50/50 [00:26<00:00,  1.92it/s, accept_IMH=0.05]\n"
     ]
    },
    {
     "name": "stdout",
     "output_type": "stream",
     "text": [
      "<sum_x_virial> = 92.02098846435547\n",
      "<step_counter> = 1.118811845779419\n"
     ]
    },
    {
     "name": "stderr",
     "output_type": "stream",
     "text": [
      "0it [00:00, ?it/s]\n"
     ]
    }
   ],
   "source": [
    "dlmc = LatentDLA(\n",
    "    interface=flow_interface,\n",
    "    burnin_interface=flow_interface,\n",
    "    posterior=posterior,\n",
    "    debugger=None\n",
    ")\n",
    "\n",
    "xf = dlmc.run(initial_samples,\n",
    "              main_step=0.1,\n",
    "              burnin_step=0.1,\n",
    "              burnin_optimizer='adam',\n",
    "              optimizer='line_search',\n",
    "              optim_scheduler='identity',\n",
    "              exp_decay_rate=0.99,\n",
    "              cos_T_max=100,\n",
    "              cos_lr_min=0.0,\n",
    "              burnin_optim_steps=5,\n",
    "              optim_steps=1,\n",
    "              atol=1e-15,\n",
    "              max_burnin=20,\n",
    "              burnin_thresh=1.00,\n",
    "              num_upsample=2*101-initial_samples.shape[0],\n",
    "              max_iterations=30,\n",
    "              latent=True,\n",
    "              IMHstep=1,\n",
    "              CMHstep=0,\n",
    "              CMHscale=0.1,\n",
    "              ULMstep=0,\n",
    "              stochastic_calibration=False,\n",
    "              taylor_zeta=True,\n",
    "              use_tqdm=True,\n",
    "              post_ulm_steps=0,\n",
    "              post_ulm_batch=0,\n",
    "              animate_kwargs=dict(dpi=200),\n",
    "              train_kwargs={'val_frac': 0.2},\n",
    "              underdamped_kwargs={'step_size':1.0e-2, 'gamma': 2.0}\n",
    "              )"
   ]
  },
  {
   "cell_type": "code",
   "execution_count": 77,
   "id": "96ca5798",
   "metadata": {},
   "outputs": [
    {
     "data": {
      "text/plain": [
       "<seaborn.axisgrid.PairGrid at 0x297377a90>"
      ]
     },
     "execution_count": 77,
     "metadata": {},
     "output_type": "execute_result"
    },
    {
     "data": {
      "image/png": "[encoded data removed]",
      "text/plain": [
       "<Figure size 360x360 with 6 Axes>"
      ]
     },
     "metadata": {
      "needs_background": "light"
     },
     "output_type": "display_data"
    }
   ],
   "source": [
    "sns.pairplot(pd.DataFrame(xf[0][:, 0:2]))"
   ]
  },
  {
   "cell_type": "code",
   "execution_count": 78,
   "id": "72582134",
   "metadata": {},
   "outputs": [
    {
     "data": {
      "text/plain": [
       "<seaborn.axisgrid.PairGrid at 0x297491040>"
      ]
     },
     "execution_count": 78,
     "metadata": {},
     "output_type": "execute_result"
    },
    {
     "data": {
      "image/png": "[encoded data removed]",
      "text/plain": [
       "<Figure size 360x360 with 6 Axes>"
      ]
     },
     "metadata": {
      "needs_background": "light"
     },
     "output_type": "display_data"
    }
   ],
   "source": [
    "sns.pairplot(pd.DataFrame(xf[1]['10'][:, 0:2]))"
   ]
  },
  {
   "cell_type": "markdown",
   "id": "a672dfe2",
   "metadata": {},
   "source": [
    "# Plotting"
   ]
  },
  {
   "cell_type": "code",
   "execution_count": null,
   "id": "0f5d997e",
   "metadata": {},
   "outputs": [],
   "source": [
    "def sns_pairplot(q_samples, q_weights, truth_samples=None, q_label='q', \n",
    "                 truth_label='Truth', out_name=None, levels=10):\n",
    "    \n",
    "    q_samples = np.asarray(q_samples)\n",
    "    q_weights = np.asarray(q_weights)\n",
    "    if truth_samples is not None:\n",
    "        truth_samples = np.asarray(truth_samples)\n",
    "        labels = np.empty(len(q_samples) + len(truth_samples), dtype=str)\n",
    "        labels[:len(q_samples)] = q_label\n",
    "        labels[len(q_samples):] = truth_label\n",
    "        x_samples = np.concatenate([q_samples, truth_samples])\n",
    "        weights = np.concatenate([q_weights, np.ones(len(truth_samples))])\n",
    "    else:\n",
    "        labels = np.empty(len(q_samples), dtype=str)\n",
    "        labels[:] = q_label\n",
    "        x_samples = q_samples\n",
    "        weights = q_weights\n",
    "    \n",
    "    \n",
    "    d = {}\n",
    "    d['labels'] = labels\n",
    "    for i in range(x_samples.shape[1]):\n",
    "        d[f'$x_{i}$'] = x_samples[:, i]\n",
    "        \n",
    "    df = pd.DataFrame(d)\n",
    "    print(df)\n",
    "    \n",
    "    sns.set_theme()\n",
    "    g = sns.PairGrid(df, hue='labels', palette='deep')\n",
    "    g.map_diag(sns.kdeplot, weights=weights, common_norm=False, levels=levels)\n",
    "    g.map_offdiag(sns.kdeplot, weights=weights, common_norm=False, levels=levels)\n",
    "    g.add_legend()\n",
    "    if out_name is not None:\n",
    "        g.savefig(out_name)"
   ]
  }
 ],
 "metadata": {
  "kernelspec": {
   "display_name": "Python 3 (ipykernel)",
   "language": "python",
   "name": "python3"
  },
  "language_info": {
   "codemirror_mode": {
    "name": "ipython",
    "version": 3
   },
   "file_extension": ".py",
   "mimetype": "text/x-python",
   "name": "python",
   "nbconvert_exporter": "python",
   "pygments_lexer": "ipython3",
   "version": "3.9.10"
  }
 },
 "nbformat": 4,
 "nbformat_minor": 5
}
