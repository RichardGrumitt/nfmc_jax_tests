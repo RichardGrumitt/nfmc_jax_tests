{
 "cells": [
  {
   "cell_type": "code",
   "execution_count": 1,
   "id": "a03f924e",
   "metadata": {},
   "outputs": [
    {
     "ename": "ModuleNotFoundError",
     "evalue": "No module named 'nfmc_jax'",
     "output_type": "error",
     "traceback": [
      "\u001b[0;31m---------------------------------------------------------------------------\u001b[0m",
      "\u001b[0;31mModuleNotFoundError\u001b[0m                       Traceback (most recent call last)",
      "Input \u001b[0;32mIn [1]\u001b[0m, in \u001b[0;36m<cell line: 4>\u001b[0;34m()\u001b[0m\n\u001b[1;32m      2\u001b[0m \u001b[38;5;66;03m# Change to wherever you've copied the repo.\u001b[39;00m\n\u001b[1;32m      3\u001b[0m sys\u001b[38;5;241m.\u001b[39mpath\u001b[38;5;241m.\u001b[39minsert(\u001b[38;5;241m1\u001b[39m, \u001b[38;5;124m'\u001b[39m\u001b[38;5;124m/home/richard/nfmc_jax/\u001b[39m\u001b[38;5;124m'\u001b[39m)\n\u001b[0;32m----> 4\u001b[0m \u001b[38;5;28;01mimport\u001b[39;00m \u001b[38;5;21;01mnfmc_jax\u001b[39;00m\n\u001b[1;32m      5\u001b[0m \u001b[38;5;28;01mimport\u001b[39;00m \u001b[38;5;21;01marviz\u001b[39;00m \u001b[38;5;28;01mas\u001b[39;00m \u001b[38;5;21;01maz\u001b[39;00m\n\u001b[1;32m      6\u001b[0m \u001b[38;5;28;01mimport\u001b[39;00m \u001b[38;5;21;01mmatplotlib\u001b[39;00m\n",
      "\u001b[0;31mModuleNotFoundError\u001b[0m: No module named 'nfmc_jax'"
     ]
    }
   ],
   "source": [
    "import sys\n",
    "# Change to wherever you've copied the repo.\n",
    "sys.path.insert(1, '/home/richard/nfmc_jax/')\n",
    "import nfmc_jax\n",
    "import arviz as az\n",
    "import matplotlib\n",
    "import matplotlib.pyplot as plt\n",
    "import numpy as np\n",
    "import seaborn as sns\n",
    "import pandas as pd\n",
    "import scipy\n",
    "from sklearn.neighbors import KernelDensity\n",
    "import jax\n",
    "import jax.numpy as jnp\n",
    "from jax.scipy.special import logsumexp\n",
    "from jax.scipy.stats import multivariate_normal as mvn\n",
    "from scipy.stats import multivariate_normal as n_mvn\n",
    "import chaospy\n",
    "import corner\n",
    "import torch\n",
    "import warnings\n",
    "import pickle\n",
    "\n",
    "import getdist\n",
    "from getdist import plots, MCSamples\n",
    "\n",
    "seed=1234\n",
    "np.random.seed(seed)\n",
    "key = jax.random.PRNGKey(seed)"
   ]
  },
  {
   "cell_type": "markdown",
   "id": "24a42861",
   "metadata": {},
   "source": [
    "# Sampling a 100-d noisy funnel"
   ]
  },
  {
   "cell_type": "code",
   "execution_count": 2,
   "id": "8d52027f",
   "metadata": {},
   "outputs": [
    {
     "name": "stdout",
     "output_type": "stream",
     "text": [
      "(20, 101)\n"
     ]
    }
   ],
   "source": [
    "D = 100 # Latent variable dimensions (not NF latent space)\n",
    "a = 3.\n",
    "b = 0.5\n",
    "\n",
    "#theta_sample = a * jax.random.normal(jax.random.PRNGKey(0))\n",
    "#print(theta_sample)\n",
    "theta_sample = 0\n",
    "z_sample = jax.random.normal(jax.random.PRNGKey(0), shape=(D,))\n",
    "z_sample = z_sample * jnp.exp(b * theta_sample)\n",
    "data_sample = jax.random.multivariate_normal(jax.random.PRNGKey(0), mean=z_sample, \n",
    "                                             cov=0.1**2*jnp.eye(D))\n",
    "\n",
    "def log_like(x, data=data_sample):\n",
    "    theta = x[0]\n",
    "    z = x[1:]\n",
    "    return jax.scipy.stats.multivariate_normal.logpdf(z, mean=data, cov=0.1**2*jnp.eye(len(z)))\n",
    "\n",
    "def log_prior(x):\n",
    "    theta = x[0]\n",
    "    z = x[1:]\n",
    "    log_pi_theta = jax.scipy.stats.norm.logpdf(theta, loc=0, scale=a)\n",
    "    log_pi_z = jnp.sum(jax.scipy.stats.norm.logpdf(z, loc=0, scale=jnp.exp(b * theta)))\n",
    "    return log_pi_theta + log_pi_z\n",
    "\n",
    "def prior_rvs(key, N):\n",
    "    n01 = jax.random.normal(key, shape=(N, D + 1))\n",
    "    theta = n01[:, 0] * a\n",
    "    z = jax.vmap(lambda x1, x2: x1 * jnp.exp(x2 * b))(n01[:, 1:], theta)\n",
    "    x = jnp.concatenate([theta.reshape(N, 1), z], axis=1)\n",
    "    return x\n",
    "\n",
    "log_like_grad = jax.grad(log_like)\n",
    "log_prior_grad = jax.grad(log_prior)\n",
    "\n",
    "n01_init = jax.random.normal(jax.random.PRNGKey(0), shape=(20, D + 1))\n",
    "theta_init = n01_init[:, 0] * a\n",
    "z_init = jax.vmap(lambda x1, x2: x1 * jnp.exp(x2 * b))(n01_init[:, 1:], theta_init)\n",
    "x_init = jnp.concatenate([theta_init.reshape(20, 1), z_init], axis=1)\n",
    "print(jnp.shape(x_init))"
   ]
  },
  {
   "cell_type": "code",
   "execution_count": 3,
   "id": "e00f8262",
   "metadata": {},
   "outputs": [
    {
     "data": {
      "text/plain": [
       "<seaborn.axisgrid.PairGrid at 0x7f25e4cd87c0>"
      ]
     },
     "execution_count": 3,
     "metadata": {},
     "output_type": "execute_result"
    },
    {
     "data": {
      "image/png": "[encoded data removed]",
      "text/plain": [
       "<Figure size 360x360 with 6 Axes>"
      ]
     },
     "metadata": {
      "needs_background": "light"
     },
     "output_type": "display_data"
    }
   ],
   "source": [
    "xdf = x_init[:, 0:2]\n",
    "df = pd.DataFrame(xdf)\n",
    "sns.pairplot(df)"
   ]
  },
  {
   "cell_type": "code",
   "execution_count": 4,
   "id": "62eee88c",
   "metadata": {},
   "outputs": [
    {
     "name": "stdout",
     "output_type": "stream",
     "text": [
      "(2000, 101)\n"
     ]
    }
   ],
   "source": [
    "truth_df = pd.read_csv('./fiducial_samples/noisy_funnel_100zD_sigma0p1.csv', index_col=0)\n",
    "\n",
    "truth_x = np.empty((2000, D + 1))\n",
    "truth_x[:, 0] = truth_df[\"('posterior', 'theta')\"]\n",
    "for i in range(D):\n",
    "    truth_x[:, i + 1] = truth_df[\"('posterior', 'z[{0}]', {1})\".format(i, i)]\n",
    "    \n",
    "#truth_x = truth_x[0::100, :]\n",
    "print(np.shape(truth_x))\n",
    "np.savetxt('./fiducial_samples/noise_funnel_100d_samples_sigma0p1.txt', truth_x)"
   ]
  },
  {
   "cell_type": "code",
   "execution_count": 5,
   "id": "a20a2109",
   "metadata": {},
   "outputs": [
    {
     "data": {
      "text/plain": [
       "<AxesSubplot:ylabel='Density'>"
      ]
     },
     "execution_count": 5,
     "metadata": {},
     "output_type": "execute_result"
    },
    {
     "data": {
      "image/png": "[encoded data removed]",
      "text/plain": [
       "<Figure size 432x288 with 1 Axes>"
      ]
     },
     "metadata": {
      "needs_background": "light"
     },
     "output_type": "display_data"
    }
   ],
   "source": [
    "sns.kdeplot(data_sample)"
   ]
  },
  {
   "cell_type": "code",
   "execution_count": 6,
   "id": "d6c0bd17",
   "metadata": {},
   "outputs": [
    {
     "data": {
      "text/plain": [
       "<AxesSubplot:ylabel='Density'>"
      ]
     },
     "execution_count": 6,
     "metadata": {},
     "output_type": "execute_result"
    },
    {
     "data": {
      "image/png": "[encoded data removed]",
      "text/plain": [
       "<Figure size 432x288 with 1 Axes>"
      ]
     },
     "metadata": {
      "needs_background": "light"
     },
     "output_type": "display_data"
    }
   ],
   "source": [
    "sns.kdeplot(truth_x[:, 0])"
   ]
  },
  {
   "cell_type": "markdown",
   "id": "5f31b7ac",
   "metadata": {},
   "source": [
    "Below I have defined the key parameters that I think you will need to worry about. If you look at the actual code you'll see a lot more parameters. Some of these are from older versions of the algorithm, and some of these are only relevant for the NFO optimization algorithm. We'll tidy this up at some point, but this should be enough to get you going."
   ]
  },
  {
   "cell_type": "code",
   "execution_count": 38,
   "id": "c102741a",
   "metadata": {},
   "outputs": [],
   "source": [
    "'''\n",
    "General parameters\n",
    "'''\n",
    "log_like_args = (data_sample,)\n",
    "log_prior_args = () \n",
    "vmap = True\n",
    "parallel_backend = None\n",
    "bounds = None\n",
    "random_seed = seed\n",
    "\n",
    "'''\n",
    "SINF/SNF parameters\n",
    "---------------\n",
    "'''\n",
    "#sinf parameters\n",
    "reg_alpha = (0.98, 0.98)\n",
    "NBfirstlayer = True\n",
    "verbose = False\n",
    "interp_nbin = 20\n",
    "sgd_steps = 0\n",
    "gamma = 0\n",
    "knots_trainable = 20\n",
    "optimize_directions = None\n",
    "logp_cut = None\n",
    "edge_bins = 0\n",
    "Whiten = True\n",
    "Whiten_with_weights = True\n",
    "Whiten_reg = 0.\n",
    "iteration = 20\n",
    "NERCOME = True\n",
    "t_ess = 0.5\n",
    "MSWD_max_iter = None\n",
    "\n",
    "frac_validate = 0.2\n",
    "snf_loss = 3\n",
    "reg = 0.0\n",
    "reg1 = 0.98\n",
    "reg2 = 0.98\n",
    "\n",
    "dla_step_size = 1.0\n",
    "num_extra_dla_samples = 81\n",
    "grad_norm_thresh = 0.5\n",
    "max_dla_line_steps = 5\n",
    "log_like_grad = log_like_grad\n",
    "log_prior_grad = log_prior_grad\n",
    "accelerate_dla = False\n",
    "dla_beta_thresh = 0.5\n",
    "latent_dla = True\n",
    "maxknot = False\n",
    "max_dla_burnin = 100\n",
    "\n",
    "max_dla_iter = 16\n",
    "\n",
    "flow_type = 'SINF'\n",
    "maf_layers = 10\n",
    "maf_hidden = 5\n",
    "maf_activation = torch.sigmoid\n",
    "dropout_prob = 0.2\n",
    "maf_epochs = 200\n",
    "\n",
    "mala_step_size = 1e-3\n",
    "num_mala = 1\n",
    "tune_mala = 5"
   ]
  },
  {
   "cell_type": "markdown",
   "id": "e3d4079c",
   "metadata": {},
   "source": [
    "Now we can run our 10d Gaussian example."
   ]
  },
  {
   "cell_type": "code",
   "execution_count": 39,
   "id": "fb0f5d78",
   "metadata": {},
   "outputs": [
    {
     "name": "stdout",
     "output_type": "stream",
     "text": [
      "Time for prior DLA = 0.22393583399997397\n",
      "Current logZ estimate = -1177.3072509765625\n",
      "Acceptance rate for MH adjustment: 0.1\n",
      "Time for DLA MH adjustment = 0.20815928799999028\n",
      "Time for latent space DLA = 1.166051087000028\n",
      "Current logZ estimate = -1138.398193359375\n",
      "Burnin stage 1, Fisher Divergence: 57801612.0\n",
      "Burnin stage 1, abs(norm(dlogq)/norm(dlogp)) = 0.008760700933635235\n",
      "Acceptance rate for MH adjustment: 0.35\n",
      "Time for DLA MH adjustment = 0.17926819299998442\n",
      "Time for latent space DLA = 0.3616349799999625\n",
      "Current logZ estimate = -1036.0611572265625\n",
      "Burnin stage 2, Fisher Divergence: 1149209.25\n",
      "Burnin stage 2, abs(norm(dlogq)/norm(dlogp)) = 0.007477111183106899\n",
      "Acceptance rate for MH adjustment: 0.3\n",
      "Time for DLA MH adjustment = 0.14871622199996182\n",
      "Time for latent space DLA = 0.5345867069999599\n",
      "Current logZ estimate = -990.1315307617188\n",
      "Burnin stage 3, Fisher Divergence: 400464.1875\n",
      "Burnin stage 3, abs(norm(dlogq)/norm(dlogp)) = 0.011831806041300297\n",
      "Acceptance rate for MH adjustment: 0.4\n",
      "Time for DLA MH adjustment = 0.14626334799999086\n",
      "Time for latent space DLA = 0.3663795459999619\n",
      "Current logZ estimate = -959.53076171875\n",
      "Burnin stage 4, Fisher Divergence: 74672.6484375\n",
      "Burnin stage 4, abs(norm(dlogq)/norm(dlogp)) = 0.024509001523256302\n",
      "Acceptance rate for MH adjustment: 0.45\n",
      "Time for DLA MH adjustment = 0.14345260800001824\n",
      "Time for latent space DLA = 0.5342762320000247\n",
      "Current logZ estimate = -935.7677001953125\n",
      "Burnin stage 5, Fisher Divergence: 36660.9921875\n",
      "Burnin stage 5, abs(norm(dlogq)/norm(dlogp)) = 0.03246471285820007\n",
      "Acceptance rate for MH adjustment: 0.4\n",
      "Time for DLA MH adjustment = 0.1427188740000247\n",
      "Time for latent space DLA = 0.390496072000019\n",
      "Current logZ estimate = -913.4673461914062\n",
      "Burnin stage 6, Fisher Divergence: 18347.064453125\n",
      "Burnin stage 6, abs(norm(dlogq)/norm(dlogp)) = 0.04578228294849396\n",
      "Acceptance rate for MH adjustment: 0.25\n",
      "Time for DLA MH adjustment = 0.140924554000037\n",
      "Time for latent space DLA = 0.5837056089999919\n",
      "Current logZ estimate = -880.2291870117188\n",
      "Burnin stage 7, Fisher Divergence: 16153.162109375\n",
      "Burnin stage 7, abs(norm(dlogq)/norm(dlogp)) = 0.049847561866045\n",
      "Acceptance rate for MH adjustment: 0.25\n",
      "Time for DLA MH adjustment = 0.14606734299997015\n",
      "Time for latent space DLA = 0.37174928099994986\n",
      "Current logZ estimate = -801.97607421875\n",
      "Burnin stage 8, Fisher Divergence: 11864.8349609375\n",
      "Burnin stage 8, abs(norm(dlogq)/norm(dlogp)) = 0.05987033247947693\n",
      "Acceptance rate for MH adjustment: 0.5\n",
      "Time for DLA MH adjustment = 0.14064499700003807\n",
      "Time for latent space DLA = 0.5175559969999881\n",
      "Current logZ estimate = -738.2750244140625\n",
      "Burnin stage 9, Fisher Divergence: 8855.361328125\n",
      "Burnin stage 9, abs(norm(dlogq)/norm(dlogp)) = 0.06896994262933731\n",
      "Acceptance rate for MH adjustment: 0.65\n",
      "Time for DLA MH adjustment = 0.14008129100000133\n",
      "Time for latent space DLA = 0.363762821000023\n",
      "Current logZ estimate = -690.3784790039062\n",
      "Burnin stage 10, Fisher Divergence: 7072.7275390625\n",
      "Burnin stage 10, abs(norm(dlogq)/norm(dlogp)) = 0.07323876023292542\n",
      "Acceptance rate for MH adjustment: 0.65\n",
      "Time for DLA MH adjustment = 0.1424363410000069\n",
      "Time for latent space DLA = 0.3613321270000256\n",
      "Current logZ estimate = -643.3975830078125\n",
      "Burnin stage 11, Fisher Divergence: 6090.73095703125\n",
      "Burnin stage 11, abs(norm(dlogq)/norm(dlogp)) = 0.08082124590873718\n",
      "Acceptance rate for MH adjustment: 0.4\n",
      "Time for DLA MH adjustment = 0.14077363500001638\n",
      "Time for latent space DLA = 0.3680860509999775\n",
      "Current logZ estimate = -599.5537719726562\n",
      "Burnin stage 12, Fisher Divergence: 5594.34130859375\n",
      "Burnin stage 12, abs(norm(dlogq)/norm(dlogp)) = 0.0840512290596962\n",
      "Acceptance rate for MH adjustment: 0.45\n",
      "Time for DLA MH adjustment = 0.15899924199999305\n",
      "Time for latent space DLA = 0.4560712169999874\n",
      "Current logZ estimate = -557.2984008789062\n",
      "Burnin stage 13, Fisher Divergence: 4760.7587890625\n",
      "Burnin stage 13, abs(norm(dlogq)/norm(dlogp)) = 0.08609618991613388\n",
      "Acceptance rate for MH adjustment: 0.5\n",
      "Time for DLA MH adjustment = 0.14037503200000856\n",
      "Time for latent space DLA = 0.3714992759999518\n",
      "Current logZ estimate = -528.296875\n",
      "Burnin stage 14, Fisher Divergence: 3851.454345703125\n",
      "Burnin stage 14, abs(norm(dlogq)/norm(dlogp)) = 0.0982581377029419\n",
      "Acceptance rate for MH adjustment: 0.6\n",
      "Time for DLA MH adjustment = 0.14635645100003103\n",
      "Time for latent space DLA = 0.5442173920000073\n",
      "Current logZ estimate = -468.88128662109375\n",
      "Burnin stage 15, Fisher Divergence: 3122.33935546875\n",
      "Burnin stage 15, abs(norm(dlogq)/norm(dlogp)) = 0.11189157515764236\n",
      "Acceptance rate for MH adjustment: 0.55\n",
      "Time for DLA MH adjustment = 0.3744022210000253\n",
      "Time for latent space DLA = 0.5377049570000167\n",
      "Current logZ estimate = -437.0177307128906\n",
      "Burnin stage 16, Fisher Divergence: 2506.702880859375\n",
      "Burnin stage 16, abs(norm(dlogq)/norm(dlogp)) = 0.12614312767982483\n",
      "Acceptance rate for MH adjustment: 0.55\n",
      "Time for DLA MH adjustment = 0.14235644800004366\n",
      "Time for latent space DLA = 0.5176077810000379\n",
      "Current logZ estimate = -411.21173095703125\n",
      "Burnin stage 17, Fisher Divergence: 2304.4443359375\n",
      "Burnin stage 17, abs(norm(dlogq)/norm(dlogp)) = 0.12553666532039642\n",
      "Acceptance rate for MH adjustment: 0.35\n",
      "Time for DLA MH adjustment = 0.1412282379999965\n",
      "Time for latent space DLA = 0.3668420660000038\n",
      "Current logZ estimate = -384.3811950683594\n",
      "Burnin stage 18, Fisher Divergence: 1748.869140625\n",
      "Burnin stage 18, abs(norm(dlogq)/norm(dlogp)) = 0.14424826204776764\n",
      "Acceptance rate for MH adjustment: 0.5\n",
      "Time for DLA MH adjustment = 0.13980385899998282\n",
      "Time for latent space DLA = 0.4340180180000175\n",
      "Current logZ estimate = -359.63385009765625\n",
      "Burnin stage 19, Fisher Divergence: 1629.3399658203125\n",
      "Burnin stage 19, abs(norm(dlogq)/norm(dlogp)) = 0.15506763756275177\n",
      "Acceptance rate for MH adjustment: 0.6\n",
      "Time for DLA MH adjustment = 0.15349764000001187\n",
      "Time for latent space DLA = 0.38797363600002654\n",
      "Current logZ estimate = -340.6005859375\n",
      "Burnin stage 20, Fisher Divergence: 1419.9306640625\n",
      "Burnin stage 20, abs(norm(dlogq)/norm(dlogp)) = 0.17395485937595367\n",
      "Acceptance rate for MH adjustment: 0.7\n",
      "Time for DLA MH adjustment = 0.1396854879999978\n",
      "Time for latent space DLA = 0.3646021870000027\n",
      "Current logZ estimate = -316.0809020996094\n",
      "Burnin stage 21, Fisher Divergence: 1235.5113525390625\n",
      "Burnin stage 21, abs(norm(dlogq)/norm(dlogp)) = 0.1851976066827774\n",
      "Acceptance rate for MH adjustment: 0.6\n",
      "Time for DLA MH adjustment = 0.14488670100001855\n",
      "Time for latent space DLA = 0.5226589160000117\n",
      "Current logZ estimate = -290.88189697265625\n",
      "Burnin stage 22, Fisher Divergence: 1069.98583984375\n",
      "Burnin stage 22, abs(norm(dlogq)/norm(dlogp)) = 0.19867374002933502\n",
      "Acceptance rate for MH adjustment: 0.45\n",
      "Time for DLA MH adjustment = 0.14200863600001412\n",
      "Time for latent space DLA = 0.36922156700001096\n",
      "Current logZ estimate = -272.81939697265625\n",
      "Burnin stage 23, Fisher Divergence: 944.7576293945312\n",
      "Burnin stage 23, abs(norm(dlogq)/norm(dlogp)) = 0.20464946329593658\n",
      "Acceptance rate for MH adjustment: 0.6\n",
      "Time for DLA MH adjustment = 0.14135845800001334\n",
      "Time for latent space DLA = 0.3630033150000145\n",
      "Current logZ estimate = -260.54278564453125\n",
      "Burnin stage 24, Fisher Divergence: 932.2918090820312\n",
      "Burnin stage 24, abs(norm(dlogq)/norm(dlogp)) = 0.20577383041381836\n",
      "Acceptance rate for MH adjustment: 0.6\n",
      "Time for DLA MH adjustment = 0.14134312700002738\n",
      "Time for latent space DLA = 0.3648940660000335\n",
      "Current logZ estimate = -246.42845153808594\n",
      "Burnin stage 25, Fisher Divergence: 757.1683959960938\n",
      "Burnin stage 25, abs(norm(dlogq)/norm(dlogp)) = 0.22433316707611084\n",
      "Acceptance rate for MH adjustment: 0.65\n",
      "Time for DLA MH adjustment = 0.14143781499996066\n",
      "Time for latent space DLA = 0.36526595100002623\n",
      "Current logZ estimate = -235.5961151123047\n",
      "Burnin stage 26, Fisher Divergence: 727.3771362304688\n",
      "Burnin stage 26, abs(norm(dlogq)/norm(dlogp)) = 0.22866490483283997\n",
      "Acceptance rate for MH adjustment: 0.45\n",
      "Time for DLA MH adjustment = 0.14031009900003255\n",
      "Time for latent space DLA = 0.3599710420000406\n",
      "Current logZ estimate = -218.8717498779297\n",
      "Burnin stage 27, Fisher Divergence: 573.9027099609375\n",
      "Burnin stage 27, abs(norm(dlogq)/norm(dlogp)) = 0.25274530053138733\n",
      "Acceptance rate for MH adjustment: 0.65\n",
      "Time for DLA MH adjustment = 0.1437827069999571\n"
     ]
    },
    {
     "name": "stdout",
     "output_type": "stream",
     "text": [
      "Time for latent space DLA = 0.371422315000018\n",
      "Current logZ estimate = -216.51461791992188\n",
      "Burnin stage 28, Fisher Divergence: 530.077392578125\n",
      "Burnin stage 28, abs(norm(dlogq)/norm(dlogp)) = 0.26153838634490967\n",
      "Acceptance rate for MH adjustment: 0.55\n",
      "Time for DLA MH adjustment = 0.13939630200002284\n",
      "Time for latent space DLA = 0.3627844690000188\n",
      "Current logZ estimate = -206.03790283203125\n",
      "Burnin stage 29, Fisher Divergence: 438.33758544921875\n",
      "Burnin stage 29, abs(norm(dlogq)/norm(dlogp)) = 0.2724331319332123\n",
      "Acceptance rate for MH adjustment: 0.55\n",
      "Time for DLA MH adjustment = 0.18385459000000992\n",
      "Time for latent space DLA = 0.363679803000025\n",
      "Current logZ estimate = -187.8192138671875\n",
      "Burnin stage 30, Fisher Divergence: 397.9884338378906\n",
      "Burnin stage 30, abs(norm(dlogq)/norm(dlogp)) = 0.29958996176719666\n",
      "Acceptance rate for MH adjustment: 0.6\n",
      "Time for DLA MH adjustment = 0.1337688869999738\n",
      "Time for latent space DLA = 0.3687475460000087\n",
      "Current logZ estimate = -177.3533935546875\n",
      "Burnin stage 31, Fisher Divergence: 332.9732971191406\n",
      "Burnin stage 31, abs(norm(dlogq)/norm(dlogp)) = 0.3364863097667694\n",
      "Acceptance rate for MH adjustment: 0.7\n",
      "Time for DLA MH adjustment = 0.14490713399999322\n",
      "Time for latent space DLA = 0.4747789099999977\n",
      "Current logZ estimate = -172.1848602294922\n",
      "Burnin stage 32, Fisher Divergence: 283.5586853027344\n",
      "Burnin stage 32, abs(norm(dlogq)/norm(dlogp)) = 0.3604831397533417\n",
      "Acceptance rate for MH adjustment: 0.65\n",
      "Time for DLA MH adjustment = 0.1504011959999616\n",
      "Time for latent space DLA = 0.5071824979999633\n",
      "Current logZ estimate = -166.36253356933594\n",
      "Burnin stage 33, Fisher Divergence: 267.57366943359375\n",
      "Burnin stage 33, abs(norm(dlogq)/norm(dlogp)) = 0.36679306626319885\n",
      "Acceptance rate for MH adjustment: 0.55\n",
      "Time for DLA MH adjustment = 0.1480239420000089\n",
      "Time for latent space DLA = 0.6144904000000224\n",
      "Current logZ estimate = -155.55844116210938\n",
      "Burnin stage 34, Fisher Divergence: 248.64608764648438\n",
      "Burnin stage 34, abs(norm(dlogq)/norm(dlogp)) = 0.3941173851490021\n",
      "Acceptance rate for MH adjustment: 0.65\n",
      "Time for DLA MH adjustment = 0.14833855099999482\n",
      "Time for latent space DLA = 0.3842200089999892\n",
      "Current logZ estimate = -155.6289520263672\n",
      "Burnin stage 35, Fisher Divergence: 266.34368896484375\n",
      "Burnin stage 35, abs(norm(dlogq)/norm(dlogp)) = 0.3635486364364624\n",
      "Acceptance rate for MH adjustment: 0.7\n",
      "Time for DLA MH adjustment = 0.1391470699999786\n",
      "Time for latent space DLA = 0.3807228090000194\n",
      "Current logZ estimate = -152.5823211669922\n",
      "Burnin stage 36, Fisher Divergence: 221.87442016601562\n",
      "Burnin stage 36, abs(norm(dlogq)/norm(dlogp)) = 0.39153921604156494\n",
      "Acceptance rate for MH adjustment: 0.55\n",
      "Time for DLA MH adjustment = 0.14811119900002723\n",
      "Time for latent space DLA = 0.42961236900003996\n",
      "Current logZ estimate = -137.75694274902344\n",
      "Burnin stage 37, Fisher Divergence: 158.95997619628906\n",
      "Burnin stage 37, abs(norm(dlogq)/norm(dlogp)) = 0.4639439284801483\n",
      "Acceptance rate for MH adjustment: 0.65\n",
      "Time for DLA MH adjustment = 0.15383726700002853\n",
      "Time for latent space DLA = 0.662568742000019\n",
      "Current logZ estimate = -131.6255340576172\n",
      "Burnin stage 38, Fisher Divergence: 162.82066345214844\n",
      "Burnin stage 38, abs(norm(dlogq)/norm(dlogp)) = 0.461141437292099\n",
      "Acceptance rate for MH adjustment: 0.65\n",
      "Time for DLA MH adjustment = 0.1796393520000379\n",
      "Time for latent space DLA = 0.6249108540000066\n",
      "Current logZ estimate = -129.91387939453125\n",
      "Burnin stage 39, Fisher Divergence: 132.55191040039062\n",
      "Burnin stage 39, abs(norm(dlogq)/norm(dlogp)) = 0.5302375555038452\n",
      "Gradient norms are comparable - ending burnin ...\n",
      "Stage 1, Sample Mean: 0.07825686782598495\n",
      "Stage 1, Sample Variance: 0.9396846890449524\n",
      "Current logZ estimate = -162.91111755371094\n",
      "DLA stage 1, Latent Fisher Divergence: 118.91073608398438\n",
      "Primary DLA stage 1, abs[(Z(i+1) - Z(i)) / Z(i)] = 0.2539931833744049\n",
      "Acceptance rate for MH adjustment: 0.7920792079207921\n",
      "Time for DLA MH adjustment = 0.3822683650000158\n",
      "Time for latent space DLA = 1.2931347919999894\n",
      "Stage 2, Sample Mean: 0.0794781893491745\n",
      "Stage 2, Sample Variance: 0.9448926448822021\n",
      "Current logZ estimate = -157.31866455078125\n",
      "DLA stage 2, Latent Fisher Divergence: 88.90669250488281\n",
      "Primary DLA stage 2, abs[(Z(i+1) - Z(i)) / Z(i)] = 0.001964506460353732\n",
      "Acceptance rate for MH adjustment: 0.6237623762376238\n",
      "Time for DLA MH adjustment = 0.30813751200003026\n",
      "Time for latent space DLA = 0.9022694500000057\n",
      "Stage 3, Sample Mean: 0.07965489476919174\n",
      "Stage 3, Sample Variance: 0.9516308307647705\n",
      "Current logZ estimate = -153.05740356445312\n",
      "DLA stage 3, Latent Fisher Divergence: 65.4109878540039\n",
      "Primary DLA stage 3, abs[(Z(i+1) - Z(i)) / Z(i)] = 0.05859103053808212\n",
      "Acceptance rate for MH adjustment: 0.6633663366336634\n",
      "Time for DLA MH adjustment = 0.25992209799994725\n",
      "Time for latent space DLA = 0.7094897489999994\n",
      "Stage 4, Sample Mean: 0.07939739525318146\n",
      "Stage 4, Sample Variance: 0.9615480899810791\n",
      "Current logZ estimate = -152.17066955566406\n",
      "DLA stage 4, Latent Fisher Divergence: 49.8050651550293\n",
      "Primary DLA stage 4, abs[(Z(i+1) - Z(i)) / Z(i)] = 0.00300069828517735\n",
      "Acceptance rate for MH adjustment: 0.6831683168316832\n",
      "Time for DLA MH adjustment = 0.33403159900001356\n",
      "Time for latent space DLA = 0.7477472439999815\n",
      "Stage 5, Sample Mean: 0.07905881106853485\n",
      "Stage 5, Sample Variance: 0.9711324572563171\n",
      "Current logZ estimate = -150.2084197998047\n",
      "DLA stage 5, Latent Fisher Divergence: 38.376705169677734\n",
      "Primary DLA stage 5, abs[(Z(i+1) - Z(i)) / Z(i)] = 0.08070966601371765\n",
      "Acceptance rate for MH adjustment: 0.6534653465346535\n",
      "Time for DLA MH adjustment = 0.2783462389999727\n",
      "Time for latent space DLA = 0.8399058809999929\n",
      "Stage 6, Sample Mean: 0.08025284111499786\n",
      "Stage 6, Sample Variance: 0.9808856844902039\n",
      "Current logZ estimate = -151.15989685058594\n",
      "DLA stage 6, Latent Fisher Divergence: 29.291000366210938\n",
      "Primary DLA stage 6, abs[(Z(i+1) - Z(i)) / Z(i)] = 0.06827980279922485\n",
      "Acceptance rate for MH adjustment: 0.7425742574257426\n",
      "Time for DLA MH adjustment = 0.27987475600002654\n",
      "Time for latent space DLA = 0.7592585190000136\n",
      "Stage 7, Sample Mean: 0.08141086995601654\n",
      "Stage 7, Sample Variance: 0.9889482855796814\n",
      "Current logZ estimate = -148.95260620117188\n",
      "DLA stage 7, Latent Fisher Divergence: 23.83555793762207\n",
      "Primary DLA stage 7, abs[(Z(i+1) - Z(i)) / Z(i)] = 0.1353488713502884\n",
      "Acceptance rate for MH adjustment: 0.6336633663366337\n",
      "Time for DLA MH adjustment = 0.27033173699999224\n",
      "Time for latent space DLA = 0.8126915860000281\n",
      "Stage 8, Sample Mean: 0.0838157907128334\n",
      "Stage 8, Sample Variance: 0.9964355230331421\n",
      "Current logZ estimate = -151.59664916992188\n",
      "DLA stage 8, Latent Fisher Divergence: 18.8509464263916\n",
      "Primary DLA stage 8, abs[(Z(i+1) - Z(i)) / Z(i)] = 0.0724029541015625\n",
      "Acceptance rate for MH adjustment: 0.6732673267326733\n",
      "Time for DLA MH adjustment = 0.2520008650000136\n",
      "Time for latent space DLA = 0.828704456999958\n",
      "Stage 9, Sample Mean: 0.0824170708656311\n",
      "Stage 9, Sample Variance: 1.0058294534683228\n",
      "Current logZ estimate = -151.7444305419922\n",
      "DLA stage 9, Latent Fisher Divergence: 14.7609281539917\n",
      "Primary DLA stage 9, abs[(Z(i+1) - Z(i)) / Z(i)] = 0.15613380074501038\n",
      "Acceptance rate for MH adjustment: 0.5841584158415841\n",
      "Time for DLA MH adjustment = 0.24808630199999016\n",
      "Time for latent space DLA = 0.8049605699999915\n",
      "Stage 10, Sample Mean: 0.08412916213274002\n",
      "Stage 10, Sample Variance: 1.0135258436203003\n",
      "Current logZ estimate = -148.9401092529297\n",
      "DLA stage 10, Latent Fisher Divergence: 10.291138648986816\n",
      "Primary DLA stage 10, abs[(Z(i+1) - Z(i)) / Z(i)] = 0.1355457603931427\n",
      "Acceptance rate for MH adjustment: 0.7425742574257426\n",
      "Time for DLA MH adjustment = 0.24765643900002487\n",
      "Time for latent space DLA = 0.7951856709999561\n",
      "Stage 11, Sample Mean: 0.08427446335554123\n",
      "Stage 11, Sample Variance: 1.0208580493927002\n",
      "Current logZ estimate = -149.17213439941406\n",
      "DLA stage 11, Latent Fisher Divergence: 7.390787124633789\n",
      "Primary DLA stage 11, abs[(Z(i+1) - Z(i)) / Z(i)] = 0.112486332654953\n",
      "Acceptance rate for MH adjustment: 0.693069306930693\n",
      "Time for DLA MH adjustment = 0.2562548129999982\n",
      "Time for latent space DLA = 0.7947572069999751\n",
      "Stage 12, Sample Mean: 0.08700654655694962\n",
      "Stage 12, Sample Variance: 1.0292645692825317\n",
      "Current logZ estimate = -147.11618041992188\n",
      "DLA stage 12, Latent Fisher Divergence: 6.382602214813232\n",
      "Primary DLA stage 12, abs[(Z(i+1) - Z(i)) / Z(i)] = 0.14093147218227386\n"
     ]
    },
    {
     "name": "stdout",
     "output_type": "stream",
     "text": [
      "Acceptance rate for MH adjustment: 0.7524752475247525\n",
      "Time for DLA MH adjustment = 0.28129162199996927\n",
      "Time for latent space DLA = 0.7990055170000119\n",
      "Stage 13, Sample Mean: 0.08784431964159012\n",
      "Stage 13, Sample Variance: 1.0359023809432983\n",
      "Current logZ estimate = -147.40843200683594\n",
      "DLA stage 13, Latent Fisher Divergence: 4.925093173980713\n",
      "Primary DLA stage 13, abs[(Z(i+1) - Z(i)) / Z(i)] = 0.0923711434006691\n",
      "Acceptance rate for MH adjustment: 0.6732673267326733\n",
      "Time for DLA MH adjustment = 0.25218585299995766\n",
      "Time for latent space DLA = 0.8008014380000077\n",
      "Stage 14, Sample Mean: 0.08889114856719971\n",
      "Stage 14, Sample Variance: 1.0403825044631958\n",
      "Current logZ estimate = -147.8643035888672\n",
      "DLA stage 14, Latent Fisher Divergence: 3.98095703125\n",
      "Primary DLA stage 14, abs[(Z(i+1) - Z(i)) / Z(i)] = 0.13583415746688843\n",
      "Acceptance rate for MH adjustment: 0.7821782178217822\n",
      "Time for DLA MH adjustment = 0.31631716200001847\n",
      "Time for latent space DLA = 0.9518314909999503\n",
      "Stage 15, Sample Mean: 0.08828246593475342\n",
      "Stage 15, Sample Variance: 1.0459270477294922\n",
      "Current logZ estimate = -148.50709533691406\n",
      "DLA stage 15, Latent Fisher Divergence: 3.1105964183807373\n",
      "Primary DLA stage 15, abs[(Z(i+1) - Z(i)) / Z(i)] = 0.16568540036678314\n",
      "Acceptance rate for MH adjustment: 0.7920792079207921\n",
      "Time for DLA MH adjustment = 0.29849315299998125\n",
      "Time for latent space DLA = 0.7604335180000135\n",
      "Stage 16, Sample Mean: 0.08753037452697754\n",
      "Stage 16, Sample Variance: 1.0473077297210693\n",
      "Current logZ estimate = -148.4435272216797\n",
      "DLA stage 16, Latent Fisher Divergence: 3.186591625213623\n",
      "Primary DLA stage 16, abs[(Z(i+1) - Z(i)) / Z(i)] = 0.149539053440094\n",
      "Acceptance rate for MH adjustment: 0.7029702970297029\n",
      "Time for DLA MH adjustment = 0.24864018900001383\n",
      "Time for latent space DLA = 0.8906878860000234\n",
      "Stage 17, Sample Mean: 0.08944573253393173\n",
      "Stage 17, Sample Variance: 1.0461262464523315\n",
      "Current logZ estimate = -147.57264709472656\n",
      "DLA stage 17, Latent Fisher Divergence: 2.759272575378418\n",
      "Primary DLA stage 17, abs[(Z(i+1) - Z(i)) / Z(i)] = 0.14232149720191956\n",
      "Acceptance rate for MH adjustment: 0.8415841584158416\n",
      "Time for DLA MH adjustment = 0.27193481499995187\n",
      "Time for latent space DLA = 0.7626359679999837\n",
      "Reached maximum number of DLA iterations ...\n",
      "Likelihood evaluations = 5137\n"
     ]
    },
    {
     "name": "stderr",
     "output_type": "stream",
     "text": [
      "100%|██████████| 6/6 [00:03<00:00,  1.53it/s]"
     ]
    },
    {
     "name": "stdout",
     "output_type": "stream",
     "text": [
      "Mean MALA acceptance rate = 0.9900990128517151\n",
      "Dual averaged step size = [[0.0004852 ]\n",
      " [0.00049874]\n",
      " [0.00050981]\n",
      " [0.00047154]\n",
      " [0.00051497]\n",
      " [0.00053213]\n",
      " [0.00049956]\n",
      " [0.00048468]\n",
      " [0.00050062]\n",
      " [0.00050284]\n",
      " [0.00052421]\n",
      " [0.00051124]\n",
      " [0.00052175]\n",
      " [0.00051496]\n",
      " [0.00052407]\n",
      " [0.00049387]\n",
      " [0.00051288]\n",
      " [0.00050441]\n",
      " [0.00050206]\n",
      " [0.00055703]\n",
      " [0.00052154]\n",
      " [0.00052817]\n",
      " [0.00051607]\n",
      " [0.00054396]\n",
      " [0.00053937]\n",
      " [0.00050569]\n",
      " [0.00052221]\n",
      " [0.00050337]\n",
      " [0.00050607]\n",
      " [0.00050907]\n",
      " [0.00052717]\n",
      " [0.00053897]\n",
      " [0.00051986]\n",
      " [0.00049537]\n",
      " [0.00055687]\n",
      " [0.00053124]\n",
      " [0.00051281]\n",
      " [0.00055098]\n",
      " [0.00052599]\n",
      " [0.00054209]\n",
      " [0.00049794]\n",
      " [0.00051742]\n",
      " [0.00052469]\n",
      " [0.00054647]\n",
      " [0.00051858]\n",
      " [0.00052836]\n",
      " [0.0005129 ]\n",
      " [0.0005163 ]\n",
      " [0.00052976]\n",
      " [0.00053624]\n",
      " [0.00225677]\n",
      " [0.00054477]\n",
      " [0.0005725 ]\n",
      " [0.00052683]\n",
      " [0.00052101]\n",
      " [0.00055621]\n",
      " [0.00051041]\n",
      " [0.00052899]\n",
      " [0.00054802]\n",
      " [0.00120013]\n",
      " [0.00052895]\n",
      " [0.00056166]\n",
      " [0.00054195]\n",
      " [0.00066823]\n",
      " [0.00052435]\n",
      " [0.00057111]\n",
      " [0.00052918]\n",
      " [0.000546  ]\n",
      " [0.00058062]\n",
      " [0.00056062]\n",
      " [0.00052207]\n",
      " [0.00050617]\n",
      " [0.00053045]\n",
      " [0.00055431]\n",
      " [0.0005448 ]\n",
      " [0.00057318]\n",
      " [0.00052076]\n",
      " [0.00052877]\n",
      " [0.0005443 ]\n",
      " [0.00054937]\n",
      " [0.00051995]\n",
      " [0.00053051]\n",
      " [0.00055235]\n",
      " [0.00051526]\n",
      " [0.00054385]\n",
      " [0.00051426]\n",
      " [0.00050028]\n",
      " [0.0005508 ]\n",
      " [0.00051697]\n",
      " [0.0005691 ]\n",
      " [0.00052599]\n",
      " [0.00055209]\n",
      " [0.00050576]\n",
      " [0.00053844]\n",
      " [0.00053503]\n",
      " [0.00053502]\n",
      " [0.00050454]\n",
      " [0.00054846]\n",
      " [0.00051301]\n",
      " [0.00048398]\n",
      " [0.00049059]]\n"
     ]
    },
    {
     "name": "stderr",
     "output_type": "stream",
     "text": [
      "\n"
     ]
    }
   ],
   "source": [
    "trace = nfmc_jax.infer_dlmc(log_like_func=log_like, \n",
    "                             log_prior_func=log_prior,\n",
    "                             init_samples=x_init,\n",
    "                             log_like_args=log_like_args,\n",
    "                             log_prior_args=log_prior_args,\n",
    "                             vmap=vmap, \n",
    "                             parallel_backend=parallel_backend, \n",
    "                             bounds=bounds,\n",
    "                             #sinf parameters\n",
    "                             reg_alpha=reg_alpha,\n",
    "                             NBfirstlayer=NBfirstlayer, \n",
    "                             verbose=verbose,\n",
    "                             interp_nbin=interp_nbin,\n",
    "                             iteration=iteration,\n",
    "                             sgd_steps=sgd_steps,\n",
    "                             gamma=gamma,\n",
    "                             knots_trainable=knots_trainable,\n",
    "                             optimize_directions=optimize_directions,\n",
    "                             logp_cut=logp_cut,\n",
    "                             random_seed=seed,\n",
    "                             edge_bins=edge_bins,\n",
    "                             Whiten=Whiten,\n",
    "                             Whiten_with_weights=Whiten_with_weights,\n",
    "                             frac_validate=frac_validate,\n",
    "                             snf_loss=snf_loss,\n",
    "                             reg=reg,\n",
    "                             reg1=reg1,\n",
    "                             reg2=reg2,\n",
    "                             t_ess=t_ess,\n",
    "                             NERCOME=NERCOME,\n",
    "                             dla_step_size=dla_step_size,\n",
    "                             num_extra_dla_samples=num_extra_dla_samples,\n",
    "                             grad_norm_thresh=grad_norm_thresh,\n",
    "                             log_like_grad=log_like_grad,\n",
    "                             log_prior_grad=log_prior_grad,\n",
    "                             max_dla_line_steps=max_dla_line_steps,\n",
    "                             accelerate_dla=accelerate_dla,\n",
    "                             latent_dla=latent_dla,\n",
    "                             max_dla_iter=max_dla_iter,\n",
    "                             flow_type=flow_type,\n",
    "                             maf_layers=maf_layers,\n",
    "                             maf_hidden=maf_hidden,\n",
    "                             maf_activation=maf_activation,\n",
    "                             dropout_prob=dropout_prob,\n",
    "                             maf_epochs=maf_epochs,\n",
    "                             mala_step_size=mala_step_size,\n",
    "                             num_mala=num_mala,\n",
    "                             tune_mala=tune_mala,\n",
    "                             maxknot=maxknot,\n",
    "                             MSWD_max_iter=MSWD_max_iter,\n",
    "                             Whiten_reg=Whiten_reg,\n",
    "                             max_dla_burnin=max_dla_burnin)"
   ]
  },
  {
   "cell_type": "code",
   "execution_count": 40,
   "id": "08f90276",
   "metadata": {},
   "outputs": [
    {
     "data": {
      "text/plain": [
       "\"\\nf = open('./paper_experiments/funnel_100d_sigma0p1_trace.pkl', 'wb')\\npickle.dump(trace, f)\\nf.close()\\n\""
      ]
     },
     "execution_count": 40,
     "metadata": {},
     "output_type": "execute_result"
    }
   ],
   "source": [
    "'''\n",
    "f = open('./paper_experiments/funnel_100d_sigma0p1_trace.pkl', 'wb')\n",
    "pickle.dump(trace, f)\n",
    "f.close()\n",
    "'''"
   ]
  },
  {
   "cell_type": "markdown",
   "id": "153c70c9",
   "metadata": {},
   "source": [
    "The output from sampling is stored in the trace object. This is currently a collection of dictionaries containing a lot of output stats and samples for development/debugging purposes."
   ]
  },
  {
   "cell_type": "code",
   "execution_count": 41,
   "id": "a5104a09",
   "metadata": {},
   "outputs": [
    {
     "data": {
      "text/plain": [
       "dict_keys(['final_q_samples', 'final_qw_weights', 'log_evidence', 'mh_samples', 'dla_samples', 'mh_logp', 'mh_logq', 'mh_dlogp', 'mh_dlogq', 'dla_logZ', 'dla_q_models', 'dla_qw_models'])"
      ]
     },
     "execution_count": 41,
     "metadata": {},
     "output_type": "execute_result"
    }
   ],
   "source": [
    "44.93142318725586# Check the dictionary keys.SINF\n",
    "trace.keys()"
   ]
  },
  {
   "cell_type": "code",
   "execution_count": 42,
   "id": "4f01e534",
   "metadata": {},
   "outputs": [
    {
     "data": {
      "text/plain": [
       "dict_keys(['init_0', 'burnin_0', 'burnin_1', 'burnin_2', 'burnin_3', 'burnin_4', 'burnin_5', 'burnin_6', 'burnin_7', 'burnin_8', 'burnin_9', 'burnin_10', 'burnin_11', 'burnin_12', 'burnin_13', 'burnin_14', 'burnin_15', 'burnin_16', 'burnin_17', 'burnin_18', 'burnin_19', 'burnin_20', 'burnin_21', 'burnin_22', 'burnin_23', 'burnin_24', 'burnin_25', 'burnin_26', 'burnin_27', 'burnin_28', 'burnin_29', 'burnin_30', 'burnin_31', 'burnin_32', 'burnin_33', 'burnin_34', 'burnin_35', 'burnin_36', 'burnin_37', 'burnin_38', 'post_burnin_0', 'DLA_1', 'DLA_2', 'DLA_3', 'DLA_4', 'DLA_5', 'DLA_6', 'DLA_7', 'DLA_8', 'DLA_9', 'DLA_10', 'DLA_11', 'DLA_12', 'DLA_13', 'DLA_14', 'DLA_15', 'DLA_16', 'DLA_17'])"
      ]
     },
     "execution_count": 42,
     "metadata": {},
     "output_type": "execute_result"
    }
   ],
   "source": [
    "# To inspect the sampling output, we can pull out the q_models.\n",
    "q_models = trace['dla_q_models'][0]\n",
    "q_models.keys()\n",
    "#print(len(q_models.keys()))"
   ]
  },
  {
   "cell_type": "markdown",
   "id": "a672dfe2",
   "metadata": {},
   "source": [
    "# Plotting"
   ]
  },
  {
   "cell_type": "code",
   "execution_count": 43,
   "id": "35327285",
   "metadata": {},
   "outputs": [],
   "source": [
    "def sns_pairplot(q_samples, q_weights, truth_samples=None, q_label='q', \n",
    "                 truth_label='Truth', out_name=None, levels=10, legend_bbox=None, \n",
    "                 prior=False, bw=0.3):\n",
    "    \n",
    "    q_samples = np.asarray(q_samples)\n",
    "    q_weights = np.asarray(q_weights)\n",
    "        \n",
    "    labels = []\n",
    "    \n",
    "    if truth_samples is not None:\n",
    "        \n",
    "        if prior:\n",
    "            \n",
    "            truth_samples = np.ones_like(q_samples) * 30\n",
    "        \n",
    "        truth_samples = np.asarray(truth_samples)\n",
    "        x_samples = np.concatenate([q_samples, truth_samples])\n",
    "        weights = np.concatenate([q_weights, np.ones(len(truth_samples))])\n",
    "    \n",
    "        for i in range(len(q_samples)):\n",
    "            labels.append(q_label)\n",
    "        for i in range(len(truth_samples)):\n",
    "            labels.append(truth_label)\n",
    "    \n",
    "    else:\n",
    "\n",
    "        x_samples = q_samples\n",
    "        weights = q_weights\n",
    "        \n",
    "        for i in range(len(q_samples)):\n",
    "            labels.append(q_label)\n",
    "    \n",
    "    \n",
    "    d = {}\n",
    "    d['labels'] = labels\n",
    "    for i in range(x_samples.shape[1]):\n",
    "        if i == 0:\n",
    "            d[r'$\\theta$'] = x_samples[:, i]\n",
    "        else:\n",
    "            d[f'$z_{i}$'] = x_samples[:, i]\n",
    "        \n",
    "    df = pd.DataFrame(d)\n",
    "    print(df)\n",
    "    \n",
    "    sns.set_theme()\n",
    "    g = sns.PairGrid(df, hue='labels', palette='deep')\n",
    "    g.map_diag(sns.kdeplot, weights=weights, common_norm=False, levels=levels, bw=bw)\n",
    "    g.map_lower(sns.kdeplot, weights=weights, common_norm=False, levels=levels, bw=bw)\n",
    "    g.map_upper(sns.kdeplot, weights=weights, common_norm=False, levels=levels, bw=bw)\n",
    "    if legend_bbox is not None:\n",
    "        g.add_legend(bbox_to_anchor=legend_bbox)\n",
    "    if out_name is not None:\n",
    "        g.savefig(out_name)"
   ]
  },
  {
   "cell_type": "code",
   "execution_count": 44,
   "id": "b58adf60",
   "metadata": {},
   "outputs": [
    {
     "name": "stdout",
     "output_type": "stream",
     "text": [
      "()\n"
     ]
    },
    {
     "data": {
      "text/plain": [
       "<seaborn.axisgrid.PairGrid at 0x7f25c42b5340>"
      ]
     },
     "execution_count": 44,
     "metadata": {},
     "output_type": "execute_result"
    },
    {
     "data": {
      "text/plain": [
       "<Figure size 432x288 with 0 Axes>"
      ]
     },
     "metadata": {},
     "output_type": "display_data"
    },
    {
     "data": {
      "image/png": "[encoded data removed]",
      "text/plain": [
       "<Figure size 360x360 with 6 Axes>"
      ]
     },
     "metadata": {},
     "output_type": "display_data"
    },
    {
     "data": {
      "image/png": "[encoded data removed]",
      "text/plain": [
       "<Figure size 360x360 with 6 Axes>"
      ]
     },
     "metadata": {},
     "output_type": "display_data"
    }
   ],
   "source": [
    "#mh_samples = trace['final_q_samples'][0]\n",
    "mh_samples = trace['mh_samples'][0]\n",
    "print(np.shape(mh_samples))\n",
    "x = mh_samples['DLA_15'][:, 0:2]\n",
    "plt.figure()\n",
    "sns.pairplot(pd.DataFrame(x),\n",
    "             plot_kws={'s': 10})\n",
    "sns.pairplot(pd.DataFrame(x_init[:,0:2]), plot_kws={'s': 10})"
   ]
  },
  {
   "cell_type": "code",
   "execution_count": 51,
   "id": "2a641632",
   "metadata": {},
   "outputs": [
    {
     "name": "stdout",
     "output_type": "stream",
     "text": [
      "     labels  $\\theta$     $z_1$\n",
      "0      DLMC  0.054467 -2.173152\n",
      "1      DLMC  0.194862 -2.182581\n",
      "2      DLMC  0.026217 -2.106822\n",
      "3      DLMC -0.063561 -2.145526\n",
      "4      DLMC  0.201390 -2.087396\n",
      "...     ...       ...       ...\n",
      "2096   NUTS -0.058458 -2.194374\n",
      "2097   NUTS -0.058784 -2.057745\n",
      "2098   NUTS -0.267428 -2.032796\n",
      "2099   NUTS  0.444632 -2.286263\n",
      "2100   NUTS -0.125063 -2.075453\n",
      "\n",
      "[2101 rows x 3 columns]\n"
     ]
    },
    {
     "name": "stderr",
     "output_type": "stream",
     "text": [
      "/home/richard/anaconda3/envs/jax/lib/python3.9/site-packages/seaborn/distributions.py:1657: FutureWarning: The `bw` parameter is deprecated in favor of `bw_method` and `bw_adjust`. Using 0.6 for `bw_method`, but please see the docs for the new parameters and update your code.\n",
      "  warnings.warn(msg, FutureWarning)\n",
      "/home/richard/anaconda3/envs/jax/lib/python3.9/site-packages/seaborn/distributions.py:1657: FutureWarning: The `bw` parameter is deprecated in favor of `bw_method` and `bw_adjust`. Using 0.6 for `bw_method`, but please see the docs for the new parameters and update your code.\n",
      "  warnings.warn(msg, FutureWarning)\n",
      "/home/richard/anaconda3/envs/jax/lib/python3.9/site-packages/seaborn/distributions.py:1657: FutureWarning: The `bw` parameter is deprecated in favor of `bw_method` and `bw_adjust`. Using 0.6 for `bw_method`, but please see the docs for the new parameters and update your code.\n",
      "  warnings.warn(msg, FutureWarning)\n",
      "/home/richard/anaconda3/envs/jax/lib/python3.9/site-packages/seaborn/distributions.py:1657: FutureWarning: The `bw` parameter is deprecated in favor of `bw_method` and `bw_adjust`. Using 0.6 for `bw_method`, but please see the docs for the new parameters and update your code.\n",
      "  warnings.warn(msg, FutureWarning)\n"
     ]
    },
    {
     "data": {
      "image/png": "[encoded data removed]",
      "text/plain": [
       "<Figure size 360x360 with 6 Axes>"
      ]
     },
     "metadata": {},
     "output_type": "display_data"
    }
   ],
   "source": [
    "dla_key = 'DLA_17'\n",
    "sns_pairplot(mh_samples[dla_key][:, 0:2], \n",
    "             np.ones(len(mh_samples['DLA_1'][:, 0:2])),\n",
    "             truth_samples=truth_x[:, 0:2], levels=6, \n",
    "             q_label='DLMC', truth_label='NUTS', bw=0.6,\n",
    "             out_name='./dla_figs/paper/funnel_100d_sigma0p1_DLA_17_101_samples.png')"
   ]
  },
  {
   "cell_type": "code",
   "execution_count": null,
   "id": "0f5d997e",
   "metadata": {},
   "outputs": [],
   "source": []
  }
 ],
 "metadata": {
  "kernelspec": {
   "display_name": "Python 3 (ipykernel)",
   "language": "python",
   "name": "python3"
  },
  "language_info": {
   "codemirror_mode": {
    "name": "ipython",
    "version": 3
   },
   "file_extension": ".py",
   "mimetype": "text/x-python",
   "name": "python",
   "nbconvert_exporter": "python",
   "pygments_lexer": "ipython3",
   "version": "3.9.10"
  }
 },
 "nbformat": 4,
 "nbformat_minor": 5
}
