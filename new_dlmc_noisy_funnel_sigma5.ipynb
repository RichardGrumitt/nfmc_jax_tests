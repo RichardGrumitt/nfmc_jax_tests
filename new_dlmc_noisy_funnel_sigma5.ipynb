{
 "cells": [
  {
   "cell_type": "code",
   "execution_count": 1,
   "id": "a03f924e",
   "metadata": {},
   "outputs": [
    {
     "name": "stderr",
     "output_type": "stream",
     "text": [
      "/opt/homebrew/Caskroom/miniforge/base/envs/jax_cpu/lib/python3.9/site-packages/jax/_src/lib/__init__.py:32: UserWarning: JAX on Mac ARM machines is experimental and minimally tested. Please see https://github.com/google/jax/issues/5501 in the event of problems.\n",
      "  warnings.warn(\"JAX on Mac ARM machines is experimental and minimally tested. \"\n"
     ]
    }
   ],
   "source": [
    "import sys\n",
    "# Change to wherever you've copied the repo.\n",
    "sys.path.insert(1, '/Users/richardgrumitt/Documents/berkeley/NFMC_Jax/')\n",
    "import nfmc_jax\n",
    "import arviz as az\n",
    "import matplotlib\n",
    "import matplotlib.pyplot as plt\n",
    "import numpy as np\n",
    "import seaborn as sns\n",
    "import pandas as pd\n",
    "\n",
    "import scipy\n",
    "from scipy.stats import multivariate_normal as n_mvn\n",
    "import corner\n",
    "import torch\n",
    "import warnings\n",
    "import pickle\n",
    "\n",
    "import torch.distributions\n",
    "from nfmc_jax.DLA.base import PPDLMC, LatentDLA\n",
    "from nfmc_jax.DLA.posterior import TorchPosterior\n",
    "from nfmc_jax.DLA.debug import MultiStageDebugger\n",
    "from nfmc_jax.flows.base import SINFInterface, RealNVPInterface, MAFInterface, RQNSFInterface, PPInterface\n",
    "from nfmc_jax.utils.torch_distributions import gaussian_log_prob, Funnel\n",
    "\n",
    "import getdist\n",
    "from getdist import plots, MCSamples\n",
    "\n",
    "seed=1234\n",
    "np.random.seed(seed)"
   ]
  },
  {
   "cell_type": "markdown",
   "id": "24a42861",
   "metadata": {},
   "source": [
    "# Sampling a 100-d noisy funnel"
   ]
  },
  {
   "cell_type": "code",
   "execution_count": 2,
   "id": "8d52027f",
   "metadata": {},
   "outputs": [
    {
     "name": "stdout",
     "output_type": "stream",
     "text": [
      "torch.Size([100])\n"
     ]
    }
   ],
   "source": [
    "D = 100 # Latent variable dimensions (not NF latent space)\n",
    "a = 3.\n",
    "b = 0.5\n",
    "\n",
    "theta_sample = 0\n",
    "z_sample = torch.randn((D,))\n",
    "z_sample = z_sample * np.exp(b * theta_sample)\n",
    "data_sample = torch.distributions.MultivariateNormal(loc=z_sample, \n",
    "                                                     covariance_matrix=5.0**2*torch.eye(D)).sample()\n",
    "print(data_sample.shape)\n",
    "\n",
    "def log_like(x, data=data_sample):\n",
    "    theta = x[:, 0]\n",
    "    z = x[:, 1:]\n",
    "    return torch.distributions.MultivariateNormal(loc=data,\n",
    "                                                  covariance_matrix=5.0**2*torch.eye(D)).log_prob(z)\n",
    "    \n",
    "def log_prior(x):\n",
    "    theta = x[:, 0]\n",
    "    z = x[:, 1:]\n",
    "    log_pi_theta = torch.distributions.Normal(loc=0, scale=a).log_prob(theta)\n",
    "    mu_z = torch.zeros((z.shape[0], D))\n",
    "    sd_z = torch.exp(b * theta).reshape(z.shape[0], 1) * torch.ones((z.shape[0], D))\n",
    "    log_pi_z = torch.sum(torch.distributions.Normal(loc=mu_z, scale=sd_z).log_prob(z), dim=1)\n",
    "    return log_pi_theta + log_pi_z\n",
    "\n",
    "def prior_rvs(N, seed):\n",
    "    torch.manual_seed(seed)\n",
    "    n01 = torch.randn((N, D + 1))\n",
    "    theta = n01[:, 0] * a\n",
    "    z = torch.zeros((N, D))\n",
    "    for i in range(N):\n",
    "        z[i, :] = n01[i, 1:] * torch.exp(b * theta[i])\n",
    "    x = torch.cat([theta.reshape(N, 1), z], dim=1)\n",
    "    return x\n",
    "\n",
    "posterior = TorchPosterior(log_likelihood = lambda x: log_like(x),\n",
    "                           log_prior = lambda x: log_prior(x))\n",
    "\n",
    "initial_samples = prior_rvs(2000, 0)"
   ]
  },
  {
   "cell_type": "code",
   "execution_count": 3,
   "id": "e00f8262",
   "metadata": {},
   "outputs": [
    {
     "data": {
      "text/plain": [
       "<seaborn.axisgrid.PairGrid at 0x105a3d280>"
      ]
     },
     "execution_count": 3,
     "metadata": {},
     "output_type": "execute_result"
    },
    {
     "data": {
      "image/png": "[encoded data removed]",
      "text/plain": [
       "<Figure size 360x360 with 6 Axes>"
      ]
     },
     "metadata": {
      "needs_background": "light"
     },
     "output_type": "display_data"
    }
   ],
   "source": [
    "xdf = initial_samples[:, 0:2]\n",
    "df = pd.DataFrame(xdf)\n",
    "sns.pairplot(df)"
   ]
  },
  {
   "cell_type": "code",
   "execution_count": 4,
   "id": "62eee88c",
   "metadata": {},
   "outputs": [],
   "source": [
    "idata = az.from_netcdf('./dlmc_grad_experiments/benchmarks/funnel_sigma5/nuts/new_inference_data_funnel_non_centered_mcmc.nc')\n",
    "itheta = idata['posterior']['theta'].to_numpy()\n",
    "iz = idata['posterior']['z'].to_numpy()\n",
    "iz.shape\n",
    "\n",
    "ix = np.concatenate([itheta[0, :].reshape(10000, 1), iz[0, :, :]], axis=1)\n",
    "ix.shape\n",
    "\n",
    "nc_steps = idata['sample_stats']['n_steps'].to_numpy()[0]"
   ]
  },
  {
   "cell_type": "code",
   "execution_count": 5,
   "id": "2ff43bc7",
   "metadata": {},
   "outputs": [
    {
     "name": "stderr",
     "output_type": "stream",
     "text": [
      "/Users/richardgrumitt/Documents/berkeley/NFMC_Jax/nfmc_jax/sinf/SINF.py:581: UserWarning: torch.qr is deprecated in favor of torch.linalg.qr and will be removed in a future PyTorch release.\n",
      "The boolean parameter 'some' has been replaced with a string parameter 'mode'.\n",
      "Q, R = torch.qr(A, some)\n",
      "should be replaced with\n",
      "Q, R = torch.linalg.qr(A, 'reduced' if some else 'complete') (Triggered internally at  ../aten/src/ATen/native/BatchLinearAlgebra.cpp:1937.)\n",
      "  Q, R = torch.qr(ATi)\n"
     ]
    }
   ],
   "source": [
    "# Remember you used 101 layers before.\n",
    "\n",
    "flow_interface = SINFInterface()\n",
    "flow_interface.create_flow(x=initial_samples,\n",
    "                           val_frac=0.2,\n",
    "                           iteration=None,\n",
    "                           bounds=None,\n",
    "                           alpha=(0., 0.98),\n",
    "                           NBfirstlayer=True,\n",
    "                           verbose=False,\n",
    "                           M=None,\n",
    "                           K=None,\n",
    "                           Whiten=False,\n",
    "                           Whiten_with_weights=False,\n",
    "                           Whiten_reg='NERCOME',\n",
    "                           maxknot=True,\n",
    "                           MSWD_max_iter=None)"
   ]
  },
  {
   "cell_type": "code",
   "execution_count": 6,
   "id": "680ca298",
   "metadata": {},
   "outputs": [],
   "source": [
    "burnin_interface = SINFInterface()\n",
    "burnin_interface.create_flow(x=initial_samples,\n",
    "                             val_frac=0.2,\n",
    "                           iteration=None,\n",
    "                           bounds=None,\n",
    "                           alpha=(0., 0.98),\n",
    "                           NBfirstlayer=True,\n",
    "                           verbose=False,\n",
    "                           M=None,\n",
    "                           Whiten=False,\n",
    "                           Whiten_with_weights=False,\n",
    "                           Whiten_reg='NERCOME',\n",
    "                           maxknot=True,\n",
    "                           MSWD_max_iter=None)"
   ]
  },
  {
   "cell_type": "code",
   "execution_count": 10,
   "id": "8e73ff3d",
   "metadata": {},
   "outputs": [],
   "source": [
    "maf_interface = MAFInterface(n_dim=101, n_hidden=15, n_layers=10)\n",
    "maf_interface.create_flow()"
   ]
  },
  {
   "cell_type": "code",
   "execution_count": 38,
   "id": "bcfb79f8",
   "metadata": {},
   "outputs": [
    {
     "name": "stdout",
     "output_type": "stream",
     "text": [
      "DLMC run 3\n"
     ]
    },
    {
     "name": "stderr",
     "output_type": "stream",
     "text": [
      "\r",
      "  0%|                                                   | 0/110 [00:00<?, ?it/s]"
     ]
    },
    {
     "name": "stdout",
     "output_type": "stream",
     "text": [
      "zVirial = 260757.703125\n",
      "Virial = 505.41314697265625\n",
      "<sum_x_virial> = 505.41314697265625\n",
      "<sum_z_virial> = 260757.703125\n"
     ]
    },
    {
     "name": "stderr",
     "output_type": "stream",
     "text": [
      "[Stage 0] Beta: 1.0:   1%|   | 1/110 [00:14<25:42, 14.15s/it, accept_IMH=0.0445]"
     ]
    },
    {
     "name": "stdout",
     "output_type": "stream",
     "text": [
      "zVirial = 31421.103515625\n",
      "Virial = 216.8060302734375\n",
      "<sum_x_virial> = 216.8060302734375\n",
      "<sum_z_virial> = 31421.103515625\n"
     ]
    },
    {
     "name": "stderr",
     "output_type": "stream",
     "text": [
      "[Stage 0] Beta: 1.0:   2%|   | 2/110 [00:56<55:33, 30.87s/it, accept_IMH=0.0725]"
     ]
    },
    {
     "name": "stdout",
     "output_type": "stream",
     "text": [
      "zVirial = 8543.7822265625\n",
      "Virial = 174.35726928710938\n",
      "<sum_x_virial> = 174.35726928710938\n",
      "<sum_z_virial> = 8543.7822265625\n"
     ]
    },
    {
     "name": "stderr",
     "output_type": "stream",
     "text": [
      "[Stage 0] Beta: 1.0:   3%|   | 3/110 [01:08<39:37, 22.22s/it, accept_IMH=0.0195]"
     ]
    },
    {
     "name": "stdout",
     "output_type": "stream",
     "text": [
      "zVirial = 990.1689453125\n",
      "Virial = 149.25453186035156\n",
      "<sum_x_virial> = 149.25453186035156\n",
      "<sum_z_virial> = 990.1689453125\n"
     ]
    },
    {
     "name": "stderr",
     "output_type": "stream",
     "text": [
      "[Stage 0] Beta: 1.0:   4%|▏   | 4/110 [01:19<31:10, 17.65s/it, accept_IMH=0.014]"
     ]
    },
    {
     "name": "stdout",
     "output_type": "stream",
     "text": [
      "zVirial = 595.137451171875\n",
      "Virial = 143.11492919921875\n",
      "<sum_x_virial> = 143.11492919921875\n",
      "<sum_z_virial> = 595.137451171875\n"
     ]
    },
    {
     "name": "stderr",
     "output_type": "stream",
     "text": [
      "[Stage 0] Beta: 1.0:   5%|▏  | 5/110 [01:30<26:33, 15.18s/it, accept_IMH=0.0165]"
     ]
    },
    {
     "name": "stdout",
     "output_type": "stream",
     "text": [
      "zVirial = 428.47802734375\n",
      "Virial = 139.29757690429688\n",
      "<sum_x_virial> = 139.29757690429688\n",
      "<sum_z_virial> = 428.47802734375\n"
     ]
    },
    {
     "name": "stderr",
     "output_type": "stream",
     "text": [
      "[Stage 0] Beta: 1.0:   5%|▏  | 6/110 [01:42<24:35, 14.19s/it, accept_IMH=0.0145]"
     ]
    },
    {
     "name": "stdout",
     "output_type": "stream",
     "text": [
      "zVirial = 363.8388366699219\n",
      "Virial = 132.69692993164062\n",
      "<sum_x_virial> = 132.69692993164062\n",
      "<sum_z_virial> = 363.8388366699219\n"
     ]
    },
    {
     "name": "stderr",
     "output_type": "stream",
     "text": [
      "[Stage 0] Beta: 1.0:   6%|▏  | 7/110 [01:54<23:01, 13.41s/it, accept_IMH=0.0115]"
     ]
    },
    {
     "name": "stdout",
     "output_type": "stream",
     "text": [
      "zVirial = 301.29107666015625\n",
      "Virial = 127.9783935546875\n",
      "<sum_x_virial> = 127.9783935546875\n",
      "<sum_z_virial> = 301.29107666015625\n"
     ]
    },
    {
     "name": "stderr",
     "output_type": "stream",
     "text": [
      "[Stage 0] Beta: 1.0:   7%|▏  | 8/110 [02:03<20:42, 12.18s/it, accept_IMH=0.0105]"
     ]
    },
    {
     "name": "stdout",
     "output_type": "stream",
     "text": [
      "zVirial = 290.9722595214844\n",
      "Virial = 126.77732849121094\n",
      "<sum_x_virial> = 126.77732849121094\n",
      "<sum_z_virial> = 290.9722595214844\n"
     ]
    },
    {
     "name": "stderr",
     "output_type": "stream",
     "text": [
      "[Stage 0] Beta: 1.0:   8%|▎   | 9/110 [02:13<19:12, 11.41s/it, accept_IMH=0.007]"
     ]
    },
    {
     "name": "stdout",
     "output_type": "stream",
     "text": [
      "zVirial = 288.0567626953125\n",
      "Virial = 125.28145599365234\n",
      "<sum_x_virial> = 125.28145599365234\n",
      "<sum_z_virial> = 288.0567626953125\n"
     ]
    },
    {
     "name": "stderr",
     "output_type": "stream",
     "text": [
      "[Stage 0] Beta: 1.0:   9%|▎  | 10/110 [02:24<18:44, 11.25s/it, accept_IMH=0.009]"
     ]
    },
    {
     "name": "stdout",
     "output_type": "stream",
     "text": [
      "zVirial = 278.1336364746094\n",
      "Virial = 124.14971160888672\n",
      "<sum_x_virial> = 124.14971160888672\n",
      "<sum_z_virial> = 278.1336364746094\n"
     ]
    },
    {
     "name": "stderr",
     "output_type": "stream",
     "text": [
      "[Stage 0] Beta: 1.0:  10%|▎  | 11/110 [02:36<18:56, 11.48s/it, accept_IMH=0.009]"
     ]
    },
    {
     "name": "stdout",
     "output_type": "stream",
     "text": [
      "zVirial = 279.61737060546875\n",
      "Virial = 122.97355651855469\n",
      "<sum_x_virial> = 122.97355651855469\n",
      "<sum_z_virial> = 279.61737060546875\n"
     ]
    },
    {
     "name": "stderr",
     "output_type": "stream",
     "text": [
      "[Stage 0] Beta: 1.0:  11%|▎  | 12/110 [02:47<18:23, 11.26s/it, accept_IMH=0.007]"
     ]
    },
    {
     "name": "stdout",
     "output_type": "stream",
     "text": [
      "zVirial = 250.1501007080078\n",
      "Virial = 123.04781341552734\n",
      "<sum_x_virial> = 123.04781341552734\n",
      "<sum_z_virial> = 250.1501007080078\n"
     ]
    },
    {
     "name": "stderr",
     "output_type": "stream",
     "text": [
      "[Stage 0] Beta: 1.0:  12%|▏ | 13/110 [02:56<17:20, 10.73s/it, accept_IMH=0.0055]"
     ]
    },
    {
     "name": "stdout",
     "output_type": "stream",
     "text": [
      "zVirial = 249.38873291015625\n",
      "Virial = 122.3604507446289\n",
      "<sum_x_virial> = 122.3604507446289\n",
      "<sum_z_virial> = 249.38873291015625\n"
     ]
    },
    {
     "name": "stderr",
     "output_type": "stream",
     "text": [
      "[Stage 0] Beta: 1.0:  13%|▎ | 14/110 [03:06<16:58, 10.61s/it, accept_IMH=0.0075]"
     ]
    },
    {
     "name": "stdout",
     "output_type": "stream",
     "text": [
      "zVirial = 267.56982421875\n",
      "Virial = 121.05640411376953\n",
      "<sum_x_virial> = 121.05640411376953\n",
      "<sum_z_virial> = 267.56982421875\n"
     ]
    },
    {
     "name": "stderr",
     "output_type": "stream",
     "text": [
      "[Stage 0] Beta: 1.0:  14%|▍  | 15/110 [03:17<16:58, 10.72s/it, accept_IMH=0.008]"
     ]
    },
    {
     "name": "stdout",
     "output_type": "stream",
     "text": [
      "zVirial = 235.46658325195312\n",
      "Virial = 120.40995788574219\n",
      "<sum_x_virial> = 120.40995788574219\n",
      "<sum_z_virial> = 235.46658325195312\n"
     ]
    },
    {
     "name": "stderr",
     "output_type": "stream",
     "text": [
      "[Stage 0] Beta: 1.0:  15%|▍  | 16/110 [03:28<16:30, 10.54s/it, accept_IMH=0.005]"
     ]
    },
    {
     "name": "stdout",
     "output_type": "stream",
     "text": [
      "zVirial = 239.99691772460938\n",
      "Virial = 119.48809814453125\n",
      "<sum_x_virial> = 119.48809814453125\n",
      "<sum_z_virial> = 239.99691772460938\n"
     ]
    },
    {
     "name": "stderr",
     "output_type": "stream",
     "text": [
      "[Stage 0] Beta: 1.0:  15%|▍  | 17/110 [03:38<16:15, 10.49s/it, accept_IMH=0.005]"
     ]
    },
    {
     "name": "stdout",
     "output_type": "stream",
     "text": [
      "zVirial = 246.62953186035156\n",
      "Virial = 118.23726654052734\n",
      "<sum_x_virial> = 118.23726654052734\n",
      "<sum_z_virial> = 246.62953186035156\n"
     ]
    },
    {
     "name": "stderr",
     "output_type": "stream",
     "text": [
      "[Stage 0] Beta: 1.0:  16%|▍  | 18/110 [03:49<16:20, 10.65s/it, accept_IMH=0.004]"
     ]
    },
    {
     "name": "stdout",
     "output_type": "stream",
     "text": [
      "zVirial = 211.11282348632812\n",
      "Virial = 117.97283172607422\n",
      "<sum_x_virial> = 117.97283172607422\n",
      "<sum_z_virial> = 211.11282348632812\n"
     ]
    },
    {
     "name": "stderr",
     "output_type": "stream",
     "text": [
      "[Stage 0] Beta: 1.0:  17%|▌  | 19/110 [03:57<15:08,  9.98s/it, accept_IMH=0.002]"
     ]
    },
    {
     "name": "stdout",
     "output_type": "stream",
     "text": [
      "zVirial = 211.64471435546875\n",
      "Virial = 117.25912475585938\n",
      "<sum_x_virial> = 117.25912475585938\n",
      "<sum_z_virial> = 211.64471435546875\n"
     ]
    },
    {
     "name": "stderr",
     "output_type": "stream",
     "text": [
      "[Stage 0] Beta: 1.0:  18%|▌  | 20/110 [04:06<14:30,  9.67s/it, accept_IMH=0.003]"
     ]
    },
    {
     "name": "stdout",
     "output_type": "stream",
     "text": [
      "zVirial = 242.0576171875\n",
      "Virial = 116.78057098388672\n",
      "<sum_x_virial> = 116.78057098388672\n",
      "<sum_z_virial> = 242.0576171875\n"
     ]
    },
    {
     "name": "stderr",
     "output_type": "stream",
     "text": [
      "[Stage 0] Beta: 1.0:  19%|▍ | 21/110 [04:17<14:47,  9.97s/it, accept_IMH=0.0035]"
     ]
    },
    {
     "name": "stdout",
     "output_type": "stream",
     "text": [
      "zVirial = 206.38900756835938\n",
      "Virial = 116.71204376220703\n",
      "<sum_x_virial> = 116.71204376220703\n",
      "<sum_z_virial> = 206.38900756835938\n"
     ]
    },
    {
     "name": "stderr",
     "output_type": "stream",
     "text": [
      "[Stage 0] Beta: 1.0:  20%|▍ | 22/110 [04:25<13:56,  9.51s/it, accept_IMH=0.0015]"
     ]
    },
    {
     "name": "stdout",
     "output_type": "stream",
     "text": [
      "zVirial = 215.22543334960938\n",
      "Virial = 116.46135711669922\n",
      "<sum_x_virial> = 116.46135711669922\n",
      "<sum_z_virial> = 215.22543334960938\n"
     ]
    },
    {
     "name": "stderr",
     "output_type": "stream",
     "text": [
      "[Stage 0] Beta: 1.0:  21%|▍ | 23/110 [04:35<13:41,  9.44s/it, accept_IMH=0.0035]"
     ]
    },
    {
     "name": "stdout",
     "output_type": "stream",
     "text": [
      "zVirial = 206.3574676513672\n",
      "Virial = 116.17576599121094\n",
      "<sum_x_virial> = 116.17576599121094\n",
      "<sum_z_virial> = 206.3574676513672\n"
     ]
    },
    {
     "name": "stderr",
     "output_type": "stream",
     "text": [
      "[Stage 0] Beta: 1.0:  22%|▍ | 24/110 [04:44<13:27,  9.39s/it, accept_IMH=0.0025]"
     ]
    },
    {
     "name": "stdout",
     "output_type": "stream",
     "text": [
      "zVirial = 207.96685791015625\n",
      "Virial = 115.90065002441406\n",
      "<sum_x_virial> = 115.90065002441406\n",
      "<sum_z_virial> = 207.96685791015625\n"
     ]
    },
    {
     "name": "stderr",
     "output_type": "stream",
     "text": [
      "[Stage 0] Beta: 1.0:  23%|▋  | 25/110 [04:53<13:17,  9.39s/it, accept_IMH=0.004]"
     ]
    },
    {
     "name": "stdout",
     "output_type": "stream",
     "text": [
      "zVirial = 212.1659698486328\n",
      "Virial = 115.57861328125\n",
      "<sum_x_virial> = 115.57861328125\n",
      "<sum_z_virial> = 212.1659698486328\n"
     ]
    },
    {
     "name": "stderr",
     "output_type": "stream",
     "text": [
      "[Stage 0] Beta: 1.0:  24%|▋  | 26/110 [05:03<13:09,  9.40s/it, accept_IMH=0.005]"
     ]
    },
    {
     "name": "stdout",
     "output_type": "stream",
     "text": [
      "zVirial = 210.72088623046875\n",
      "Virial = 115.2496109008789\n",
      "<sum_x_virial> = 115.2496109008789\n",
      "<sum_z_virial> = 210.72088623046875\n"
     ]
    },
    {
     "name": "stderr",
     "output_type": "stream",
     "text": [
      "[Stage 0] Beta: 1.0:  25%|▍ | 27/110 [05:13<13:22,  9.67s/it, accept_IMH=0.0015]"
     ]
    },
    {
     "name": "stdout",
     "output_type": "stream",
     "text": [
      "zVirial = 212.24571228027344\n",
      "Virial = 115.123779296875\n",
      "<sum_x_virial> = 115.123779296875\n",
      "<sum_z_virial> = 212.24571228027344\n"
     ]
    },
    {
     "name": "stderr",
     "output_type": "stream",
     "text": [
      "[Stage 0] Beta: 1.0:  25%|▌ | 28/110 [05:24<13:37,  9.97s/it, accept_IMH=0.0025]"
     ]
    },
    {
     "name": "stdout",
     "output_type": "stream",
     "text": [
      "zVirial = 211.0664825439453\n",
      "Virial = 115.00981903076172\n",
      "<sum_x_virial> = 115.00981903076172\n",
      "<sum_z_virial> = 211.0664825439453\n"
     ]
    },
    {
     "name": "stderr",
     "output_type": "stream",
     "text": [
      "[Stage 0] Beta: 1.0:  26%|▊  | 29/110 [05:33<13:21,  9.90s/it, accept_IMH=0.003]"
     ]
    },
    {
     "name": "stdout",
     "output_type": "stream",
     "text": [
      "zVirial = 214.49961853027344\n",
      "Virial = 114.96760559082031\n",
      "<sum_x_virial> = 114.96760559082031\n",
      "<sum_z_virial> = 214.49961853027344\n"
     ]
    },
    {
     "name": "stderr",
     "output_type": "stream",
     "text": [
      "[Stage 0] Beta: 1.0:  27%|▌ | 30/110 [05:44<13:22, 10.04s/it, accept_IMH=0.0045]"
     ]
    },
    {
     "name": "stdout",
     "output_type": "stream",
     "text": [
      "zVirial = 198.07769775390625\n",
      "Virial = 114.72891998291016\n",
      "<sum_x_virial> = 114.72891998291016\n",
      "<sum_z_virial> = 198.07769775390625\n"
     ]
    },
    {
     "name": "stderr",
     "output_type": "stream",
     "text": [
      "[Stage 0] Beta: 1.0:  28%|▌ | 31/110 [05:53<12:59,  9.87s/it, accept_IMH=0.0005]"
     ]
    },
    {
     "name": "stdout",
     "output_type": "stream",
     "text": [
      "zVirial = 206.6632843017578\n",
      "Virial = 114.68276977539062\n",
      "<sum_x_virial> = 114.68276977539062\n",
      "<sum_z_virial> = 206.6632843017578\n"
     ]
    },
    {
     "name": "stderr",
     "output_type": "stream",
     "text": [
      "[Stage 0] Beta: 1.0:  29%|▊  | 32/110 [06:04<13:18, 10.24s/it, accept_IMH=0.002]"
     ]
    },
    {
     "name": "stdout",
     "output_type": "stream",
     "text": [
      "zVirial = 205.46343994140625\n",
      "Virial = 114.59517669677734\n",
      "<sum_x_virial> = 114.59517669677734\n",
      "<sum_z_virial> = 205.46343994140625\n"
     ]
    },
    {
     "name": "stderr",
     "output_type": "stream",
     "text": [
      "[Stage 0] Beta: 1.0:  30%|▌ | 33/110 [06:15<13:15, 10.33s/it, accept_IMH=0.0015]"
     ]
    },
    {
     "name": "stdout",
     "output_type": "stream",
     "text": [
      "zVirial = 197.52398681640625\n",
      "Virial = 114.56890869140625\n",
      "<sum_x_virial> = 114.56890869140625\n",
      "<sum_z_virial> = 197.52398681640625\n"
     ]
    },
    {
     "name": "stderr",
     "output_type": "stream",
     "text": [
      "[Stage 0] Beta: 1.0:  31%|▉  | 34/110 [06:25<13:03, 10.30s/it, accept_IMH=0.001]"
     ]
    },
    {
     "name": "stdout",
     "output_type": "stream",
     "text": [
      "zVirial = 197.87454223632812\n",
      "Virial = 114.49198150634766\n",
      "<sum_x_virial> = 114.49198150634766\n",
      "<sum_z_virial> = 197.87454223632812\n"
     ]
    },
    {
     "name": "stderr",
     "output_type": "stream",
     "text": [
      "[Stage 0] Beta: 1.0:  32%|▉  | 35/110 [06:35<12:50, 10.28s/it, accept_IMH=0.002]"
     ]
    },
    {
     "name": "stdout",
     "output_type": "stream",
     "text": [
      "zVirial = 214.9353790283203\n",
      "Virial = 114.50743865966797\n",
      "<sum_x_virial> = 114.50743865966797\n",
      "<sum_z_virial> = 214.9353790283203\n"
     ]
    },
    {
     "name": "stderr",
     "output_type": "stream",
     "text": [
      "[Stage 0] Beta: 1.0:  33%|▋ | 36/110 [06:47<13:12, 10.71s/it, accept_IMH=0.0015]"
     ]
    },
    {
     "name": "stdout",
     "output_type": "stream",
     "text": [
      "zVirial = 193.50479125976562\n",
      "Virial = 114.38821411132812\n",
      "<sum_x_virial> = 114.38821411132812\n",
      "<sum_z_virial> = 193.50479125976562\n"
     ]
    },
    {
     "name": "stderr",
     "output_type": "stream",
     "text": [
      "[Stage 0] Beta: 1.0:  34%|▋ | 37/110 [06:57<12:37, 10.38s/it, accept_IMH=0.0025]"
     ]
    },
    {
     "name": "stdout",
     "output_type": "stream",
     "text": [
      "zVirial = 202.53897094726562\n",
      "Virial = 114.30897521972656\n",
      "<sum_x_virial> = 114.30897521972656\n",
      "<sum_z_virial> = 202.53897094726562\n"
     ]
    },
    {
     "name": "stderr",
     "output_type": "stream",
     "text": [
      "[Stage 0] Beta: 1.0:  35%|█  | 38/110 [07:08<12:55, 10.77s/it, accept_IMH=0.002]"
     ]
    },
    {
     "name": "stdout",
     "output_type": "stream",
     "text": [
      "zVirial = 193.13650512695312\n",
      "Virial = 114.20220947265625\n",
      "<sum_x_virial> = 114.20220947265625\n",
      "<sum_z_virial> = 193.13650512695312\n"
     ]
    },
    {
     "name": "stderr",
     "output_type": "stream",
     "text": [
      "[Stage 0] Beta: 1.0:  35%|█  | 39/110 [07:19<12:41, 10.73s/it, accept_IMH=0.003]"
     ]
    },
    {
     "name": "stdout",
     "output_type": "stream",
     "text": [
      "zVirial = 192.6820068359375\n",
      "Virial = 114.20713806152344\n",
      "<sum_x_virial> = 114.20713806152344\n",
      "<sum_z_virial> = 192.6820068359375\n"
     ]
    },
    {
     "name": "stderr",
     "output_type": "stream",
     "text": [
      "[Stage 0] Beta: 1.0:  36%|▋ | 40/110 [07:29<12:16, 10.53s/it, accept_IMH=0.0015]"
     ]
    },
    {
     "name": "stdout",
     "output_type": "stream",
     "text": [
      "zVirial = 196.638671875\n",
      "Virial = 114.05939483642578\n",
      "<sum_x_virial> = 114.05939483642578\n",
      "<sum_z_virial> = 196.638671875\n"
     ]
    },
    {
     "name": "stderr",
     "output_type": "stream",
     "text": [
      "[Stage 0] Beta: 1.0:  37%|█  | 41/110 [07:39<11:59, 10.42s/it, accept_IMH=0.002]"
     ]
    },
    {
     "name": "stdout",
     "output_type": "stream",
     "text": [
      "zVirial = 206.29901123046875\n",
      "Virial = 113.94319152832031\n",
      "<sum_x_virial> = 113.94319152832031\n",
      "<sum_z_virial> = 206.29901123046875\n"
     ]
    },
    {
     "name": "stderr",
     "output_type": "stream",
     "text": [
      "[Stage 0] Beta: 1.0:  38%|▊ | 42/110 [07:52<12:26, 10.97s/it, accept_IMH=0.0015]"
     ]
    },
    {
     "name": "stdout",
     "output_type": "stream",
     "text": [
      "zVirial = 192.7524871826172\n",
      "Virial = 114.07610321044922\n",
      "<sum_x_virial> = 114.07610321044922\n",
      "<sum_z_virial> = 192.7524871826172\n"
     ]
    },
    {
     "name": "stderr",
     "output_type": "stream",
     "text": [
      "[Stage 0] Beta: 1.0:  39%|▊ | 43/110 [08:02<12:02, 10.78s/it, accept_IMH=0.0035]"
     ]
    },
    {
     "name": "stdout",
     "output_type": "stream",
     "text": [
      "zVirial = 198.79298400878906\n",
      "Virial = 113.8993911743164\n",
      "<sum_x_virial> = 113.8993911743164\n",
      "<sum_z_virial> = 198.79298400878906\n"
     ]
    },
    {
     "name": "stderr",
     "output_type": "stream",
     "text": [
      "[Stage 0] Beta: 1.0:  40%|▊ | 44/110 [08:12<11:47, 10.71s/it, accept_IMH=0.0025]"
     ]
    },
    {
     "name": "stdout",
     "output_type": "stream",
     "text": [
      "zVirial = 197.73724365234375\n",
      "Virial = 113.69664764404297\n",
      "<sum_x_virial> = 113.69664764404297\n",
      "<sum_z_virial> = 197.73724365234375\n"
     ]
    },
    {
     "name": "stderr",
     "output_type": "stream",
     "text": [
      "[Stage 0] Beta: 1.0:  41%|▊ | 45/110 [08:23<11:32, 10.66s/it, accept_IMH=0.0015]"
     ]
    },
    {
     "name": "stdout",
     "output_type": "stream",
     "text": [
      "zVirial = 191.91586303710938\n",
      "Virial = 113.74420166015625\n",
      "<sum_x_virial> = 113.74420166015625\n",
      "<sum_z_virial> = 191.91586303710938\n"
     ]
    },
    {
     "name": "stderr",
     "output_type": "stream",
     "text": [
      "[Stage 0] Beta: 1.0:  42%|█▎ | 46/110 [08:32<10:57, 10.28s/it, accept_IMH=0.001]"
     ]
    },
    {
     "name": "stdout",
     "output_type": "stream",
     "text": [
      "zVirial = 201.0998077392578\n",
      "Virial = 113.6105728149414\n",
      "<sum_x_virial> = 113.6105728149414\n",
      "<sum_z_virial> = 201.0998077392578\n"
     ]
    },
    {
     "name": "stderr",
     "output_type": "stream",
     "text": [
      "[Stage 0] Beta: 1.0:  43%|▊ | 47/110 [08:42<10:39, 10.14s/it, accept_IMH=0.0015]"
     ]
    },
    {
     "name": "stdout",
     "output_type": "stream",
     "text": [
      "zVirial = 199.926513671875\n",
      "Virial = 113.65515899658203\n",
      "<sum_x_virial> = 113.65515899658203\n",
      "<sum_z_virial> = 199.926513671875\n"
     ]
    },
    {
     "name": "stderr",
     "output_type": "stream",
     "text": [
      "[Stage 0] Beta: 1.0:  44%|█▎ | 48/110 [08:53<10:44, 10.39s/it, accept_IMH=0.003]"
     ]
    },
    {
     "name": "stdout",
     "output_type": "stream",
     "text": [
      "zVirial = 191.25054931640625\n",
      "Virial = 113.43634033203125\n",
      "<sum_x_virial> = 113.43634033203125\n",
      "<sum_z_virial> = 191.25054931640625\n"
     ]
    },
    {
     "name": "stderr",
     "output_type": "stream",
     "text": [
      "[Stage 0] Beta: 1.0:  45%|█▎ | 49/110 [09:03<10:25, 10.25s/it, accept_IMH=0.002]"
     ]
    },
    {
     "name": "stdout",
     "output_type": "stream",
     "text": [
      "zVirial = 179.36532592773438\n",
      "Virial = 113.56566619873047\n",
      "<sum_x_virial> = 113.56566619873047\n",
      "<sum_z_virial> = 179.36532592773438\n"
     ]
    },
    {
     "name": "stderr",
     "output_type": "stream",
     "text": [
      "[Stage 0] Beta: 1.0:  45%|▉ | 50/110 [09:11<09:37,  9.62s/it, accept_IMH=0.0005]"
     ]
    },
    {
     "name": "stdout",
     "output_type": "stream",
     "text": [
      "zVirial = 182.57342529296875\n",
      "Virial = 113.52268981933594\n",
      "<sum_x_virial> = 113.52268981933594\n",
      "<sum_z_virial> = 182.57342529296875\n"
     ]
    },
    {
     "name": "stderr",
     "output_type": "stream",
     "text": [
      "[Stage 0] Beta: 1.0:  46%|▉ | 51/110 [09:20<09:17,  9.46s/it, accept_IMH=0.0005]"
     ]
    },
    {
     "name": "stdout",
     "output_type": "stream",
     "text": [
      "zVirial = 191.96624755859375\n",
      "Virial = 113.44722747802734\n",
      "<sum_x_virial> = 113.44722747802734\n",
      "<sum_z_virial> = 191.96624755859375\n"
     ]
    },
    {
     "name": "stderr",
     "output_type": "stream",
     "text": [
      "[Stage 0] Beta: 1.0:  47%|▉ | 52/110 [09:30<09:17,  9.62s/it, accept_IMH=0.0025]"
     ]
    },
    {
     "name": "stdout",
     "output_type": "stream",
     "text": [
      "zVirial = 186.9424285888672\n",
      "Virial = 113.472412109375\n",
      "<sum_x_virial> = 113.472412109375\n",
      "<sum_z_virial> = 186.9424285888672\n"
     ]
    },
    {
     "name": "stderr",
     "output_type": "stream",
     "text": [
      "[Stage 0] Beta: 1.0:  48%|▉ | 53/110 [09:40<09:03,  9.54s/it, accept_IMH=0.0005]"
     ]
    },
    {
     "name": "stdout",
     "output_type": "stream",
     "text": [
      "zVirial = 182.43699645996094\n",
      "Virial = 113.46873474121094\n",
      "<sum_x_virial> = 113.46873474121094\n",
      "<sum_z_virial> = 182.43699645996094\n"
     ]
    },
    {
     "name": "stderr",
     "output_type": "stream",
     "text": [
      "[Stage 0] Beta: 1.0:  49%|▉ | 54/110 [09:49<08:47,  9.43s/it, accept_IMH=0.0015]"
     ]
    },
    {
     "name": "stdout",
     "output_type": "stream",
     "text": [
      "zVirial = 173.30966186523438\n",
      "Virial = 113.40433502197266\n",
      "<sum_x_virial> = 113.40433502197266\n",
      "<sum_z_virial> = 173.30966186523438\n"
     ]
    },
    {
     "name": "stderr",
     "output_type": "stream",
     "text": [
      "[Stage 0] Beta: 1.0:  50%|█▌ | 55/110 [09:57<08:26,  9.20s/it, accept_IMH=0.001]"
     ]
    },
    {
     "name": "stdout",
     "output_type": "stream",
     "text": [
      "zVirial = 183.76577758789062\n",
      "Virial = 113.34210205078125\n",
      "<sum_x_virial> = 113.34210205078125\n",
      "<sum_z_virial> = 183.76577758789062\n"
     ]
    },
    {
     "name": "stderr",
     "output_type": "stream",
     "text": [
      "[Stage 0] Beta: 1.0:  51%|███▌   | 56/110 [10:07<08:21,  9.28s/it, accept_IMH=0]"
     ]
    },
    {
     "name": "stdout",
     "output_type": "stream",
     "text": [
      "zVirial = 192.0887908935547\n",
      "Virial = 113.33154296875\n",
      "<sum_x_virial> = 113.33154296875\n",
      "<sum_z_virial> = 192.0887908935547\n"
     ]
    },
    {
     "name": "stderr",
     "output_type": "stream",
     "text": [
      "[Stage 0] Beta: 1.0:  52%|█▌ | 57/110 [10:17<08:29,  9.62s/it, accept_IMH=0.002]"
     ]
    },
    {
     "name": "stdout",
     "output_type": "stream",
     "text": [
      "zVirial = 180.6964111328125\n",
      "Virial = 113.3442153930664\n",
      "<sum_x_virial> = 113.3442153930664\n",
      "<sum_z_virial> = 180.6964111328125\n"
     ]
    },
    {
     "name": "stderr",
     "output_type": "stream",
     "text": [
      "[Stage 0] Beta: 1.0:  53%|█▌ | 58/110 [10:26<08:11,  9.46s/it, accept_IMH=0.002]"
     ]
    },
    {
     "name": "stdout",
     "output_type": "stream",
     "text": [
      "zVirial = 189.53892517089844\n",
      "Virial = 113.20068359375\n",
      "<sum_x_virial> = 113.20068359375\n",
      "<sum_z_virial> = 189.53892517089844\n"
     ]
    },
    {
     "name": "stderr",
     "output_type": "stream",
     "text": [
      "[Stage 0] Beta: 1.0:  54%|█ | 59/110 [10:37<08:14,  9.70s/it, accept_IMH=0.0025]"
     ]
    },
    {
     "name": "stdout",
     "output_type": "stream",
     "text": [
      "zVirial = 172.9640350341797\n",
      "Virial = 113.09476470947266\n",
      "<sum_x_virial> = 113.09476470947266\n",
      "<sum_z_virial> = 172.9640350341797\n"
     ]
    },
    {
     "name": "stderr",
     "output_type": "stream",
     "text": [
      "[Stage 0] Beta: 1.0:  55%|█▋ | 60/110 [10:45<07:43,  9.27s/it, accept_IMH=0.002]"
     ]
    },
    {
     "name": "stdout",
     "output_type": "stream",
     "text": [
      "zVirial = 176.25634765625\n",
      "Virial = 113.07145690917969\n",
      "<sum_x_virial> = 113.07145690917969\n",
      "<sum_z_virial> = 176.25634765625\n"
     ]
    },
    {
     "name": "stderr",
     "output_type": "stream",
     "text": [
      "[Stage 0] Beta: 1.0:  55%|█ | 61/110 [10:54<07:24,  9.08s/it, accept_IMH=0.0005]"
     ]
    },
    {
     "name": "stdout",
     "output_type": "stream",
     "text": [
      "zVirial = 182.02947998046875\n",
      "Virial = 113.07438659667969\n",
      "<sum_x_virial> = 113.07438659667969\n",
      "<sum_z_virial> = 182.02947998046875\n"
     ]
    },
    {
     "name": "stderr",
     "output_type": "stream",
     "text": [
      "[Stage 0] Beta: 1.0:  56%|█▋ | 62/110 [11:03<07:14,  9.06s/it, accept_IMH=0.003]"
     ]
    },
    {
     "name": "stdout",
     "output_type": "stream",
     "text": [
      "zVirial = 201.69631958007812\n",
      "Virial = 112.8897476196289\n",
      "<sum_x_virial> = 112.8897476196289\n",
      "<sum_z_virial> = 201.69631958007812\n"
     ]
    },
    {
     "name": "stderr",
     "output_type": "stream",
     "text": [
      "[Stage 0] Beta: 1.0:  57%|█▏| 63/110 [11:13<07:29,  9.57s/it, accept_IMH=0.0025]"
     ]
    },
    {
     "name": "stdout",
     "output_type": "stream",
     "text": [
      "zVirial = 181.83523559570312\n",
      "Virial = 112.65216827392578\n",
      "<sum_x_virial> = 112.65216827392578\n",
      "<sum_z_virial> = 181.83523559570312\n"
     ]
    },
    {
     "name": "stderr",
     "output_type": "stream",
     "text": [
      "[Stage 0] Beta: 1.0:  58%|█▏| 64/110 [11:23<07:16,  9.50s/it, accept_IMH=0.0025]"
     ]
    },
    {
     "name": "stdout",
     "output_type": "stream",
     "text": [
      "zVirial = 188.82931518554688\n",
      "Virial = 112.51444244384766\n",
      "<sum_x_virial> = 112.51444244384766\n",
      "<sum_z_virial> = 188.82931518554688\n"
     ]
    },
    {
     "name": "stderr",
     "output_type": "stream",
     "text": [
      "[Stage 0] Beta: 1.0:  59%|█▊ | 65/110 [11:33<07:14,  9.66s/it, accept_IMH=0.002]"
     ]
    },
    {
     "name": "stdout",
     "output_type": "stream",
     "text": [
      "zVirial = 181.4611053466797\n",
      "Virial = 112.50206756591797\n",
      "<sum_x_virial> = 112.50206756591797\n",
      "<sum_z_virial> = 181.4611053466797\n"
     ]
    },
    {
     "name": "stderr",
     "output_type": "stream",
     "text": [
      "[Stage 0] Beta: 1.0:  60%|█▊ | 66/110 [11:42<07:00,  9.55s/it, accept_IMH=0.002]"
     ]
    },
    {
     "name": "stdout",
     "output_type": "stream",
     "text": [
      "zVirial = 193.28248596191406\n",
      "Virial = 112.4583511352539\n",
      "<sum_x_virial> = 112.4583511352539\n",
      "<sum_z_virial> = 193.28248596191406\n"
     ]
    },
    {
     "name": "stderr",
     "output_type": "stream",
     "text": [
      "[Stage 0] Beta: 1.0:  61%|█▏| 67/110 [11:53<07:10, 10.01s/it, accept_IMH=0.0025]"
     ]
    },
    {
     "name": "stdout",
     "output_type": "stream",
     "text": [
      "zVirial = 184.33154296875\n",
      "Virial = 112.42060089111328\n",
      "<sum_x_virial> = 112.42060089111328\n",
      "<sum_z_virial> = 184.33154296875\n"
     ]
    },
    {
     "name": "stderr",
     "output_type": "stream",
     "text": [
      "[Stage 0] Beta: 1.0:  62%|█▊ | 68/110 [12:03<07:01, 10.03s/it, accept_IMH=0.002]"
     ]
    },
    {
     "name": "stdout",
     "output_type": "stream",
     "text": [
      "zVirial = 187.06275939941406\n",
      "Virial = 112.28907775878906\n",
      "<sum_x_virial> = 112.28907775878906\n",
      "<sum_z_virial> = 187.06275939941406\n"
     ]
    },
    {
     "name": "stderr",
     "output_type": "stream",
     "text": [
      "[Stage 0] Beta: 1.0:  63%|█▎| 69/110 [12:14<07:04, 10.36s/it, accept_IMH=0.0025]"
     ]
    },
    {
     "name": "stdout",
     "output_type": "stream",
     "text": [
      "zVirial = 172.39511108398438\n",
      "Virial = 112.39387512207031\n",
      "<sum_x_virial> = 112.39387512207031\n",
      "<sum_z_virial> = 172.39511108398438\n"
     ]
    },
    {
     "name": "stderr",
     "output_type": "stream",
     "text": [
      "[Stage 0] Beta: 1.0:  64%|█▉ | 70/110 [12:23<06:33,  9.84s/it, accept_IMH=0.001]"
     ]
    },
    {
     "name": "stdout",
     "output_type": "stream",
     "text": [
      "zVirial = 175.7604217529297\n",
      "Virial = 112.36400604248047\n",
      "<sum_x_virial> = 112.36400604248047\n",
      "<sum_z_virial> = 175.7604217529297\n"
     ]
    },
    {
     "name": "stderr",
     "output_type": "stream",
     "text": [
      "[Stage 0] Beta: 1.0:  65%|█▉ | 71/110 [12:32<06:19,  9.72s/it, accept_IMH=0.001]"
     ]
    },
    {
     "name": "stdout",
     "output_type": "stream",
     "text": [
      "zVirial = 170.5552978515625\n",
      "Virial = 112.1116714477539\n",
      "<sum_x_virial> = 112.1116714477539\n",
      "<sum_z_virial> = 170.5552978515625\n"
     ]
    },
    {
     "name": "stderr",
     "output_type": "stream",
     "text": [
      "[Stage 0] Beta: 1.0:  65%|█▎| 72/110 [12:41<05:52,  9.29s/it, accept_IMH=0.0015]"
     ]
    },
    {
     "name": "stdout",
     "output_type": "stream",
     "text": [
      "zVirial = 193.279541015625\n",
      "Virial = 112.07815551757812\n",
      "<sum_x_virial> = 112.07815551757812\n",
      "<sum_z_virial> = 193.279541015625\n"
     ]
    },
    {
     "name": "stderr",
     "output_type": "stream",
     "text": [
      "[Stage 0] Beta: 1.0:  66%|█▎| 73/110 [12:52<06:10, 10.01s/it, accept_IMH=0.0025]"
     ]
    },
    {
     "name": "stdout",
     "output_type": "stream",
     "text": [
      "zVirial = 181.204345703125\n",
      "Virial = 112.00015258789062\n",
      "<sum_x_virial> = 112.00015258789062\n",
      "<sum_z_virial> = 181.204345703125\n"
     ]
    },
    {
     "name": "stderr",
     "output_type": "stream",
     "text": [
      "[Stage 0] Beta: 1.0:  67%|█▎| 74/110 [13:02<05:58,  9.95s/it, accept_IMH=0.0025]"
     ]
    },
    {
     "name": "stdout",
     "output_type": "stream",
     "text": [
      "zVirial = 182.5237274169922\n",
      "Virial = 111.82674407958984\n",
      "<sum_x_virial> = 111.82674407958984\n",
      "<sum_z_virial> = 182.5237274169922\n"
     ]
    },
    {
     "name": "stderr",
     "output_type": "stream",
     "text": [
      "[Stage 0] Beta: 1.0:  68%|█▎| 75/110 [13:13<05:53, 10.09s/it, accept_IMH=0.0025]"
     ]
    },
    {
     "name": "stdout",
     "output_type": "stream",
     "text": [
      "zVirial = 173.83360290527344\n",
      "Virial = 111.7291030883789\n",
      "<sum_x_virial> = 111.7291030883789\n",
      "<sum_z_virial> = 173.83360290527344\n"
     ]
    },
    {
     "name": "stderr",
     "output_type": "stream",
     "text": [
      "[Stage 0] Beta: 1.0:  69%|█▍| 76/110 [13:22<05:32,  9.79s/it, accept_IMH=0.0005]"
     ]
    },
    {
     "name": "stdout",
     "output_type": "stream",
     "text": [
      "zVirial = 171.58938598632812\n",
      "Virial = 111.72388458251953\n",
      "<sum_x_virial> = 111.72388458251953\n",
      "<sum_z_virial> = 171.58938598632812\n"
     ]
    },
    {
     "name": "stderr",
     "output_type": "stream",
     "text": [
      "[Stage 0] Beta: 1.0:  70%|██ | 77/110 [13:31<05:15,  9.55s/it, accept_IMH=0.001]"
     ]
    },
    {
     "name": "stdout",
     "output_type": "stream",
     "text": [
      "zVirial = 185.9872589111328\n",
      "Virial = 111.6732177734375\n",
      "<sum_x_virial> = 111.6732177734375\n",
      "<sum_z_virial> = 185.9872589111328\n"
     ]
    },
    {
     "name": "stderr",
     "output_type": "stream",
     "text": [
      "[Stage 0] Beta: 1.0:  71%|██▏| 78/110 [13:41<05:13,  9.79s/it, accept_IMH=0.002]"
     ]
    },
    {
     "name": "stdout",
     "output_type": "stream",
     "text": [
      "zVirial = 169.8849334716797\n",
      "Virial = 111.74478149414062\n",
      "<sum_x_virial> = 111.74478149414062\n",
      "<sum_z_virial> = 169.8849334716797\n"
     ]
    },
    {
     "name": "stderr",
     "output_type": "stream",
     "text": [
      "[Stage 0] Beta: 1.0:  72%|█▍| 79/110 [13:49<04:48,  9.32s/it, accept_IMH=0.0015]"
     ]
    },
    {
     "name": "stdout",
     "output_type": "stream",
     "text": [
      "zVirial = 189.95079040527344\n",
      "Virial = 111.71759033203125\n",
      "<sum_x_virial> = 111.71759033203125\n",
      "<sum_z_virial> = 189.95079040527344\n"
     ]
    },
    {
     "name": "stderr",
     "output_type": "stream",
     "text": [
      "[Stage 0] Beta: 1.0:  73%|██▏| 80/110 [14:00<04:56,  9.89s/it, accept_IMH=0.001]"
     ]
    },
    {
     "name": "stdout",
     "output_type": "stream",
     "text": [
      "zVirial = 183.35560607910156\n",
      "Virial = 111.73909759521484\n",
      "<sum_x_virial> = 111.73909759521484\n",
      "<sum_z_virial> = 183.35560607910156\n"
     ]
    },
    {
     "name": "stderr",
     "output_type": "stream",
     "text": [
      "[Stage 0] Beta: 1.0:  74%|██▏| 81/110 [14:10<04:46,  9.88s/it, accept_IMH=0.001]"
     ]
    },
    {
     "name": "stdout",
     "output_type": "stream",
     "text": [
      "zVirial = 181.6326446533203\n",
      "Virial = 111.6865234375\n",
      "<sum_x_virial> = 111.6865234375\n",
      "<sum_z_virial> = 181.6326446533203\n"
     ]
    },
    {
     "name": "stderr",
     "output_type": "stream",
     "text": [
      "[Stage 0] Beta: 1.0:  75%|█▍| 82/110 [14:22<04:52, 10.43s/it, accept_IMH=0.0015]"
     ]
    },
    {
     "name": "stdout",
     "output_type": "stream",
     "text": [
      "zVirial = 181.51058959960938\n",
      "Virial = 111.62894439697266\n",
      "<sum_x_virial> = 111.62894439697266\n",
      "<sum_z_virial> = 181.51058959960938\n"
     ]
    },
    {
     "name": "stderr",
     "output_type": "stream",
     "text": [
      "[Stage 0] Beta: 1.0:  75%|█▌| 83/110 [14:33<04:42, 10.47s/it, accept_IMH=0.0025]"
     ]
    },
    {
     "name": "stdout",
     "output_type": "stream",
     "text": [
      "zVirial = 171.56712341308594\n",
      "Virial = 111.61180114746094\n",
      "<sum_x_virial> = 111.61180114746094\n",
      "<sum_z_virial> = 171.56712341308594\n"
     ]
    },
    {
     "name": "stderr",
     "output_type": "stream",
     "text": [
      "[Stage 0] Beta: 1.0:  76%|█▌| 84/110 [14:41<04:19,  9.99s/it, accept_IMH=0.0005]"
     ]
    },
    {
     "name": "stdout",
     "output_type": "stream",
     "text": [
      "zVirial = 175.8658905029297\n",
      "Virial = 111.51168060302734\n",
      "<sum_x_virial> = 111.51168060302734\n",
      "<sum_z_virial> = 175.8658905029297\n"
     ]
    },
    {
     "name": "stderr",
     "output_type": "stream",
     "text": [
      "[Stage 0] Beta: 1.0:  77%|█▌| 85/110 [14:51<04:07,  9.90s/it, accept_IMH=0.0015]"
     ]
    },
    {
     "name": "stdout",
     "output_type": "stream",
     "text": [
      "zVirial = 173.51229858398438\n",
      "Virial = 111.53365325927734\n",
      "<sum_x_virial> = 111.53365325927734\n",
      "<sum_z_virial> = 173.51229858398438\n"
     ]
    },
    {
     "name": "stderr",
     "output_type": "stream",
     "text": [
      "[Stage 0] Beta: 1.0:  78%|█▌| 86/110 [15:01<03:57,  9.88s/it, accept_IMH=0.0025]"
     ]
    },
    {
     "name": "stdout",
     "output_type": "stream",
     "text": [
      "zVirial = 175.9455108642578\n",
      "Virial = 111.38284301757812\n",
      "<sum_x_virial> = 111.38284301757812\n",
      "<sum_z_virial> = 175.9455108642578\n"
     ]
    },
    {
     "name": "stderr",
     "output_type": "stream",
     "text": [
      "[Stage 0] Beta: 1.0:  79%|█▌| 87/110 [15:11<03:47,  9.88s/it, accept_IMH=0.0035]"
     ]
    },
    {
     "name": "stdout",
     "output_type": "stream",
     "text": [
      "zVirial = 168.84808349609375\n",
      "Virial = 111.43595886230469\n",
      "<sum_x_virial> = 111.43595886230469\n",
      "<sum_z_virial> = 168.84808349609375\n"
     ]
    },
    {
     "name": "stderr",
     "output_type": "stream",
     "text": [
      "[Stage 0] Beta: 1.0:  80%|█████▌ | 88/110 [15:19<03:28,  9.48s/it, accept_IMH=0]"
     ]
    },
    {
     "name": "stdout",
     "output_type": "stream",
     "text": [
      "zVirial = 179.19322204589844\n",
      "Virial = 111.42572784423828\n",
      "<sum_x_virial> = 111.42572784423828\n",
      "<sum_z_virial> = 179.19322204589844\n"
     ]
    },
    {
     "name": "stderr",
     "output_type": "stream",
     "text": [
      "[Stage 0] Beta: 1.0:  81%|█▌| 89/110 [15:30<03:29,  9.96s/it, accept_IMH=0.0015]"
     ]
    },
    {
     "name": "stdout",
     "output_type": "stream",
     "text": [
      "zVirial = 175.4619903564453\n",
      "Virial = 111.42217254638672\n",
      "<sum_x_virial> = 111.42217254638672\n",
      "<sum_z_virial> = 175.4619903564453\n"
     ]
    },
    {
     "name": "stderr",
     "output_type": "stream",
     "text": [
      "[Stage 0] Beta: 1.0:  82%|██▍| 90/110 [15:40<03:18,  9.91s/it, accept_IMH=0.001]"
     ]
    },
    {
     "name": "stdout",
     "output_type": "stream",
     "text": [
      "zVirial = 169.06524658203125\n",
      "Virial = 111.27206420898438\n",
      "<sum_x_virial> = 111.27206420898438\n",
      "<sum_z_virial> = 169.06524658203125\n"
     ]
    },
    {
     "name": "stderr",
     "output_type": "stream",
     "text": [
      "[Stage 0] Beta: 1.0:  83%|█▋| 91/110 [15:49<03:03,  9.67s/it, accept_IMH=0.0005]"
     ]
    },
    {
     "name": "stdout",
     "output_type": "stream",
     "text": [
      "zVirial = 165.14639282226562\n",
      "Virial = 111.2475357055664\n",
      "<sum_x_virial> = 111.2475357055664\n",
      "<sum_z_virial> = 165.14639282226562\n"
     ]
    },
    {
     "name": "stderr",
     "output_type": "stream",
     "text": [
      "[Stage 0] Beta: 1.0:  84%|█████▊ | 92/110 [15:58<02:46,  9.26s/it, accept_IMH=0]"
     ]
    },
    {
     "name": "stdout",
     "output_type": "stream",
     "text": [
      "zVirial = 175.188720703125\n",
      "Virial = 111.2374267578125\n",
      "<sum_x_virial> = 111.2374267578125\n",
      "<sum_z_virial> = 175.188720703125\n"
     ]
    },
    {
     "name": "stderr",
     "output_type": "stream",
     "text": [
      "[Stage 0] Beta: 1.0:  85%|██▌| 93/110 [16:07<02:38,  9.33s/it, accept_IMH=0.001]"
     ]
    },
    {
     "name": "stdout",
     "output_type": "stream",
     "text": [
      "zVirial = 168.94760131835938\n",
      "Virial = 111.10713958740234\n",
      "<sum_x_virial> = 111.10713958740234\n",
      "<sum_z_virial> = 168.94760131835938\n"
     ]
    },
    {
     "name": "stderr",
     "output_type": "stream",
     "text": [
      "[Stage 0] Beta: 1.0:  85%|█▋| 94/110 [16:17<02:31,  9.50s/it, accept_IMH=0.0015]"
     ]
    },
    {
     "name": "stdout",
     "output_type": "stream",
     "text": [
      "zVirial = 171.5692901611328\n",
      "Virial = 110.9193115234375\n",
      "<sum_x_virial> = 110.9193115234375\n",
      "<sum_z_virial> = 171.5692901611328\n"
     ]
    },
    {
     "name": "stderr",
     "output_type": "stream",
     "text": [
      "[Stage 0] Beta: 1.0:  86%|██▌| 95/110 [16:26<02:20,  9.33s/it, accept_IMH=0.001]"
     ]
    },
    {
     "name": "stdout",
     "output_type": "stream",
     "text": [
      "zVirial = 174.6793670654297\n",
      "Virial = 110.98368835449219\n",
      "<sum_x_virial> = 110.98368835449219\n",
      "<sum_z_virial> = 174.6793670654297\n"
     ]
    },
    {
     "name": "stderr",
     "output_type": "stream",
     "text": [
      "[Stage 0] Beta: 1.0:  87%|██████ | 96/110 [16:36<02:12,  9.44s/it, accept_IMH=0]"
     ]
    },
    {
     "name": "stdout",
     "output_type": "stream",
     "text": [
      "zVirial = 165.62222290039062\n",
      "Virial = 110.97396850585938\n",
      "<sum_x_virial> = 110.97396850585938\n",
      "<sum_z_virial> = 165.62222290039062\n"
     ]
    },
    {
     "name": "stderr",
     "output_type": "stream",
     "text": [
      "[Stage 0] Beta: 1.0:  88%|██▋| 97/110 [16:45<02:01,  9.36s/it, accept_IMH=0.001]"
     ]
    },
    {
     "name": "stdout",
     "output_type": "stream",
     "text": [
      "zVirial = 161.15370178222656\n",
      "Virial = 110.95525360107422\n",
      "<sum_x_virial> = 110.95525360107422\n",
      "<sum_z_virial> = 161.15370178222656\n"
     ]
    },
    {
     "name": "stderr",
     "output_type": "stream",
     "text": [
      "[Stage 0] Beta: 1.0:  89%|██▋| 98/110 [16:53<01:49,  9.10s/it, accept_IMH=0.001]"
     ]
    },
    {
     "name": "stdout",
     "output_type": "stream",
     "text": [
      "zVirial = 161.93885803222656\n",
      "Virial = 110.92025756835938\n",
      "<sum_x_virial> = 110.92025756835938\n",
      "<sum_z_virial> = 161.93885803222656\n"
     ]
    },
    {
     "name": "stderr",
     "output_type": "stream",
     "text": [
      "[Stage 0] Beta: 1.0:  90%|█▊| 99/110 [17:02<01:37,  8.85s/it, accept_IMH=0.0015]"
     ]
    },
    {
     "name": "stdout",
     "output_type": "stream",
     "text": [
      "Reached maximum number of burnin iterations.\n",
      "<sum_x_virial> = 110.85945129394531\n",
      "<sum_z_virial> = 166.25570678710938\n"
     ]
    },
    {
     "name": "stderr",
     "output_type": "stream",
     "text": [
      "[Stage 0] Beta: 1.0:  91%|█▊| 100/110 [17:16<01:44, 10.42s/it, accept_IMH=0.001]"
     ]
    },
    {
     "name": "stdout",
     "output_type": "stream",
     "text": [
      "<sum_x_virial> = 110.73059844970703\n",
      "<sum_z_virial> = 166.09176635742188\n"
     ]
    },
    {
     "name": "stderr",
     "output_type": "stream",
     "text": [
      "[Stage 0] Beta: 1.0:  92%|█▊| 101/110 [17:24<01:28,  9.86s/it, accept_IMH=0.001]"
     ]
    },
    {
     "name": "stdout",
     "output_type": "stream",
     "text": [
      "<sum_x_virial> = 110.6820068359375\n",
      "<sum_z_virial> = 165.31349182128906\n"
     ]
    },
    {
     "name": "stderr",
     "output_type": "stream",
     "text": [
      "[Stage 0] Beta: 1.0:  93%|█▊| 102/110 [17:32<01:13,  9.21s/it, accept_IMH=0.001]"
     ]
    },
    {
     "name": "stdout",
     "output_type": "stream",
     "text": [
      "<sum_x_virial> = 110.68231964111328\n",
      "<sum_z_virial> = 160.55506896972656\n"
     ]
    },
    {
     "name": "stderr",
     "output_type": "stream",
     "text": [
      "[Stage 0] Beta: 1.0:  94%|█████▌| 103/110 [17:40<01:01,  8.76s/it, accept_IMH=0]"
     ]
    },
    {
     "name": "stdout",
     "output_type": "stream",
     "text": [
      "<sum_x_virial> = 110.67243957519531\n",
      "<sum_z_virial> = 156.7637481689453\n"
     ]
    },
    {
     "name": "stderr",
     "output_type": "stream",
     "text": [
      "[Stage 0] Beta: 1.0:  95%|▉| 104/110 [17:47<00:50,  8.44s/it, accept_IMH=0.0005]"
     ]
    },
    {
     "name": "stdout",
     "output_type": "stream",
     "text": [
      "<sum_x_virial> = 110.67573547363281\n",
      "<sum_z_virial> = 165.87216186523438\n"
     ]
    },
    {
     "name": "stderr",
     "output_type": "stream",
     "text": [
      "[Stage 0] Beta: 1.0:  95%|█▉| 105/110 [17:55<00:40,  8.18s/it, accept_IMH=0.001]"
     ]
    },
    {
     "name": "stdout",
     "output_type": "stream",
     "text": [
      "<sum_x_virial> = 110.7384033203125\n",
      "<sum_z_virial> = 164.474853515625\n"
     ]
    },
    {
     "name": "stderr",
     "output_type": "stream",
     "text": [
      "[Stage 0] Beta: 1.0:  96%|█▉| 106/110 [18:03<00:33,  8.26s/it, accept_IMH=0.001]"
     ]
    },
    {
     "name": "stdout",
     "output_type": "stream",
     "text": [
      "<sum_x_virial> = 110.7434310913086\n",
      "<sum_z_virial> = 160.60531616210938\n"
     ]
    },
    {
     "name": "stderr",
     "output_type": "stream",
     "text": [
      "[Stage 0] Beta: 1.0:  97%|█████▊| 107/110 [18:11<00:24,  8.07s/it, accept_IMH=0]"
     ]
    },
    {
     "name": "stdout",
     "output_type": "stream",
     "text": [
      "<sum_x_virial> = 110.73371887207031\n",
      "<sum_z_virial> = 166.79443359375\n"
     ]
    },
    {
     "name": "stderr",
     "output_type": "stream",
     "text": [
      "[Stage 0] Beta: 1.0:  98%|▉| 108/110 [18:19<00:16,  8.02s/it, accept_IMH=0.0005]"
     ]
    },
    {
     "name": "stdout",
     "output_type": "stream",
     "text": [
      "<sum_x_virial> = 110.65400695800781\n",
      "<sum_z_virial> = 169.9983673095703\n"
     ]
    },
    {
     "name": "stderr",
     "output_type": "stream",
     "text": [
      "[Stage 0] Beta: 1.0:  99%|█▉| 109/110 [18:28<00:08,  8.34s/it, accept_IMH=0.003]"
     ]
    },
    {
     "name": "stdout",
     "output_type": "stream",
     "text": [
      "<sum_x_virial> = 110.43516540527344\n",
      "<sum_z_virial> = 155.78456115722656\n"
     ]
    },
    {
     "name": "stderr",
     "output_type": "stream",
     "text": [
      "[Stage 0] Beta: 1.0: 100%|██| 110/110 [18:35<00:00, 10.14s/it, accept_IMH=0.001]\n",
      "0it [00:00, ?it/s]\n"
     ]
    }
   ],
   "source": [
    "import pickle\n",
    "\n",
    "#idx = [0, 1, 2, 3, 4, 5, 6, 7, 8, 9]\n",
    "idx = [3]\n",
    "\n",
    "for i in idx:\n",
    "    \n",
    "    print(f'DLMC run {i}')\n",
    "    \n",
    "    initial_samples = prior_rvs(2000, seed=i)\n",
    "    \n",
    "    dlmc = LatentDLA(\n",
    "    interface=flow_interface,\n",
    "    burnin_interface=burnin_interface,\n",
    "    posterior=posterior,\n",
    "    debugger=None\n",
    "    )\n",
    "\n",
    "    xfi = dlmc.run(initial_samples,\n",
    "              main_step=1e-4,\n",
    "              burnin_step=1e-4,\n",
    "              burnin_optimizer='grad_descent',\n",
    "              optimizer='grad_descent',\n",
    "              optim_scheduler='identity',\n",
    "              exp_decay_rate=0.99,\n",
    "              cos_T_max=100,\n",
    "              cos_lr_min=0.0,\n",
    "              burnin_optim_steps=1,\n",
    "              optim_steps=1,\n",
    "              atol=1e-15,\n",
    "              max_burnin=100,\n",
    "              burnin_thresh=1.01,\n",
    "              num_upsample=0,\n",
    "              max_iterations=10,\n",
    "              latent=True,\n",
    "              IMHstep=1,\n",
    "              CMHstep=0,\n",
    "              CMHscale=0.1,\n",
    "              ULMstep=0,\n",
    "              stochastic_calibration=False,\n",
    "              taylor_zeta=True,\n",
    "              use_tqdm=True,\n",
    "              post_ulm_steps=0,\n",
    "              post_ulm_batch=0,\n",
    "              animate_kwargs=dict(dpi=200),\n",
    "              train_kwargs={'val_frac': 0.2},\n",
    "              underdamped_kwargs={'step_size':1.0e-3, 'gamma': 2.0}\n",
    "              )\n",
    "    \n",
    "    '''\n",
    "    with open(f'./dlmc_grad_experiments/benchmarks/funnel_sigma5/nuts/dlmc_run_{i}.pkl', 'wb') as f:\n",
    "        pickle.dump(xfi, f)\n",
    "    f.close()\n",
    "    '''"
   ]
  },
  {
   "cell_type": "code",
   "execution_count": 39,
   "id": "96ca5798",
   "metadata": {},
   "outputs": [
    {
     "data": {
      "text/plain": [
       "<seaborn.axisgrid.PairGrid at 0x15fc7cc70>"
      ]
     },
     "execution_count": 39,
     "metadata": {},
     "output_type": "execute_result"
    },
    {
     "data": {
      "image/png": "[encoded data removed]",
      "text/plain": [
       "<Figure size 360x360 with 6 Axes>"
      ]
     },
     "metadata": {},
     "output_type": "display_data"
    }
   ],
   "source": [
    "sns.pairplot(pd.DataFrame(xfi[0][:, 0:2]))"
   ]
  },
  {
   "cell_type": "markdown",
   "id": "a672dfe2",
   "metadata": {},
   "source": [
    "# Plotting"
   ]
  },
  {
   "cell_type": "code",
   "execution_count": 40,
   "id": "1267e049",
   "metadata": {},
   "outputs": [
    {
     "data": {
      "text/plain": [
       "SINF(\n",
       "  (layer): ModuleList(\n",
       "    (0): SlicedTransport(\n",
       "      (transform1D): RQspline()\n",
       "    )\n",
       "    (1): SlicedTransport(\n",
       "      (transform1D): RQspline()\n",
       "    )\n",
       "    (2): SlicedTransport(\n",
       "      (transform1D): RQspline()\n",
       "    )\n",
       "    (3): SlicedTransport(\n",
       "      (transform1D): RQspline()\n",
       "    )\n",
       "    (4): SlicedTransport(\n",
       "      (transform1D): RQspline()\n",
       "    )\n",
       "    (5): SlicedTransport(\n",
       "      (transform1D): RQspline()\n",
       "    )\n",
       "    (6): SlicedTransport(\n",
       "      (transform1D): RQspline()\n",
       "    )\n",
       "  )\n",
       ")"
      ]
     },
     "execution_count": 40,
     "metadata": {},
     "output_type": "execute_result"
    }
   ],
   "source": [
    "dlmc.interface.flow"
   ]
  },
  {
   "cell_type": "code",
   "execution_count": 41,
   "id": "0f5d997e",
   "metadata": {},
   "outputs": [],
   "source": [
    "def sns_pairplot(q_samples, truth_samples=None, q_label='q', \n",
    "                 truth_label='Truth', out_name=None, levels=10):\n",
    "    \n",
    "    q_samples = np.asarray(q_samples)\n",
    "    if truth_samples is not None:\n",
    "        truth_samples = np.asarray(truth_samples)\n",
    "        labels = np.empty(len(q_samples) + len(truth_samples), dtype=str)\n",
    "        labels[:len(truth_samples)] = truth_label\n",
    "        labels[len(truth_samples):] = q_label\n",
    "        x_samples = np.concatenate([truth_samples, q_samples])\n",
    "    else:\n",
    "        labels = np.empty(len(q_samples), dtype=str)\n",
    "        labels[:] = q_label\n",
    "        x_samples = q_samples\n",
    "    \n",
    "    d = {}\n",
    "    d['labels'] = labels\n",
    "    for i in range(x_samples.shape[1]):\n",
    "        d[f'$x_{i}$'] = x_samples[:, i]\n",
    "        \n",
    "    df = pd.DataFrame(d)\n",
    "    \n",
    "    sns.set_theme()\n",
    "    g = sns.PairGrid(df, hue='labels', palette='deep')\n",
    "    g.map_diag(sns.kdeplot, common_norm=False, levels=levels)\n",
    "    g.map_offdiag(sns.scatterplot, size=0.01, alpha=0.3)\n",
    "    #g.map_offdiag(sns.kdeplot, common_norm=False, levels=levels, bw=0.4)\n",
    "    g.add_legend()\n",
    "    if out_name is not None:\n",
    "        g.savefig(out_name, dpi=300)"
   ]
  },
  {
   "cell_type": "code",
   "execution_count": 42,
   "id": "bc2a0274",
   "metadata": {},
   "outputs": [
    {
     "data": {
      "image/png": "[encoded data removed]",
      "text/plain": [
       "<Figure size 421.1x360 with 6 Axes>"
      ]
     },
     "metadata": {},
     "output_type": "display_data"
    }
   ],
   "source": [
    "sns_pairplot(xfi[0][:, np.array([0, 1])], ix[:1000, np.array([0, 1])], levels=5,\n",
    "             out_name='./dlmc_grad_experiments/benchmarks/funnel_sigma5/nuts/funnel_corner_plot.png')"
   ]
  },
  {
   "cell_type": "code",
   "execution_count": 43,
   "id": "1c66d322",
   "metadata": {},
   "outputs": [
    {
     "data": {
      "image/png": "[encoded data removed]",
      "text/plain": [
       "<Figure size 421.1x360 with 6 Axes>"
      ]
     },
     "metadata": {},
     "output_type": "display_data"
    }
   ],
   "source": [
    "x = xfi[1]['10'][:, np.array([0, 1])]\n",
    "sns_pairplot(x, ix[:1000, np.array([0, 1])], levels=5)"
   ]
  },
  {
   "cell_type": "markdown",
   "id": "f798081a",
   "metadata": {},
   "source": [
    "# Bias analysis"
   ]
  },
  {
   "cell_type": "code",
   "execution_count": 44,
   "id": "df6e6b9c",
   "metadata": {},
   "outputs": [],
   "source": [
    "hmc_data = az.from_netcdf('./dlmc_grad_experiments/benchmarks/funnel_sigma5/nuts/inference_data_funnel_centered_mcmc.nc')"
   ]
  },
  {
   "cell_type": "code",
   "execution_count": 45,
   "id": "b5278f8f",
   "metadata": {},
   "outputs": [
    {
     "name": "stdout",
     "output_type": "stream",
     "text": [
      "(10, 50000)\n",
      "(50000, 100)\n"
     ]
    }
   ],
   "source": [
    "hmc_steps = hmc_data['sample_stats']['n_steps'].to_numpy()\n",
    "hmc_theta = hmc_data['posterior']['theta'].to_numpy()\n",
    "print(hmc_theta.shape)\n",
    "hmc_z = hmc_data['posterior']['z'].to_numpy()\n",
    "print(hmc_z[0, :, :].shape)\n",
    "hmc_samples = np.concatenate([hmc_theta[0, :].reshape(len(hmc_theta[0, :]), 1), hmc_z[0, :, :]], axis=1)"
   ]
  },
  {
   "cell_type": "code",
   "execution_count": 46,
   "id": "80ee4ce4",
   "metadata": {},
   "outputs": [
    {
     "name": "stdout",
     "output_type": "stream",
     "text": [
      "(array([109]),)\n"
     ]
    },
    {
     "data": {
      "text/plain": [
       "[]"
      ]
     },
     "execution_count": 46,
     "metadata": {},
     "output_type": "execute_result"
    },
    {
     "data": {
      "image/png": "[encoded data removed]",
      "text/plain": [
       "<Figure size 432x288 with 1 Axes>"
      ]
     },
     "metadata": {},
     "output_type": "display_data"
    }
   ],
   "source": [
    "dlmc_bias_sq = []\n",
    "for i in range(0, len(xfi[1].keys()) - 1):\n",
    "    dlmc_var = np.var(xfi[1][f'{i}'].numpy(), axis=0)\n",
    "    hmc_var = np.var(ix, axis=0)\n",
    "    bias2 = (np.sqrt(dlmc_var) - np.sqrt(hmc_var)) ** 2 / hmc_var\n",
    "    dlmc_bias_sq.append(np.mean(bias2))\n",
    "n_calls = 2000 * np.ones(len(dlmc_bias_sq))\n",
    "n_calls = np.cumsum(n_calls)\n",
    "#n_calls -= 404\n",
    "\n",
    "print(np.where(np.array(dlmc_bias_sq) == np.amin(np.array(dlmc_bias_sq))))\n",
    "\n",
    "plt.plot(n_calls, np.array(dlmc_bias_sq))\n",
    "plt.loglog()"
   ]
  },
  {
   "cell_type": "code",
   "execution_count": 47,
   "id": "cd32b7d6",
   "metadata": {},
   "outputs": [
    {
     "name": "stdout",
     "output_type": "stream",
     "text": [
      "(array([108]),)\n"
     ]
    },
    {
     "data": {
      "text/plain": [
       "[]"
      ]
     },
     "execution_count": 47,
     "metadata": {},
     "output_type": "execute_result"
    },
    {
     "data": {
      "image/png": "[encoded data removed]",
      "text/plain": [
       "<Figure size 432x288 with 1 Axes>"
      ]
     },
     "metadata": {},
     "output_type": "display_data"
    }
   ],
   "source": [
    "dlmc_bias_sq = []\n",
    "for i in range(0, len(xfi[1].keys()) - 1):\n",
    "    dlmc_var = np.var(xfi[1][f'{i}'].numpy(), axis=0)\n",
    "    hmc_var = np.var(ix, axis=0)\n",
    "    bias2 = (np.sqrt(dlmc_var) - np.sqrt(hmc_var)) ** 2 / hmc_var\n",
    "    dlmc_bias_sq.append(bias2[0])\n",
    "n_calls = 1000 * np.ones(len(dlmc_bias_sq))\n",
    "n_calls = np.cumsum(n_calls)\n",
    "n_calls -= 1000\n",
    "\n",
    "print(np.where(np.array(dlmc_bias_sq) == np.amin(np.array(dlmc_bias_sq))))\n",
    "\n",
    "plt.plot(n_calls, np.array(dlmc_bias_sq))\n",
    "plt.loglog()"
   ]
  },
  {
   "cell_type": "code",
   "execution_count": 52,
   "id": "aa8860ff",
   "metadata": {},
   "outputs": [
    {
     "name": "stdout",
     "output_type": "stream",
     "text": [
      "(array([47]),)\n"
     ]
    },
    {
     "data": {
      "text/plain": [
       "[]"
      ]
     },
     "execution_count": 52,
     "metadata": {},
     "output_type": "execute_result"
    },
    {
     "data": {
      "image/png": "[encoded data removed]",
      "text/plain": [
       "<Figure size 432x288 with 1 Axes>"
      ]
     },
     "metadata": {},
     "output_type": "display_data"
    }
   ],
   "source": [
    "dlmc_bias_sq = []\n",
    "for i in range(0, len(xfi[1].keys()) - 1):\n",
    "    dlmc_mu = np.mean(xfi[1][f'{i}'].numpy(), axis=0)\n",
    "    hmc_mu = np.mean(ix, axis=0)\n",
    "    bias2 = (dlmc_mu - hmc_mu) ** 2 / hmc_mu ** 2\n",
    "    dlmc_bias_sq.append(bias2[0])\n",
    "n_calls = 500 * np.ones(len(dlmc_bias_sq))\n",
    "n_calls = np.cumsum(n_calls)\n",
    "n_calls -= 500\n",
    "\n",
    "print(np.where(np.array(dlmc_bias_sq) == np.amin(np.array(dlmc_bias_sq))))\n",
    "\n",
    "plt.plot(n_calls, np.array(dlmc_bias_sq))\n",
    "plt.loglog()"
   ]
  },
  {
   "cell_type": "code",
   "execution_count": 53,
   "id": "c6d14060",
   "metadata": {},
   "outputs": [
    {
     "name": "stdout",
     "output_type": "stream",
     "text": [
      "(array([47]),)\n"
     ]
    },
    {
     "data": {
      "text/plain": [
       "[]"
      ]
     },
     "execution_count": 53,
     "metadata": {},
     "output_type": "execute_result"
    },
    {
     "data": {
      "image/png": "[encoded data removed]",
      "text/plain": [
       "<Figure size 432x288 with 1 Axes>"
      ]
     },
     "metadata": {},
     "output_type": "display_data"
    }
   ],
   "source": [
    "dlmc_bias_sq = []\n",
    "for i in range(0, len(xfi[1].keys()) - 1):\n",
    "    dlmc_mu = np.mean(xfi[1][f'{i}'].numpy(), axis=0)\n",
    "    hmc_mu = np.mean(ix, axis=0)\n",
    "    bias2 = (dlmc_mu - hmc_mu) ** 2\n",
    "    dlmc_bias_sq.append(np.mean(bias2))\n",
    "n_calls = 500 * np.ones(len(dlmc_bias_sq))\n",
    "n_calls = np.cumsum(n_calls)\n",
    "n_calls -= 500\n",
    "\n",
    "print(np.where(np.array(dlmc_bias_sq) == np.amin(np.array(dlmc_bias_sq))))\n",
    "\n",
    "plt.plot(n_calls, np.array(dlmc_bias_sq))\n",
    "plt.loglog()"
   ]
  },
  {
   "cell_type": "code",
   "execution_count": 54,
   "id": "524252f8",
   "metadata": {},
   "outputs": [
    {
     "name": "stdout",
     "output_type": "stream",
     "text": [
      "[-0.009242964]\n",
      "0.0012053642\n"
     ]
    },
    {
     "data": {
      "text/plain": [
       "[<matplotlib.lines.Line2D at 0x2b18ba4c0>]"
      ]
     },
     "execution_count": 54,
     "metadata": {},
     "output_type": "execute_result"
    },
    {
     "data": {
      "image/png": "[encoded data removed]",
      "text/plain": [
       "<Figure size 432x288 with 1 Axes>"
      ]
     },
     "metadata": {},
     "output_type": "display_data"
    }
   ],
   "source": [
    "dlmc_mu = []\n",
    "for i in range(0, len(xfi[4].keys()) - 1):\n",
    "    dlmc_mu.append(np.mean(xfi[4][f'{i}'].numpy()))\n",
    "n_calls = 404 * np.ones(len(dlmc_mu))\n",
    "n_calls = np.cumsum(n_calls)\n",
    "n_calls -= 404\n",
    "\n",
    "print(dlmc_mu[-1:])\n",
    "print(np.mean(hmc_mu))\n",
    "\n",
    "plt.plot(np.arange(len(dlmc_mu)), np.array(dlmc_mu))\n",
    "#plt.xscale('log')"
   ]
  },
  {
   "cell_type": "code",
   "execution_count": 55,
   "id": "b806666c",
   "metadata": {},
   "outputs": [
    {
     "name": "stdout",
     "output_type": "stream",
     "text": [
      "0.78752965\n"
     ]
    },
    {
     "data": {
      "image/png": "[encoded data removed]",
      "text/plain": [
       "<Figure size 432x288 with 1 Axes>"
      ]
     },
     "metadata": {},
     "output_type": "display_data"
    }
   ],
   "source": [
    "dlmc_var = []\n",
    "for i in range(0, len(xfi[3].keys()) - 1):\n",
    "    dlmc_var.append(np.mean(np.sqrt(xfi[3][f'{i}'].numpy())))\n",
    "n_calls = 404 * np.ones(len(dlmc_var))\n",
    "n_calls = np.cumsum(n_calls)\n",
    "n_calls -= 404\n",
    "\n",
    "print(np.mean(np.sqrt(hmc_var)))\n",
    "\n",
    "plt.plot(n_calls, np.array(dlmc_var))\n",
    "plt.xscale('log')"
   ]
  },
  {
   "cell_type": "markdown",
   "id": "6edb4c81",
   "metadata": {},
   "source": [
    "# Paper bias plots"
   ]
  },
  {
   "cell_type": "code",
   "execution_count": 79,
   "id": "635289db",
   "metadata": {},
   "outputs": [],
   "source": [
    "num_runs = 10"
   ]
  },
  {
   "cell_type": "code",
   "execution_count": 80,
   "id": "0a54d3de",
   "metadata": {},
   "outputs": [
    {
     "data": {
      "text/plain": [
       "<seaborn.axisgrid.PairGrid at 0x14fcc9d30>"
      ]
     },
     "execution_count": 80,
     "metadata": {},
     "output_type": "execute_result"
    },
    {
     "data": {
      "image/png": "[encoded data removed]",
      "text/plain": [
       "<Figure size 360x360 with 6 Axes>"
      ]
     },
     "metadata": {},
     "output_type": "display_data"
    }
   ],
   "source": [
    "hmc_data = az.from_netcdf('./dlmc_grad_experiments/benchmarks/funnel_sigma5/nuts/inference_data_funnel_centered_mcmc.nc')\n",
    "#tuning_data = hmc_data = az.from_netcdf('./dlmc_grad_experiments/benchmarks/funnel_sigma5/nuts/inference_data_funnel_centered_warmup.nc')\n",
    "idata = az.from_netcdf('./dlmc_grad_experiments/benchmarks/funnel_sigma5/nuts/new_inference_data_funnel_non_centered_mcmc.nc')\n",
    "\n",
    "tuning_steps = np.loadtxt('./dlmc_grad_experiments/benchmarks/funnel_sigma5/nuts/funnel_centered_warmup_n_steps.txt')\n",
    "\n",
    "hmc_steps = hmc_data['sample_stats']['n_steps'].to_numpy()\n",
    "hmc_theta = hmc_data['posterior']['theta'].to_numpy()\n",
    "hmc_z = hmc_data['posterior']['z'].to_numpy()\n",
    "\n",
    "nc_steps = idata['sample_stats']['n_steps'].to_numpy()\n",
    "nc_theta = idata['posterior']['theta'].to_numpy()\n",
    "nc_z = idata['posterior']['z'].to_numpy()\n",
    "nc_theta = nc_theta.reshape(num_runs * nc_theta.shape[1], 1)\n",
    "nc_z = nc_z.reshape(num_runs * nc_z.shape[1], nc_z.shape[2])\n",
    "\n",
    "nc_samples = np.concatenate([nc_theta, nc_z], axis=1)\n",
    "hmc_samples = np.concatenate([hmc_theta.reshape(hmc_theta.shape[0], hmc_theta.shape[1], 1),\n",
    "                              hmc_z], axis=2)\n",
    "\n",
    "nc_ref_var = np.var(nc_samples, axis=0)\n",
    "sns.pairplot(pd.DataFrame(nc_samples[:, 0:2]))"
   ]
  },
  {
   "cell_type": "code",
   "execution_count": 81,
   "id": "260887a5",
   "metadata": {},
   "outputs": [
    {
     "data": {
      "text/plain": [
       "<seaborn.axisgrid.PairGrid at 0x14fc5cf40>"
      ]
     },
     "execution_count": 81,
     "metadata": {},
     "output_type": "execute_result"
    },
    {
     "data": {
      "image/png": "[encoded data removed]",
      "text/plain": [
       "<Figure size 360x360 with 6 Axes>"
      ]
     },
     "metadata": {},
     "output_type": "display_data"
    }
   ],
   "source": [
    "sns.pairplot(pd.DataFrame(hmc_samples[0, :, 0:2]))"
   ]
  },
  {
   "cell_type": "code",
   "execution_count": 90,
   "id": "584ca5a3",
   "metadata": {},
   "outputs": [
    {
     "data": {
      "image/png": "[encoded data removed]",
      "text/plain": [
       "<Figure size 432x288 with 1 Axes>"
      ]
     },
     "metadata": {},
     "output_type": "display_data"
    }
   ],
   "source": [
    "total_tuning = np.sum(tuning_steps, axis=1)\n",
    "mean_total_tuning = np.mean(total_tuning)\n",
    "\n",
    "max_nuts = 5000\n",
    "num_dlmc = 50\n",
    "\n",
    "all_c_bias_sq = np.empty((num_runs, max_nuts))\n",
    "all_c_cum_steps = np.empty((num_runs, max_nuts))\n",
    "all_tuning_steps = np.empty((num_runs, 500))\n",
    "\n",
    "all_dlmc_bias_sq = np.empty((num_runs, num_dlmc))\n",
    "\n",
    "plt.figure()\n",
    "sns.set_theme()\n",
    "for i in range(num_runs):\n",
    "    \n",
    "    all_c_cum_steps[i, :] = np.cumsum(hmc_steps[i, :max_nuts])\n",
    "    all_tuning_steps[i, :] = np.cumsum(tuning_steps[i, :])\n",
    "    c_cum_steps = np.cumsum(np.concatenate([tuning_steps[i, :], hmc_steps[i, :max_nuts]]))\n",
    "    c_bias_sq = []\n",
    "    for j in range(1, max_nuts + 1):\n",
    "        iter_var = np.var(hmc_samples[i, :j, :], axis=0)\n",
    "        hmc_bias_sq = (np.sqrt(iter_var) - np.sqrt(nc_ref_var)) ** 2\n",
    "        c_bias_sq.append(hmc_bias_sq[0])\n",
    "    c_bias_sq = np.array(c_bias_sq)\n",
    "    all_c_bias_sq[i, :] = c_bias_sq\n",
    "    c_bias_sq = np.concatenate([c_bias_sq[0] * np.ones(len(tuning_steps[i, :])), c_bias_sq])\n",
    "        \n",
    "    with open(f'./dlmc_grad_experiments/benchmarks/funnel_sigma5/nuts/dlmc_run_{i}.pkl', 'rb') as f:\n",
    "        dlmc_x = pickle.load(f)\n",
    "    \n",
    "    dlmc_bias_sq = []\n",
    "    for k in range(0, num_dlmc):\n",
    "        if k == 0:\n",
    "            dlmc_var = np.var(dlmc_x[1]['init'].numpy(), axis=0)\n",
    "        else:\n",
    "            dlmc_var = np.var(dlmc_x[1][f'{k - 1}'].numpy(), axis=0)\n",
    "        bias2 = (np.sqrt(dlmc_var) - np.sqrt(nc_ref_var)) ** 2 / nc_ref_var\n",
    "        dlmc_bias_sq.append(bias2[0])\n",
    "    all_dlmc_bias_sq[i, :] = np.array(dlmc_bias_sq)\n",
    "    dlmc_steps = 1000 * np.ones(num_dlmc)\n",
    "    dlmc_steps = np.cumsum(dlmc_steps) - 1000\n",
    "    \n",
    "    plt.plot(c_cum_steps, c_bias_sq, color='#33BBEE', alpha=0.2)\n",
    "    plt.plot(dlmc_steps, np.array(dlmc_bias_sq), color='#EE3377', alpha=0.2)\n",
    "\n",
    "mean_tuning_steps = np.median(all_tuning_steps, axis=0)\n",
    "mean_c_cum_steps = np.median(all_c_cum_steps, axis=0) + mean_tuning_steps[-1:]\n",
    "mean_nuts_steps = np.concatenate([mean_tuning_steps, mean_c_cum_steps])\n",
    "mean_c_bias_sq = np.median(all_c_bias_sq, axis=0)\n",
    "mean_nuts_bias_sq = np.concatenate([mean_c_bias_sq[0] * np.ones(len(mean_tuning_steps)),\n",
    "                                    mean_c_bias_sq])\n",
    "\n",
    "low_c_bias_sq = np.percentile(all_c_bias_sq, 5, axis=0)\n",
    "high_c_bias_sq = np.percentile(all_c_bias_sq, 95, axis=0)\n",
    "low_nuts_bias_sq = np.concatenate([low_c_bias_sq[0] * np.ones(len(mean_tuning_steps)),\n",
    "                                   low_c_bias_sq])\n",
    "high_nuts_bias_sq = np.concatenate([high_c_bias_sq[0] * np.ones(len(mean_tuning_steps)),\n",
    "                                    high_c_bias_sq])\n",
    "\n",
    "mean_dlmc_bias_sq = np.median(all_dlmc_bias_sq, axis=0)\n",
    "low_dlmc_bias_sq = np.percentile(all_dlmc_bias_sq, 5, axis=0)\n",
    "high_dlmc_bias_sq = np.percentile(all_dlmc_bias_sq, 95, axis=0)\n",
    "    \n",
    "plt.plot(mean_nuts_steps, mean_nuts_bias_sq, label='NUTS', color='#33BBEE')\n",
    "plt.plot(dlmc_steps, mean_dlmc_bias_sq, label='DLMC', color='#EE3377')\n",
    "plt.plot(mean_tuning_steps[-1:], mean_c_bias_sq[0], marker='o', markersize=10, color='#33BBEE')\n",
    "plt.fill_between(mean_nuts_steps, low_nuts_bias_sq, high_nuts_bias_sq, color='#33BBEE', alpha=0.5)\n",
    "plt.fill_between(dlmc_steps, low_dlmc_bias_sq, high_dlmc_bias_sq, color='#EE3377', alpha=0.5)\n",
    "    \n",
    "plt.loglog()\n",
    "plt.legend(loc='upper right')\n",
    "plt.xlim(500, 2e5)\n",
    "plt.ylim(1e-4)\n",
    "plt.ylabel(r'Bias$^2$')\n",
    "plt.xlabel('Gradient Evaluations')\n",
    "plt.tight_layout()\n",
    "plt.savefig(f'./dlmc_grad_experiments/benchmarks/funnel_sigma5/nuts/bias2_funnel_sigma5_95percentiles.png', dpi=300)"
   ]
  },
  {
   "cell_type": "code",
   "execution_count": null,
   "id": "cb0f738f",
   "metadata": {},
   "outputs": [],
   "source": [
    "total_tuning = np.sum(tuning_steps, axis=1)\n",
    "mean_total_tuning = np.mean(total_tuning)\n",
    "\n",
    "max_nuts = 5000\n",
    "num_dlmc = 20\n",
    "\n",
    "all_c_bias_sq = np.empty((num_runs, max_nuts))\n",
    "all_c_cum_steps = np.empty((num_runs, max_nuts))\n",
    "all_tuning_steps = np.empty((num_runs, 500))\n",
    "\n",
    "all_dlmc_bias_sq = np.empty((num_runs, num_dlmc))\n",
    "\n",
    "plt.figure()\n",
    "sns.set_theme()\n",
    "for i in range(num_runs):\n",
    "    \n",
    "    all_c_cum_steps[i, :] = np.cumsum(hmc_steps[i, :max_nuts])\n",
    "    all_tuning_steps[i, :] = np.cumsum(tuning_steps[i, :])\n",
    "    c_cum_steps = np.cumsum(np.concatenate([tuning_steps[i, :], hmc_steps[i, :max_nuts]]))\n",
    "    c_bias_sq = []\n",
    "    for j in range(1, max_nuts + 1):\n",
    "        iter_var = np.var(hmc_samples[i, :j, :], axis=0)\n",
    "        hmc_bias_sq = (np.sqrt(iter_var) - np.sqrt(nc_ref_var)) ** 2\n",
    "        c_bias_sq.append(np.mean(hmc_bias_sq))\n",
    "    c_bias_sq = np.array(c_bias_sq)\n",
    "    all_c_bias_sq[i, :] = c_bias_sq\n",
    "    c_bias_sq = np.concatenate([c_bias_sq[0] * np.ones(len(tuning_steps[i, :])), c_bias_sq])\n",
    "        \n",
    "    with open(f'./dlmc_grad_experiments/benchmarks/funnel_sigma5/nuts/dlmc_run_{i}.pkl', 'rb') as f:\n",
    "        dlmc_x = pickle.load(f)\n",
    "    \n",
    "    dlmc_bias_sq = []\n",
    "    for k in range(0, num_dlmc):\n",
    "        if k == 0:\n",
    "            dlmc_var = np.var(dlmc_x[1]['init'].numpy(), axis=0)\n",
    "        else:\n",
    "            dlmc_var = np.var(dlmc_x[1][f'{k - 1}'].numpy(), axis=0)\n",
    "        bias2 = (np.sqrt(dlmc_var) - np.sqrt(nc_ref_var)) ** 2\n",
    "        dlmc_bias_sq.append(np.mean(bias2))\n",
    "    all_dlmc_bias_sq[i, :] = np.array(dlmc_bias_sq)\n",
    "    dlmc_steps = 1000 * np.ones(num_dlmc)\n",
    "    dlmc_steps = np.cumsum(dlmc_steps) - 1000\n",
    "    \n",
    "    plt.plot(c_cum_steps, c_bias_sq, color='#33BBEE', alpha=0.2)\n",
    "    plt.plot(dlmc_steps, np.array(dlmc_bias_sq), color='#EE3377', alpha=0.2)\n",
    "\n",
    "mean_tuning_steps = np.median(all_tuning_steps, axis=0)\n",
    "mean_c_cum_steps = np.median(all_c_cum_steps, axis=0) + mean_tuning_steps[-1:]\n",
    "mean_nuts_steps = np.concatenate([mean_tuning_steps, mean_c_cum_steps])\n",
    "mean_c_bias_sq = np.median(all_c_bias_sq, axis=0)\n",
    "mean_nuts_bias_sq = np.concatenate([mean_c_bias_sq[0] * np.ones(len(mean_tuning_steps)),\n",
    "                                    mean_c_bias_sq])\n",
    "\n",
    "low_c_bias_sq = np.percentile(all_c_bias_sq, 5, axis=0)\n",
    "high_c_bias_sq = np.percentile(all_c_bias_sq, 95, axis=0)\n",
    "low_nuts_bias_sq = np.concatenate([low_c_bias_sq[0] * np.ones(len(mean_tuning_steps)),\n",
    "                                   low_c_bias_sq])\n",
    "high_nuts_bias_sq = np.concatenate([high_c_bias_sq[0] * np.ones(len(mean_tuning_steps)),\n",
    "                                    high_c_bias_sq])\n",
    "\n",
    "mean_dlmc_bias_sq = np.median(all_dlmc_bias_sq, axis=0)\n",
    "low_dlmc_bias_sq = np.percentile(all_dlmc_bias_sq, 5, axis=0)\n",
    "high_dlmc_bias_sq = np.percentile(all_dlmc_bias_sq, 95, axis=0)\n",
    "    \n",
    "plt.plot(mean_nuts_steps, mean_nuts_bias_sq, label='NUTS', color='#33BBEE')\n",
    "plt.plot(dlmc_steps, mean_dlmc_bias_sq, label='DLMC', color='#EE3377')\n",
    "plt.plot(mean_tuning_steps[-1:], mean_c_bias_sq[0], marker='o', markersize=10, color='#33BBEE')\n",
    "plt.fill_between(mean_nuts_steps, low_nuts_bias_sq, high_nuts_bias_sq, color='#33BBEE', alpha=0.5)\n",
    "plt.fill_between(dlmc_steps, low_dlmc_bias_sq, high_dlmc_bias_sq, color='#EE3377', alpha=0.5)\n",
    "    \n",
    "plt.loglog()\n",
    "plt.legend(loc='upper right')\n",
    "plt.xlim(500, 2e5)\n",
    "plt.ylabel(r'Bias$^2$')\n",
    "plt.xlabel('Gradient Evaluations')\n",
    "plt.tight_layout()\n",
    "plt.savefig(f'./dlmc_grad_experiments/benchmarks/funnel_sigma5/nuts/bias2_funnel_sigma5_95percentiles.png', dpi=300)"
   ]
  },
  {
   "cell_type": "code",
   "execution_count": null,
   "id": "d8530317",
   "metadata": {},
   "outputs": [],
   "source": [
    "plt.figure()\n",
    "for i in range(num_runs):\n",
    "    \n",
    "    c_cum_steps = np.cumsum(hmc_steps[i, :])\n",
    "    c_bias_sq = []\n",
    "    for j in range(1, len(hmc_samples[i]) + 1):\n",
    "        iter_var = np.var(hmc_samples[i, :j, :], axis=0)\n",
    "        hmc_bias_sq = (np.sqrt(iter_var) - np.sqrt(nc_ref_var)) ** 2 / nc_ref_var\n",
    "        c_bias_sq.append(np.mean(hmc_bias_sq))\n",
    "    c_bias_sq = np.array(c_bias_sq)\n",
    "        \n",
    "    with open(f'./dlmc_grad_experiments/benchmarks/funnel_sigma5/nuts/dlmc_run_{i}.pkl', 'rb') as f:\n",
    "        dlmc_x = pickle.load(f)\n",
    "    \n",
    "    dlmc_bias_sq = []\n",
    "    for k in range(0, len(dlmc_x[1].keys())):\n",
    "        if k == 0:\n",
    "            dlmc_var = np.var(dlmc_x[1]['init'].numpy(), axis=0)\n",
    "        else:\n",
    "            dlmc_var = np.var(dlmc_x[1][f'{k - 1}'].numpy(), axis=0)\n",
    "        bias2 = (np.sqrt(dlmc_var) - np.sqrt(nc_ref_var)) ** 2 / nc_ref_var\n",
    "        dlmc_bias_sq.append(np.mean(bias2))\n",
    "    dlmc_steps = 1000 * np.ones(len(dlmc_x[1].keys()))\n",
    "    dlmc_steps = np.cumsum(dlmc_steps) - 1000\n",
    "    \n",
    "    plt.plot(c_cum_steps, c_bias_sq, label='NUTS', color='#33BBEE', alpha=0.5)\n",
    "    plt.plot(dlmc_steps, np.array(dlmc_bias_sq), label='DLMC', color='#EE3377', alpha=0.5)\n",
    "\n",
    "#plt.yscale('log')\n",
    "plt.loglog()\n",
    "#plt.legend(loc='upper right')\n",
    "plt.ylabel(r'Bias$^2$')\n",
    "plt.xlabel('Gradient Evaluations')\n",
    "plt.savefig(f'./dlmc_grad_experiments/benchmarks/funnel_sigma5/nuts/bias2_rough.png')"
   ]
  },
  {
   "cell_type": "code",
   "execution_count": 20,
   "id": "e6134a8a",
   "metadata": {},
   "outputs": [
    {
     "data": {
      "image/png": "[encoded data removed]",
      "text/plain": [
       "<Figure size 432x288 with 1 Axes>"
      ]
     },
     "metadata": {},
     "output_type": "display_data"
    }
   ],
   "source": [
    "for i in [3]:\n",
    "\n",
    "    with open(f'./dlmc_grad_experiments/benchmarks/funnel_sigma5/nuts/dlmc_run_{i}.pkl', 'rb') as f:\n",
    "        dlmc_x = pickle.load(f)\n",
    "    \n",
    "    dlmc_bias_sq = []\n",
    "    for k in range(0, len(dlmc_x[1].keys())):\n",
    "        if k == 0:\n",
    "            dlmc_var = np.var(dlmc_x[1]['init'].numpy(), axis=0)\n",
    "        else:\n",
    "            dlmc_var = np.var(dlmc_x[1][f'{k - 1}'].numpy(), axis=0)\n",
    "        bias2 = (np.sqrt(dlmc_var) - np.sqrt(nc_ref_var)) ** 2 / nc_ref_var\n",
    "        dlmc_bias_sq.append(np.mean(bias2))\n",
    "    dlmc_steps = 1000 * np.ones(len(dlmc_x[1].keys()))\n",
    "    dlmc_steps = np.cumsum(dlmc_steps) - 1000\n",
    "\n",
    "    plt.plot(dlmc_steps, np.array(dlmc_bias_sq))\n",
    "plt.yscale('log')"
   ]
  },
  {
   "cell_type": "code",
   "execution_count": 27,
   "id": "57f6536b",
   "metadata": {},
   "outputs": [
    {
     "data": {
      "image/png": "[encoded data removed]",
      "text/plain": [
       "<Figure size 421.1x360 with 6 Axes>"
      ]
     },
     "metadata": {},
     "output_type": "display_data"
    }
   ],
   "source": [
    "i = 1\n",
    "\n",
    "with open(f'./dlmc_grad_experiments/benchmarks/funnel_sigma5/nuts/dlmc_run_{i}.pkl', 'rb') as f:\n",
    "        dlmc_x = pickle.load(f)\n",
    "        \n",
    "sns_pairplot(dlmc_x[0][:, 0:2], ix[:, 0:2][:1000])"
   ]
  },
  {
   "cell_type": "code",
   "execution_count": null,
   "id": "c0e2a365",
   "metadata": {},
   "outputs": [],
   "source": []
  }
 ],
 "metadata": {
  "kernelspec": {
   "display_name": "Python 3 (ipykernel)",
   "language": "python",
   "name": "python3"
  },
  "language_info": {
   "codemirror_mode": {
    "name": "ipython",
    "version": 3
   },
   "file_extension": ".py",
   "mimetype": "text/x-python",
   "name": "python",
   "nbconvert_exporter": "python",
   "pygments_lexer": "ipython3",
   "version": "3.9.10"
  }
 },
 "nbformat": 4,
 "nbformat_minor": 5
}
