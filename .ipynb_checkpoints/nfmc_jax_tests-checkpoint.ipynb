{
 "cells": [
  {
   "cell_type": "code",
   "execution_count": 1,
   "id": "dfdcea8c",
   "metadata": {},
   "outputs": [],
   "source": [
    "import sys\n",
    "sys.path.insert(1, '/home/richard/nfmc_jax/')\n",
    "import nfmc_jax\n",
    "import arviz as az\n",
    "import matplotlib\n",
    "import matplotlib.pyplot as plt\n",
    "import numpy as np\n",
    "import seaborn as sns\n",
    "import pandas as pd\n",
    "import scipy\n",
    "from sklearn.neighbors import KernelDensity\n",
    "import jax\n",
    "import jax.numpy as jnp\n",
    "from jax.scipy.special import logsumexp\n",
    "from jax.scipy.stats import multivariate_normal as mvn\n",
    "import chaospy"
   ]
  },
  {
   "cell_type": "markdown",
   "id": "dada79f5",
   "metadata": {},
   "source": [
    "# 1d Gaussian likelihood and prior test for nfmc_jax"
   ]
  },
  {
   "cell_type": "code",
   "execution_count": 2,
   "id": "7ab1e432",
   "metadata": {},
   "outputs": [
    {
     "data": {
      "text/plain": [
       "1"
      ]
     },
     "execution_count": 2,
     "metadata": {},
     "output_type": "execute_result"
    }
   ],
   "source": [
    "def log_like(x, mu=jnp.array([0]), cov=jnp.array([[1.0]])):\n",
    "    return mvn.logpdf(x, mu, cov)\n",
    "\n",
    "def log_prior(x, mu=jnp.array([0]), cov=jnp.array([[25.0]])):\n",
    "    return mvn.logpdf(x, mu, cov)\n",
    "\n",
    "key = jax.random.PRNGKey(100)\n",
    "prior_samples = jax.random.multivariate_normal(key, mean=jnp.array([0.0]), \n",
    "                                               cov=jnp.array([[25.0]]), shape=(100,))\n",
    "prior_samples.shape[1]"
   ]
  },
  {
   "cell_type": "code",
   "execution_count": 3,
   "id": "ca581c0a",
   "metadata": {},
   "outputs": [
    {
     "name": "stdout",
     "output_type": "stream",
     "text": [
      "Inference mode is sampling. Maximum beta is set to 1.\n"
     ]
    },
    {
     "name": "stderr",
     "output_type": "stream",
     "text": [
      "/home/richard/nfmc_jax/nfmc_jax/nfomc/nfomc.py:339: UserWarning: The given NumPy array is not writeable, and PyTorch does not support non-writeable tensors. This means you can write to the underlying (supposedly non-writeable) NumPy array using the tensor. You may want to copy the array to protect its data or make it writeable before converting it to a tensor. This type of warning will be suppressed for the rest of this program. (Triggered internally at  /opt/conda/conda-bld/pytorch_1623448222085/work/torch/csrc/utils/tensor_numpy.cpp:180.)\n",
      "  self.nf_model = GIS(torch.from_numpy(np.asarray(self.samples)),\n",
      "/home/richard/nfmc_jax/nfmc_jax/sinf/SINF.py:494: UserWarning: torch.qr is deprecated in favor of torch.linalg.qr and will be removed in a future PyTorch release.\n",
      "The boolean parameter 'some' has been replaced with a string parameter 'mode'.\n",
      "Q, R = torch.qr(A, some)\n",
      "should be replaced with\n",
      "Q, R = torch.linalg.qr(A, 'reduced' if some else 'complete') (Triggered internally at  /opt/conda/conda-bld/pytorch_1623448222085/work/aten/src/ATen/native/BatchLinearAlgebra.cpp:1940.)\n",
      "  Q, R = torch.qr(ATi)\n"
     ]
    },
    {
     "name": "stdout",
     "output_type": "stream",
     "text": [
      "logIW3 [-0.4172442  -0.38289928 -0.4482162   0.7180691  -0.05131459 -0.45318413\n",
      "  0.01212549  1.7776923   2.0508952   2.039258   -0.02891064 -0.44710636\n",
      "  0.06950378  0.11726761 -0.4531741   0.01080275 -0.46052575 -0.457119\n",
      " -0.4218061  -0.463202   -0.46877646 -0.33798456 -0.45086002  0.2748747\n",
      " -0.3866682   0.5781398  -0.07588148 -0.465029    0.2780416   0.4710765\n",
      " -0.14688921 -0.43735027 -0.36852455 -0.37733555 -0.43586826  0.33677435\n",
      " -0.03287339 -0.09996605 -0.4022448   0.5148454   0.6633167  -0.11911392\n",
      " -0.43084598  0.19737339 -0.39749074  1.2922626  -0.4113593  -0.46813607\n",
      "  1.7127972  -0.04412556  2.3676953  -0.3652432   0.2124536  -0.4468267\n",
      " -0.36322117 -0.08198261 -0.45689487  1.3788977   0.69742703 -0.44683933\n",
      " -0.16679001 -0.46698332  1.0808399  -0.44046426 -0.46792603  3.5554013\n",
      " -0.13542342  0.8277705   0.01247573 -0.46500087 -0.04991269  1.290267\n",
      " -0.41890502 -0.16699076  2.0967703   0.03370786 -0.31561184  0.01494527\n",
      " -0.20314026  0.37523484  1.2813828   0.30557847 -0.3251407   1.309941\n",
      "  0.40405393  1.0178843   0.6815033  -0.15629601 -0.0140574  -0.43849683\n",
      " -0.37057114 -0.4667318  -0.2696457  -0.17309237  0.38873267  0.4774034\n",
      " -0.33007693 -0.03562164  1.493757   -0.0316267 ]\n",
      "self.beta before iteration 0\n",
      "beta:  1.0\n",
      "ESS:  33\n",
      "beta:  0.5\n",
      "ESS:  41\n",
      "beta:  0.25\n",
      "ESS:  57\n",
      "beta:  0.375\n",
      "ESS:  46\n",
      "beta:  0.3125\n",
      "ESS:  51\n",
      "beta:  0.34375\n",
      "ESS:  48\n",
      "beta:  0.328125\n",
      "ESS:  49\n",
      "beta:  0.3203125\n",
      "ESS:  50\n",
      "self beta 0.3203125\n",
      "logIW3 [ -1.1821408   -0.50114894  -1.2203354   -6.7440863   -3.2179198\n",
      "  -1.149807    -1.992528   -14.029989   -11.025151   -15.778138\n",
      "  -1.752265    -1.229697    -3.9605093   -4.204607    -1.1498129\n",
      "  -1.9847562   -1.0174813   -1.0987191   -1.2106414   -0.30445766\n",
      "  -0.55468035  -0.7078066   -0.2103138   -3.4558105   -0.95305276\n",
      "  -5.039833    -3.04532     -0.33795834  -4.9404006   -4.4761043\n",
      "  -1.1018691   -0.21246934  -0.83667064  -0.5350776   -0.21441865\n",
      "  -5.1844835   -1.731533    -2.8688922   -1.0715847   -5.9080997\n",
      "  -5.509819    -1.2466068   -1.2502882   -3.0456963   -1.0339563\n",
      "  -9.948959    -1.1404669   -0.4571607  -13.498942    -3.2664032\n",
      " -12.203228    -0.6270776   -3.1249657   -1.2320147   -0.80848503\n",
      "  -3.0013216   -1.1033123  -10.680472    -6.657734    -0.20800447\n",
      "  -2.3436306   -0.7679994   -8.13358     -1.2594656   -0.7016587\n",
      " -26.462729    -1.1602662   -7.1904116   -3.6299303   -0.868031\n",
      "  -3.2278028   -8.760414    -1.193054    -2.3419366  -16.096722\n",
      "  -2.119399    -0.65531206  -3.6446364   -0.84765005  -3.9798362\n",
      "  -8.738218    -5.0565844   -0.9586065  -10.101814    -5.4579115\n",
      "  -7.915735    -5.6111817   -2.4301858   -1.839776    -1.2624382\n",
      "  -0.8487923   -0.78646946  -1.4545274   -0.9769273   -4.0510507\n",
      "  -5.755232    -0.6844554   -3.3237047  -11.663482    -1.7397425\n",
      "  -1.2619963   -1.2599275   -1.2590652   -1.2614584   -1.2597816\n",
      "  -1.2595067   -1.2613318   -1.2617432   -1.2620254   -1.2607988 ]\n",
      "self.beta before iteration 0.3203125\n",
      "beta:  1.16015625\n",
      "ESS:  44\n",
      "beta:  0.740234375\n",
      "ESS:  47\n",
      "beta:  0.5302734375\n",
      "ESS:  50\n",
      "self beta 0.5302734375\n",
      "logIW3 [ -1.3046693  -1.7218547  -1.3061304 -10.950493   -5.0920157  -1.2570424\n",
      "  -3.4111607 -22.802574  -18.432117  -25.782568   -3.0331707  -1.3140392\n",
      "  -6.211941   -6.612231   -1.2570461  -3.3990412  -1.1728636  -1.2224221\n",
      "  -1.319807   -1.0062468  -0.980057   -1.0607219  -1.1205089  -5.8071404\n",
      "  -1.1673784  -8.549868   -4.8484125  -0.9892254  -7.868487   -7.5691037\n",
      "  -2.0019298  -1.2431295  -1.1048934  -1.7716792  -1.2559628  -8.29655\n",
      "  -3.000485   -4.6056294  -1.2376685  -9.5546465  -9.35358    -2.2326212\n",
      "  -1.3409214  -5.108692   -1.213964  -16.505638   -1.2795837  -0.9717753\n",
      " -21.993814   -5.161658  -20.176722   -1.8841538  -5.2464275  -1.3160765\n",
      "  -1.0918283  -4.7874007  -1.2250924 -17.617712  -10.812992   -1.1572392\n",
      "  -3.9110546  -1.0456898 -13.273517   -1.3399158  -1.019896  -43.568687\n",
      "  -2.0966837 -11.687492   -5.698097   -1.0914178  -5.1059375 -14.418331\n",
      "  -1.3108916  -3.908888  -26.436983   -3.613051   -1.0714087  -5.7210684\n",
      "  -1.5895834  -6.705817  -14.371677   -8.071193   -2.2687924 -16.717464\n",
      "  -8.775797  -12.899351   -9.541391   -4.0223646  -3.170539   -1.3439522\n",
      "  -1.1110554  -1.0535699  -2.8189294  -1.7939882  -6.8277903  -9.290146\n",
      "  -1.0656855  -5.244343  -19.130028   -3.013407   -1.3410221  -1.3408325\n",
      "  -1.3412793  -1.3419306  -1.3409715  -1.3398814  -1.3420893  -1.3432102\n",
      "  -1.3409675  -1.3414862  -1.192591   -1.1933796  -1.189733   -1.1933115\n",
      "  -1.1945195  -1.1961162  -1.1884577  -1.1868868  -1.1980927  -1.184617 ]\n",
      "self.beta before iteration 0.5302734375\n",
      "beta:  1.26513671875\n",
      "ESS:  52\n",
      "beta:  1.632568359375\n",
      "ESS:  47\n",
      "beta:  1.4488525390625\n",
      "ESS:  49\n",
      "beta:  1.35699462890625\n",
      "ESS:  51\n",
      "beta:  1.402923583984375\n",
      "ESS:  50\n",
      "self beta 1\n",
      "Removing 2 samples with the lowest logp values.\n",
      "Removing 3 samples with the lowest logp values.\n",
      "Removing 4 samples with the lowest logp values.\n",
      "Normalizing constant estimate E_qw[p*qw]/E_qw[qw^2] has stabilised - stopping local exploration.\n",
      "Removing 5 samples with the lowest logp values.\n",
      "Normalizing constant estimate E_qw[p*qw]/E_qw[qw^2] has stabilised - stopping local exploration.\n",
      "Removing 6 samples with the lowest logp values.\n",
      "Normalizing constant estimate E_qw[p*qw]/E_qw[qw^2] has stabilised - stopping local exploration.\n",
      "Removing 7 samples with the lowest logp values.\n",
      "Normalizing constant estimate E_qw[p*qw]/E_qw[qw^2] has stabilised - stopping local exploration.\n",
      "Removing 8 samples with the lowest logp values.\n",
      "Normalizing constant estimate E_qw[p*qw]/E_qw[qw^2] has stabilised - stopping local exploration.\n",
      "Removing 9 samples with the lowest logp values.\n",
      "Normalizing constant estimate E_qw[p*qw]/E_qw[qw^2] has stabilised - stopping local exploration.\n",
      "Removing 11 samples with the lowest logp values.\n",
      "Normalizing constant estimate E_qw[p*qw]/E_qw[qw^2] has stabilised - stopping local exploration.\n",
      "Removing 97 samples with the lowest logp values.\n"
     ]
    }
   ],
   "source": [
    "trace = nfmc_jax.infer_nfomc(log_like, log_prior, prior_samples, \n",
    "                             log_like_args=(jnp.array([0]), jnp.array([[1.0]])), \n",
    "                             log_prior_args=(jnp.array([0]), jnp.array([[25.0]])), \n",
    "                             vmap=True, parallel_backend=None, n0=100, iteration=5, \n",
    "                             N_AF=1000, expl_top_AF=10, expl_latent=1, expl_top_qw=1, local_thresh=3,\n",
    "                             nfmc_draws=100, nf_iter=10, k_trunc=np.inf, ess_tol=0.9, eps_z=0.05,\n",
    "                             inference_mode=\"sampling\", cull_lowp_tol=0.01, max_cull_frac=0.0,\n",
    "                             trainable_qw=False, beta_max=1)"
   ]
  },
  {
   "cell_type": "code",
   "execution_count": 4,
   "id": "1d9a8f88",
   "metadata": {},
   "outputs": [
    {
     "name": "stdout",
     "output_type": "stream",
     "text": [
      "qw weighted mean = -0.020360251888632774\n",
      "qw weighted sd = 0.9055849313735962\n",
      "sigma_prod = 0.9805806875228882\n",
      "quw weighted mean = -0.019362574443221092\n",
      "quw weighted sd = 0.8259681463241577\n"
     ]
    },
    {
     "data": {
      "text/plain": [
       "<matplotlib.legend.Legend at 0x7f382a3aff40>"
      ]
     },
     "execution_count": 4,
     "metadata": {},
     "output_type": "execute_result"
    },
    {
     "data": {
      "image/png": "[encoded data removed]",
      "text/plain": [
       "<Figure size 432x288 with 1 Axes>"
      ]
     },
     "metadata": {
      "needs_background": "light"
     },
     "output_type": "display_data"
    },
    {
     "data": {
      "image/png": "[encoded data removed]",
      "text/plain": [
       "<Figure size 432x288 with 1 Axes>"
      ]
     },
     "metadata": {
      "needs_background": "light"
     },
     "output_type": "display_data"
    }
   ],
   "source": [
    "posterior = trace['qw_posterior'][0]\n",
    "betas = trace['betas']\n",
    "\n",
    "x = np.asarray(posterior).squeeze()\n",
    "w = np.clip(trace['qw_posterior_weights'][0], a_min=0, a_max=None)\n",
    "\n",
    "qw_mu = jnp.average(x, weights=w)\n",
    "qw_sd = jnp.sqrt(jnp.average((x - qw_mu) ** 2, weights=w))\n",
    "\n",
    "print(f'qw weighted mean = {qw_mu}')\n",
    "print(f'qw weighted sd = {qw_sd}')\n",
    "\n",
    "sigma_prod = jnp.sqrt((5.0 ** 2) / (5.0 ** 2 + 1.0 ** 2))\n",
    "print(f'sigma_prod = {sigma_prod}')\n",
    "def gauss(z, mu=0, cov=jnp.array([[sigma_prod ** 2]])):\n",
    "    return jax.vmap(lambda x: jnp.exp(mvn.logpdf(x, mu, cov)))(z).squeeze()\n",
    "\n",
    "z = jnp.linspace(-4, 4, 100)\n",
    "plt.figure()\n",
    "sns.kdeplot(x, label='un-weighted')\n",
    "sns.kdeplot(x, weights=w, label='qw posterior')\n",
    "plt.plot(z, gauss(z), label='N(0,1)')\n",
    "plt.legend(loc='upper right')\n",
    "\n",
    "posterior = trace['quw_posterior'][0]\n",
    "\n",
    "x = np.asarray(posterior).squeeze()\n",
    "w = np.clip(trace['quw_posterior_weights'][0], a_min=0, a_max=None)\n",
    "\n",
    "quw_mu = jnp.average(x, weights=w)\n",
    "quw_sd = jnp.sqrt(jnp.average((x - quw_mu) ** 2, weights=w))\n",
    "\n",
    "print(f'quw weighted mean = {quw_mu}')\n",
    "print(f'quw weighted sd = {quw_sd}')\n",
    "\n",
    "z = np.linspace(-4, 4, 100)\n",
    "plt.figure()\n",
    "sns.kdeplot(x, label='un-weighted')\n",
    "sns.kdeplot(x, weights=w, label='quw posterior')\n",
    "plt.plot(z, gauss(z), label='N(0,1)')\n",
    "plt.legend(loc='upper right')"
   ]
  },
  {
   "cell_type": "code",
   "execution_count": 5,
   "id": "c1830c46",
   "metadata": {},
   "outputs": [
    {
     "name": "stdout",
     "output_type": "stream",
     "text": [
      "dict_keys(['q1_w', 'q1_uw', 'q2_w', 'q2_uw', 'q3_w', 'q3_uw', 'q_nfmc_1_w', 'q_nfmc_1_uw', 'q_nfmc_2_w', 'q_nfmc_2_uw', 'q_nfmc_3_w', 'q_nfmc_3_uw', 'q_nfmc_4_w', 'q_nfmc_4_uw', 'q_nfmc_5_w', 'q_nfmc_5_uw', 'q_nfmc_6_w', 'q_nfmc_6_uw', 'q_nfmc_7_w', 'q_nfmc_7_uw', 'q_nfmc_8_w', 'q_nfmc_8_uw', 'q_nfmc_9_w', 'q_nfmc_9_uw', 'q_nfmc_10_w', 'q_nfmc_10_uw'])\n",
      "dict_keys(['q1_w', 'q1_uw', 'q2_w', 'q2_uw', 'q3_w', 'q3_uw', 'q_nfmc_1_w', 'q_nfmc_1_uw', 'q_nfmc_2_w', 'q_nfmc_2_uw', 'q_nfmc_3_w', 'q_nfmc_3_uw', 'q_nfmc_4_w', 'q_nfmc_4_uw', 'q_nfmc_5_w', 'q_nfmc_5_uw', 'q_nfmc_6_w', 'q_nfmc_6_uw', 'q_nfmc_7_w', 'q_nfmc_7_uw', 'q_nfmc_8_w', 'q_nfmc_8_uw', 'q_nfmc_9_w', 'q_nfmc_9_uw', 'q_nfmc_10_w', 'q_nfmc_10_uw'])\n"
     ]
    },
    {
     "data": {
      "text/plain": [
       "<AxesSubplot:ylabel='Density'>"
      ]
     },
     "execution_count": 5,
     "metadata": {},
     "output_type": "execute_result"
    },
    {
     "data": {
      "image/png": "[encoded data removed]",
      "text/plain": [
       "<Figure size 432x288 with 1 Axes>"
      ]
     },
     "metadata": {
      "needs_background": "light"
     },
     "output_type": "display_data"
    }
   ],
   "source": [
    "q_models = trace['q_models'][0]\n",
    "print(q_models.keys())\n",
    "q1 = q_models['q1_w'][0]\n",
    "import torch\n",
    "q1_samples, _ = q1.sample(1000, device='cpu') \n",
    "q1_samples = q1_samples.numpy()\n",
    "\n",
    "sns.kdeplot(q1_samples.squeeze())\n",
    "\n",
    "q_models = trace['q_models'][0]\n",
    "print(q_models.keys())\n",
    "q2 = q_models['q_nfmc_1_w'][0]\n",
    "import torch\n",
    "q2_samples, _ = q2.sample(1000, device='cpu') \n",
    "q2_samples = q2_samples.numpy()\n",
    "\n",
    "sns.kdeplot(q2_samples.squeeze())"
   ]
  },
  {
   "cell_type": "markdown",
   "id": "e85a9c9b",
   "metadata": {},
   "source": [
    "# Correlated Gaussian test"
   ]
  },
  {
   "cell_type": "code",
   "execution_count": null,
   "id": "a5ab64a9",
   "metadata": {},
   "outputs": [],
   "source": []
  },
  {
   "cell_type": "markdown",
   "id": "34fd797c",
   "metadata": {},
   "source": [
    "# JS pmap test ..."
   ]
  },
  {
   "cell_type": "code",
   "execution_count": 2,
   "id": "5550464f",
   "metadata": {},
   "outputs": [],
   "source": [
    "n=1\n",
    "n_iter=1 #sinf iterations \n",
    "n_prior = 10 #number of sobol points\n",
    "n_samples = n_prior #not used explicitly\n",
    "n0=n_prior\n",
    "N=n_samples\n",
    "#get sobol sequence for initial samples\n",
    "low,high=-1.0,1.0\n",
    "dist1d = chaospy.Iid(chaospy.Uniform(lower=low,upper=high),n)\n",
    "init_prior=dist1d\n",
    "init_prior = np.atleast_2d(dist1d.sample(n_prior,rule='sobol')).T\n",
    "knots=None\n",
    "# knots=5\n",
    "knots_trainable=5 \n",
    "bw=1.\n",
    "rel_bw=1\n",
    "layers=5\n",
    "ktrunc=np.inf #no clip\n",
    "t_ess=0.7\n",
    "g_AF=0\n",
    "aN=int(2*N)\n",
    "bN=1\n",
    "beta_max=1.5\n",
    "rel_beta=1\n",
    "frac_rel_beta_AF = 1\n",
    "bounds=np.array([low*np.ones(n),high*np.ones(n)])\n",
    "alpha_w = (0,0)\n",
    "alpha_uw = (0,0)\n",
    "use_latent_beta2=False\n",
    "use_pq_beta_IW1=False\n",
    "cN=0\n",
    "dN=0\n",
    "trainable_qw=False\n",
    "sgd_steps=0\n",
    "latent_sigma=1\n",
    "seed=-1"
   ]
  },
  {
   "cell_type": "code",
   "execution_count": 3,
   "id": "44f58272",
   "metadata": {},
   "outputs": [
    {
     "name": "stdout",
     "output_type": "stream",
     "text": [
      "Inference mode is optimization. Maximum beta is: 1.5\n",
      "stage:  0\n",
      "stage:  1\n",
      "No weights in the fit. bw_uw = 1.00 bw_w\n",
      "After boundary transform logp: -0.8109225034713745\n",
      "Fit spline Time: 0.002235889434814453\n",
      "logp: -0.6097343564033508 time: 0.0049364566802978516 iteration: 2\n",
      "Fit spline Time: 0.001268625259399414\n",
      "logp: -0.576472282409668 time: 0.0025093555450439453 iteration: 3\n",
      "Fit spline Time: 0.0013854503631591797\n",
      "logp: -0.5575479865074158 time: 0.002671480178833008 iteration: 4\n",
      "Fit spline Time: 0.0011544227600097656\n",
      "logp: -0.5410507917404175 time: 0.002310514450073242 iteration: 5\n",
      "logIW3 [ 0.08547521 -0.11270094 -0.14468181  0.06078959 -0.28717494  0.00533712\n",
      " -0.3234868  -0.31068587 -0.05191422 -0.4419217 ]\n",
      "self.beta before iteration 0\n",
      "beta:  1.0\n",
      "ESS:  1\n",
      "beta:  0.5\n",
      "ESS:  2\n",
      "beta:  0.25\n",
      "ESS:  3\n",
      "beta:  0.125\n",
      "ESS:  5\n",
      "beta:  0.0625\n",
      "ESS:  7\n",
      "self beta 0.0625\n",
      "weighting fit\n",
      "After boundary transform logp: -0.48146432638168335\n",
      "Fit spline Time: 0.0014586448669433594\n",
      "logp: -0.46615251898765564 time: 0.002876758575439453 iteration: 2\n",
      "Fit spline Time: 0.00128936767578125\n",
      "logp: -0.45805293321609497 time: 0.002437591552734375 iteration: 3\n",
      "Fit spline Time: 0.0012295246124267578\n",
      "logp: -0.4520331919193268 time: 0.0024290084838867188 iteration: 4\n",
      "Fit spline Time: 0.0013175010681152344\n",
      "logp: -0.44729945063591003 time: 0.0026307106018066406 iteration: 5\n"
     ]
    },
    {
     "name": "stderr",
     "output_type": "stream",
     "text": [
      "/home/richard/nfmc_jax/nfmc_jax/nfomc/nfomc.py:333: UserWarning: The given NumPy array is not writeable, and PyTorch does not support non-writeable tensors. This means you can write to the underlying (supposedly non-writeable) NumPy array using the tensor. You may want to copy the array to protect its data or make it writeable before converting it to a tensor. This type of warning will be suppressed for the rest of this program. (Triggered internally at  /opt/conda/conda-bld/pytorch_1623448222085/work/torch/csrc/utils/tensor_numpy.cpp:180.)\n",
      "  self.nf_model = GIS(torch.from_numpy(np.asarray(self.samples)),\n",
      "/home/richard/nfmc_jax/nfmc_jax/sinf/SINF.py:494: UserWarning: torch.qr is deprecated in favor of torch.linalg.qr and will be removed in a future PyTorch release.\n",
      "The boolean parameter 'some' has been replaced with a string parameter 'mode'.\n",
      "Q, R = torch.qr(A, some)\n",
      "should be replaced with\n",
      "Q, R = torch.linalg.qr(A, 'reduced' if some else 'complete') (Triggered internally at  /opt/conda/conda-bld/pytorch_1623448222085/work/aten/src/ATen/native/BatchLinearAlgebra.cpp:1940.)\n",
      "  Q, R = torch.qr(ATi)\n",
      "/home/richard/nfmc_jax/nfmc_jax/nfomc/infer_nfomc.py:574: FutureWarning: Using a non-tuple sequence for multidimensional indexing is deprecated; use `arr[tuple(seq)]` instead of `arr[seq]`. In the future this will be interpreted as an array index, `arr[np.array(seq)]`, which will result either in an error or a different result.\n",
      "  dlogq_w = dlogq_w[prior_mask]\n"
     ]
    },
    {
     "name": "stdout",
     "output_type": "stream",
     "text": [
      "stage:  2\n",
      "No weights in the fit. bw_uw = 1.00 bw_w\n",
      "After boundary transform logp: -0.7598125338554382\n",
      "Fit spline Time: 0.0013918876647949219\n",
      "logp: -0.6053368449211121 time: 0.002882719039916992 iteration: 2\n",
      "Fit spline Time: 0.0012912750244140625\n",
      "logp: -0.578854501247406 time: 0.002475261688232422 iteration: 3\n",
      "Fit spline Time: 0.0011665821075439453\n",
      "logp: -0.5615769624710083 time: 0.0022809505462646484 iteration: 4\n",
      "Fit spline Time: 0.0015411376953125\n",
      "logp: -0.5456669926643372 time: 0.002740144729614258 iteration: 5\n",
      "logIW3 [ 0.02360427 -0.4836256  -0.34883648  0.027592   -0.9302362  -0.19452769\n",
      " -1.007666   -0.70709634 -0.33518696 -1.4187965  -0.09210557]\n",
      "self.beta before iteration 0.0625\n",
      "beta:  1.03125\n",
      "ESS:  2\n",
      "beta:  0.546875\n",
      "ESS:  3\n",
      "beta:  0.3046875\n",
      "ESS:  4\n",
      "beta:  0.18359375\n",
      "ESS:  5\n",
      "beta:  0.123046875\n",
      "ESS:  6\n",
      "beta:  0.0927734375\n",
      "ESS:  7\n",
      "self beta 0.0927734375\n",
      "weighting fit\n",
      "After boundary transform logp: -0.4107453227043152\n",
      "Fit spline Time: 0.0013697147369384766\n",
      "logp: -0.35595187544822693 time: 0.0026254653930664062 iteration: 2\n",
      "Fit spline Time: 0.0012941360473632812\n",
      "logp: -0.3417576253414154 time: 0.0025255680084228516 iteration: 3\n",
      "Fit spline Time: 0.0012094974517822266\n",
      "logp: -0.3351367712020874 time: 0.0023314952850341797 iteration: 4\n",
      "Fit spline Time: 0.0020189285278320312\n",
      "logp: -0.33116447925567627 time: 0.0037059783935546875 iteration: 5\n"
     ]
    },
    {
     "name": "stderr",
     "output_type": "stream",
     "text": [
      "/home/richard/nfmc_jax/nfmc_jax/nfomc/infer_nfomc.py:574: FutureWarning: Using a non-tuple sequence for multidimensional indexing is deprecated; use `arr[tuple(seq)]` instead of `arr[seq]`. In the future this will be interpreted as an array index, `arr[np.array(seq)]`, which will result either in an error or a different result.\n",
      "  dlogq_w = dlogq_w[prior_mask]\n"
     ]
    },
    {
     "name": "stdout",
     "output_type": "stream",
     "text": [
      "stage:  3\n",
      "No weights in the fit. bw_uw = 1.00 bw_w\n",
      "After boundary transform logp: -0.7165685296058655\n",
      "Fit spline Time: 0.0026264190673828125\n",
      "logp: -0.5917791128158569 time: 0.004782438278198242 iteration: 2\n",
      "Fit spline Time: 0.002173900604248047\n",
      "logp: -0.5666213631629944 time: 0.004055500030517578 iteration: 3\n",
      "Fit spline Time: 0.0018432140350341797\n",
      "logp: -0.548168957233429 time: 0.004227161407470703 iteration: 4\n",
      "Fit spline Time: 0.0017075538635253906\n",
      "logp: -0.5310925245285034 time: 0.0035016536712646484 iteration: 5\n",
      "logIW3 [-0.07756454 -0.63843757 -0.38906205  0.01240814 -1.1484532  -0.36694443\n",
      " -1.2969154  -0.8365737  -0.5071234  -1.851208   -0.24572521 -0.21204859]\n",
      "self.beta before iteration 0.0927734375\n",
      "beta:  1.04638671875\n",
      "ESS:  3\n",
      "beta:  0.569580078125\n",
      "ESS:  4\n",
      "beta:  0.3311767578125\n",
      "ESS:  5\n",
      "beta:  0.21197509765625\n",
      "ESS:  6\n",
      "beta:  0.152374267578125\n",
      "ESS:  7\n",
      "self beta 0.152374267578125\n",
      "weighting fit\n",
      "After boundary transform logp: -0.33340370655059814\n",
      "Fit spline Time: 0.0014638900756835938\n",
      "logp: -0.1435299813747406 time: 0.005690336227416992 iteration: 2\n",
      "Fit spline Time: 0.006729841232299805\n",
      "logp: -0.11410021781921387 time: 0.010643482208251953 iteration: 3\n",
      "Fit spline Time: 0.009040594100952148\n",
      "logp: -0.10385331511497498 time: 0.01067209243774414 iteration: 4\n",
      "Fit spline Time: 0.0015292167663574219\n",
      "logp: -0.09801831841468811 time: 0.007921457290649414 iteration: 5\n"
     ]
    },
    {
     "name": "stderr",
     "output_type": "stream",
     "text": [
      "/home/richard/nfmc_jax/nfmc_jax/nfomc/infer_nfomc.py:574: FutureWarning: Using a non-tuple sequence for multidimensional indexing is deprecated; use `arr[tuple(seq)]` instead of `arr[seq]`. In the future this will be interpreted as an array index, `arr[np.array(seq)]`, which will result either in an error or a different result.\n",
      "  dlogq_w = dlogq_w[prior_mask]\n"
     ]
    },
    {
     "name": "stdout",
     "output_type": "stream",
     "text": [
      "stage:  4\n",
      "No weights in the fit. bw_uw = 1.00 bw_w\n",
      "After boundary transform logp: -0.679530918598175\n",
      "Fit spline Time: 0.0014271736145019531\n",
      "logp: -0.5717387795448303 time: 0.0029103755950927734 iteration: 2\n",
      "Fit spline Time: 0.0012564659118652344\n",
      "logp: -0.5439831614494324 time: 0.002497434616088867 iteration: 3\n",
      "Fit spline Time: 0.0011315345764160156\n",
      "logp: -0.5224056243896484 time: 0.0023491382598876953 iteration: 4\n",
      "Fit spline Time: 0.0015106201171875\n",
      "logp: -0.5029982328414917 time: 0.002915620803833008 iteration: 5\n",
      "logIW3 [-1.3442022e-01 -8.8131857e-01 -5.6620014e-01  9.0283155e-04\n",
      " -1.7413687e+00 -5.1712590e-01 -1.9715039e+00 -1.2162199e+00\n",
      " -6.9280481e-01 -2.8360083e+00 -3.6307138e-01 -3.1865484e-01\n",
      " -2.7732092e-01]\n",
      "self.beta before iteration 0.152374267578125\n",
      "beta:  1.0761871337890625\n",
      "ESS:  3\n",
      "beta:  0.6142807006835938\n",
      "ESS:  5\n",
      "beta:  0.3833274841308594\n",
      "ESS:  6\n",
      "beta:  0.2678508758544922\n",
      "ESS:  6\n",
      "beta:  0.2101125717163086\n",
      "ESS:  7\n",
      "self beta 0.2101125717163086\n",
      "weighting fit\n",
      "After boundary transform logp: -0.29632988572120667\n",
      "Fit spline Time: 0.0016057491302490234\n",
      "logp: 0.050560712814331055 time: 0.0029191970825195312 iteration: 2\n",
      "Fit spline Time: 0.0016903877258300781\n",
      "logp: 0.09912756085395813 time: 0.002933025360107422 iteration: 3\n",
      "Fit spline Time: 0.0014722347259521484\n",
      "logp: 0.11901980638504028 time: 0.0027239322662353516 iteration: 4\n",
      "Fit spline Time: 0.0015006065368652344\n",
      "logp: 0.13172686100006104 time: 0.0026941299438476562 iteration: 5\n"
     ]
    },
    {
     "name": "stderr",
     "output_type": "stream",
     "text": [
      "/home/richard/nfmc_jax/nfmc_jax/nfomc/infer_nfomc.py:574: FutureWarning: Using a non-tuple sequence for multidimensional indexing is deprecated; use `arr[tuple(seq)]` instead of `arr[seq]`. In the future this will be interpreted as an array index, `arr[np.array(seq)]`, which will result either in an error or a different result.\n",
      "  dlogq_w = dlogq_w[prior_mask]\n"
     ]
    },
    {
     "name": "stdout",
     "output_type": "stream",
     "text": [
      "stage:  5\n",
      "No weights in the fit. bw_uw = 1.00 bw_w\n",
      "After boundary transform logp: -0.6477864384651184\n",
      "Fit spline Time: 0.002504587173461914\n",
      "logp: -0.5458657741546631 time: 0.004091739654541016 iteration: 2\n",
      "Fit spline Time: 0.001575469970703125\n",
      "logp: -0.512365460395813 time: 0.003839731216430664 iteration: 3\n",
      "Fit spline Time: 0.0015778541564941406\n",
      "logp: -0.4857400357723236 time: 0.0030188560485839844 iteration: 4\n",
      "Fit spline Time: 0.0015156269073486328\n",
      "logp: -0.46315816044807434 time: 0.004449605941772461 iteration: 5\n",
      "logIW3 [-0.18539524 -1.0816996  -0.7253916   0.01382512 -2.3217409  -0.64718676\n",
      " -2.6350074  -1.5834107  -0.8391894  -3.7999144  -0.47301185 -0.42001897\n",
      " -0.37638235 -0.37290102]\n",
      "self.beta before iteration 0.2101125717163086\n",
      "beta:  1.1050562858581543\n",
      "ESS:  4\n",
      "beta:  0.6575844287872314\n",
      "ESS:  6\n",
      "beta:  0.43384850025177\n",
      "ESS:  6\n",
      "beta:  0.3219805359840393\n",
      "ESS:  7\n",
      "self beta 0.3219805359840393\n",
      "weighting fit\n",
      "After boundary transform logp: -0.26623037457466125\n",
      "Fit spline Time: 0.0013964176177978516\n",
      "logp: 0.3357994556427002 time: 0.002811908721923828 iteration: 2\n",
      "Fit spline Time: 0.0012912750244140625\n",
      "logp: 0.4161355495452881 time: 0.0023996829986572266 iteration: 3\n",
      "Fit spline Time: 0.0012736320495605469\n",
      "logp: 0.4510144293308258 time: 0.002824544906616211 iteration: 4\n",
      "Fit spline Time: 0.0012695789337158203\n",
      "logp: 0.4734060764312744 time: 0.002429485321044922 iteration: 5\n"
     ]
    },
    {
     "name": "stderr",
     "output_type": "stream",
     "text": [
      "/home/richard/nfmc_jax/nfmc_jax/nfomc/infer_nfomc.py:574: FutureWarning: Using a non-tuple sequence for multidimensional indexing is deprecated; use `arr[tuple(seq)]` instead of `arr[seq]`. In the future this will be interpreted as an array index, `arr[np.array(seq)]`, which will result either in an error or a different result.\n",
      "  dlogq_w = dlogq_w[prior_mask]\n"
     ]
    },
    {
     "name": "stdout",
     "output_type": "stream",
     "text": [
      "stage:  6\n",
      "No weights in the fit. bw_uw = 1.00 bw_w\n",
      "After boundary transform logp: -0.6203231811523438\n",
      "Fit spline Time: 0.0014891624450683594\n",
      "logp: -0.518013060092926 time: 0.00809025764465332 iteration: 2\n",
      "Fit spline Time: 0.0013091564178466797\n",
      "logp: -0.47674494981765747 time: 0.008233308792114258 iteration: 3\n",
      "Fit spline Time: 0.0014424324035644531\n",
      "logp: -0.44425731897354126 time: 0.015009641647338867 iteration: 4\n",
      "Fit spline Time: 0.0014183521270751953\n",
      "logp: -0.41659730672836304 time: 0.006992340087890625 iteration: 5\n",
      "logIW3 [-0.15093881 -1.5209873  -1.1373689   0.04364866 -3.6008568  -0.76690197\n",
      " -3.9964342  -2.4089947  -1.0687194  -5.739427   -0.5306752  -0.46037334\n",
      " -0.38750768 -0.39196816 -0.40307295]\n",
      "self.beta before iteration 0.3219805359840393\n",
      "beta:  1.1609902679920197\n",
      "ESS:  5\n",
      "beta:  0.7414854019880295\n",
      "ESS:  6\n",
      "beta:  0.5317329689860344\n",
      "ESS:  7\n",
      "self beta 0.5317329689860344\n",
      "weighting fit\n",
      "After boundary transform logp: -0.2487787902355194\n",
      "Fit spline Time: 0.0033762454986572266\n",
      "logp: 0.7162054181098938 time: 0.005462169647216797 iteration: 2\n",
      "Fit spline Time: 0.0016999244689941406\n",
      "logp: 0.8423933386802673 time: 0.0031828880310058594 iteration: 3\n",
      "Fit spline Time: 0.0013544559478759766\n",
      "logp: 0.8960196375846863 time: 0.0026290416717529297 iteration: 4\n",
      "Fit spline Time: 0.0013070106506347656\n",
      "logp: 0.9320704936981201 time: 0.002506256103515625 iteration: 5\n"
     ]
    },
    {
     "name": "stderr",
     "output_type": "stream",
     "text": [
      "/home/richard/nfmc_jax/nfmc_jax/nfomc/infer_nfomc.py:574: FutureWarning: Using a non-tuple sequence for multidimensional indexing is deprecated; use `arr[tuple(seq)]` instead of `arr[seq]`. In the future this will be interpreted as an array index, `arr[np.array(seq)]`, which will result either in an error or a different result.\n",
      "  dlogq_w = dlogq_w[prior_mask]\n"
     ]
    },
    {
     "name": "stdout",
     "output_type": "stream",
     "text": [
      "stage:  7\n",
      "No weights in the fit. bw_uw = 1.00 bw_w\n",
      "After boundary transform logp: -0.5963649153709412\n",
      "Fit spline Time: 0.0015637874603271484\n",
      "logp: -0.48678064346313477 time: 0.002824544906616211 iteration: 2\n",
      "Fit spline Time: 0.0013930797576904297\n",
      "logp: -0.43481871485710144 time: 0.009136676788330078 iteration: 3\n",
      "Fit spline Time: 0.0016818046569824219\n",
      "logp: -0.3945712745189667 time: 0.006769418716430664 iteration: 4\n",
      "Fit spline Time: 0.0014832019805908203\n",
      "logp: -0.36102962493896484 time: 0.0070781707763671875 iteration: 5\n",
      "logIW3 [ 0.03143966 -2.4209523  -2.0216446   0.07957822 -6.1256933  -0.88505244\n",
      " -6.6092377  -4.060711   -1.4782937  -9.430352   -0.5012562  -0.3964131\n",
      " -0.29983342 -0.30049247 -0.313451   -0.33389676]\n",
      "self.beta before iteration 0.5317329689860344\n",
      "beta:  1.2658664844930172\n",
      "ESS:  6\n",
      "beta:  0.8987997267395258\n",
      "ESS:  7\n",
      "self beta 0.8987997267395258\n",
      "weighting fit\n",
      "After boundary transform logp: -0.24059079587459564\n",
      "Fit spline Time: 0.0016756057739257812\n",
      "logp: 1.089564561843872 time: 0.003031015396118164 iteration: 2\n",
      "Fit spline Time: 0.0011777877807617188\n",
      "logp: 1.2447454929351807 time: 0.0022923946380615234 iteration: 3\n",
      "Fit spline Time: 0.0014290809631347656\n",
      "logp: 1.3147919178009033 time: 0.002869129180908203 iteration: 4\n",
      "Fit spline Time: 0.0013217926025390625\n",
      "logp: 1.357849359512329 time: 0.005810976028442383 iteration: 5\n"
     ]
    },
    {
     "name": "stderr",
     "output_type": "stream",
     "text": [
      "/home/richard/nfmc_jax/nfmc_jax/nfomc/infer_nfomc.py:574: FutureWarning: Using a non-tuple sequence for multidimensional indexing is deprecated; use `arr[tuple(seq)]` instead of `arr[seq]`. In the future this will be interpreted as an array index, `arr[np.array(seq)]`, which will result either in an error or a different result.\n",
      "  dlogq_w = dlogq_w[prior_mask]\n"
     ]
    },
    {
     "name": "stdout",
     "output_type": "stream",
     "text": [
      "stage:  8\n",
      "No weights in the fit. bw_uw = 1.00 bw_w\n",
      "After boundary transform logp: -0.5753589272499084\n",
      "Fit spline Time: 0.0016472339630126953\n",
      "logp: -0.4535475969314575 time: 0.0032694339752197266 iteration: 2\n",
      "Fit spline Time: 0.0014147758483886719\n",
      "logp: -0.3895367980003357 time: 0.003968477249145508 iteration: 3\n",
      "Fit spline Time: 0.0014579296112060547\n",
      "logp: -0.33998903632164 time: 0.002927541732788086 iteration: 4\n",
      "Fit spline Time: 0.0015981197357177734\n",
      "logp: -0.29853883385658264 time: 0.007358074188232422 iteration: 5\n",
      "logIW3 [  0.44965392  -4.0799093   -3.6714745    0.11744785 -10.669413\n",
      "  -1.0144944  -11.226354    -7.0416946   -2.2020216  -15.929039\n",
      "  -0.33712924  -0.16870397  -0.02494526  -0.01647198  -0.03970009\n",
      "  -0.07091117  -0.12954384]\n",
      "self.beta before iteration 0.8987997267395258\n",
      "beta:  1.449399863369763\n",
      "ESS:  7\n",
      "self beta 1\n",
      "weighting fit\n",
      "After boundary transform logp: -0.2400522232055664\n",
      "Fit spline Time: 0.0015773773193359375\n",
      "logp: 1.1535788774490356 time: 0.003464937210083008 iteration: 2\n",
      "Fit spline Time: 0.0015764236450195312\n",
      "logp: 1.3325620889663696 time: 0.002999544143676758 iteration: 3\n",
      "Fit spline Time: 0.0012519359588623047\n",
      "logp: 1.4220304489135742 time: 0.004084348678588867 iteration: 4\n",
      "Fit spline Time: 0.0014672279357910156\n",
      "logp: 1.4746803045272827 time: 0.0029850006103515625 iteration: 5\n"
     ]
    },
    {
     "name": "stderr",
     "output_type": "stream",
     "text": [
      "/home/richard/nfmc_jax/nfmc_jax/nfomc/infer_nfomc.py:574: FutureWarning: Using a non-tuple sequence for multidimensional indexing is deprecated; use `arr[tuple(seq)]` instead of `arr[seq]`. In the future this will be interpreted as an array index, `arr[np.array(seq)]`, which will result either in an error or a different result.\n",
      "  dlogq_w = dlogq_w[prior_mask]\n"
     ]
    },
    {
     "name": "stdout",
     "output_type": "stream",
     "text": [
      "Finished NFO ...\n"
     ]
    }
   ],
   "source": [
    "def log_like(x, mu=jnp.zeros(n), sigma=1/10*jnp.ones(n)):\n",
    "    return -0.5 * jnp.log(2 * jnp.pi * jnp.prod(sigma** 2) ) - 0.5 * jnp.dot((x - mu)**2 , (1/ (2 * sigma ** 2)))\n",
    "\n",
    "def log_prior(x):\n",
    "    return -n*jnp.log(2)\n",
    "\n",
    "trace = nfmc_jax.infer_nfomc(inference_mode='optimization',\n",
    "                             log_like_func=log_like, \n",
    "                             log_prior_func=log_prior, \n",
    "                             init_samples=init_prior, \n",
    "                             log_like_args=(), log_prior_args=(),\n",
    "                             vmap=False, parallel_backend=None, \n",
    "                               n0=n0,\n",
    "                               N=N,\n",
    "                               t_ess=t_ess,\n",
    "                               g_AF=g_AF,\n",
    "                               N_AF=aN,\n",
    "                               expl_top_AF=bN,\n",
    "                               expl_latent=cN,\n",
    "                               expl_top_qw=dN,\n",
    "                               bounds=bounds,\n",
    "                               beta_max=beta_max,\n",
    "                               nf_iter=n_iter, \n",
    "                               N_temp=25,\n",
    "                               rel_bw=rel_bw,\n",
    "                               rel_beta=rel_beta,\n",
    "                               frac_rel_beta_AF = frac_rel_beta_AF,\n",
    "                               latent_sigma=latent_sigma,\n",
    "                               use_latent_beta2=use_latent_beta2,\n",
    "                               use_pq_beta_IW1=use_pq_beta_IW1,\n",
    "                               #chains=1, \n",
    "                               k_trunc=ktrunc,\n",
    "                               #sinf parameters\n",
    "                               frac_validate=0.0,\n",
    "                               alpha_w=alpha_w,\n",
    "                               alpha_uw=alpha_uw,\n",
    "                               NBfirstlayer=True, \n",
    "                               verbose=True,interp_nbin=knots,iteration=layers,\n",
    "                               bw_factor_min=bw,bw_factor_max=bw,bw_factor_num=1, #manually force bw factor\n",
    "                               trainable_qw=trainable_qw,\n",
    "                               sgd_steps=sgd_steps,\n",
    "                               knots_trainable=knots_trainable,\n",
    "                               random_seed=seed\n",
    "#                              n0=20, iteration=5, aN=100, bN=10, num_local=2,\n",
    "#                             nfmc_samples=10, nf_iter=10, k_trunc=0.5, ess_tol=1.0\n",
    "                            )"
   ]
  },
  {
   "cell_type": "markdown",
   "id": "79ec3c27",
   "metadata": {},
   "source": [
    "# 2D double Gaussian example"
   ]
  },
  {
   "cell_type": "code",
   "execution_count": null,
   "id": "0a3e4d5b",
   "metadata": {},
   "outputs": [],
   "source": [
    "key = jax.random.PRNGKey(100)\n",
    "prior_samples = jax.random.multivariate_normal(key, mean=jnp.array([0.0, 0.0]), \n",
    "                                               cov=100 * jnp.eye(2), shape=(20,))\n",
    "prior_samples.shape[1]\n",
    "\n",
    "n=2\n",
    "#shift the peaks to be in between the samples - diagonals\n",
    "mu1 = jnp.ones(n) * 0.625 # #2(.25)\n",
    "mu2 = jnp.ones(n) * -0.325 # #2(-.375)\n",
    "\n",
    "scale_stdev = 1 #4\n",
    "stdev = 0.1 / scale_stdev\n",
    "sigma = jnp.power(stdev, 2) * jnp.eye(n)\n",
    "isigma = jnp.linalg.inv(sigma)\n",
    "dsigma = jnp.linalg.det(sigma)\n",
    "\n",
    "w1 = 0.3  # one mode with 0.3 of the mass \n",
    "w2 = 1 - w1  # the other mode with 0.7 of the mass\n",
    "\n",
    "def log_like(x):\n",
    "    log_like1 = jax.scipy.stats.multivariate_normal.logpdf(x, mu1, sigma)\n",
    "    log_like2 = jax.scipy.stats.multivariate_normal.logpdf(x, mu2, sigma)\n",
    "    return logsumexp(jnp.array([jnp.log(w1) + log_like1, jnp.log(w2) + log_like2]), axis=0)\n",
    "\n",
    "def log_prior(x, mu=jnp.zeros(2), cov=100 * jnp.eye(2)):\n",
    "    return jax.scipy.stats.multivariate_normal.logpdf(x, mu, cov)"
   ]
  },
  {
   "cell_type": "code",
   "execution_count": null,
   "id": "6ca680fd",
   "metadata": {},
   "outputs": [],
   "source": [
    "trace = nfmc_jax.sample_nfo(log_like, log_prior, prior_samples, log_like_args=(), \n",
    "                            log_prior_args=(jnp.zeros(2), 100 * jnp.eye(2)),\n",
    "                            vmap=True, parallel_backend=None, n0=20, iteration=5, aN=100, bN=10, num_local=2,\n",
    "                            nfmc_samples=20, nf_iter=10, k_trunc=0.5, ess_tol=1.0)"
   ]
  },
  {
   "cell_type": "code",
   "execution_count": null,
   "id": "23145792",
   "metadata": {},
   "outputs": [],
   "source": [
    "sns.kdeplot(x=trace['posterior'][0][:,0], y=trace['posterior'][0][:,1],\n",
    "            weights=trace['posterior_weights'][0])"
   ]
  },
  {
   "cell_type": "markdown",
   "id": "c974a56e",
   "metadata": {},
   "source": [
    "# Prior samples sanity check ..."
   ]
  },
  {
   "cell_type": "code",
   "execution_count": null,
   "id": "74969195",
   "metadata": {},
   "outputs": [],
   "source": [
    "n=1\n",
    "n_iter=1 #sinf iterations \n",
    "n_prior = 10#number of sobol points\n",
    "n_samples = n_prior #not used explicitly\n",
    "n0=n_prior\n",
    "N=n_samples\n",
    "#get sobol sequence for initial samples\n",
    "low,high=-1.0,1.0\n",
    "dist1d = chaospy.Iid(chaospy.Uniform(lower=low,upper=high),n)\n",
    "init_prior=dist1d\n",
    "init_prior = np.atleast_2d(dist1d.sample(n_prior,rule='sobol')).T\n",
    "# init_prior=None\n",
    "transform=None#'ahh'#'ahh' #turn off pymc3 transform \n",
    "if(transform is not None):\n",
    "    trname='t'\n",
    "    #logit( (x-a) / (b-a) )\n",
    "    init_prior = None#inv_logit(init_prior,low,high)#logit((init_prior-low) /(high-low))\n",
    "else:\n",
    "    trname='nt'\n",
    "knots=None#100 #default None\n",
    "bw=0.5#None#1.#None#0.5#1. #default 2.0\n",
    "redraw=False #don't redraw samples at every iteration, my local change\n",
    "layers=2\n",
    "ktrunc=np.inf #currently SKIPPING\n",
    "bw_use_pq=True #whether to use pq loss in determining bw\n",
    "t_ess=0.5\n",
    "g_AF=1\n",
    "aN=int(2*N)#10\n",
    "bN=1#2#int(N/2)\n",
    "beta_max=1.0"
   ]
  },
  {
   "cell_type": "code",
   "execution_count": null,
   "id": "9c23a8c1",
   "metadata": {},
   "outputs": [],
   "source": [
    "print(np.shape(init_prior))"
   ]
  },
  {
   "cell_type": "code",
   "execution_count": null,
   "id": "88431ece",
   "metadata": {},
   "outputs": [],
   "source": []
  }
 ],
 "metadata": {
  "kernelspec": {
   "display_name": "Python 3",
   "language": "python",
   "name": "python3"
  },
  "language_info": {
   "codemirror_mode": {
    "name": "ipython",
    "version": 3
   },
   "file_extension": ".py",
   "mimetype": "text/x-python",
   "name": "python",
   "nbconvert_exporter": "python",
   "pygments_lexer": "ipython3",
   "version": "3.9.4"
  }
 },
 "nbformat": 4,
 "nbformat_minor": 5
}
